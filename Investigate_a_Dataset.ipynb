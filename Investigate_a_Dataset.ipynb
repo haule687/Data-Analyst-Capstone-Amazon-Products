{
 "cells": [
  {
   "cell_type": "markdown",
   "metadata": {},
   "source": [
    "\n",
    "# Project: Investigate a Dataset - [Amazon_product_data]\n",
    "\n",
    "## Table of Contents\n",
    "<ul>\n",
    "<li><a href=\"#intro\">Introduction</a></li>\n",
    "<li><a href=\"#question\">Questions</a></li>\n",
    "<li><a href=\"#wrangling\">Data Wrangling</a></li>\n",
    "<li><a href=\"#eda\">Exploratory Data Analysis</a></li>\n",
    "<li><a href=\"#conclusions\">Conclusions</a></li>\n",
    "<li><a href=\"#limit\">Limitation</a></li>\n",
    "</ul>"
   ]
  },
  {
   "cell_type": "markdown",
   "metadata": {},
   "source": [
    "<a id='intro'></a>\n",
    "## Introduction\n",
    "\n",
    "### Dataset Description \n",
    "\n",
    "\n",
    "#### Dataset Overview\n",
    "<ul>\n",
    "<li>This dataset contains information about 10,000 movies collected from the Movie Database (TMDb).</li>\n",
    "<li>The dataset includes user ratings and revenue information for each movie.</li>\n",
    "<li>Certain columns, such as 'cast' and 'genres', contain multiple values separated by pipe (|) characters. These columns likely list the cast and genres associated with each movie.</li>\n",
    "<li>The 'cast' column may contain odd characters, and it's mentioned that there is no need to clean them.</li>\n",
    "</ul>\n",
    "\n",
    "#### Columns in the Dataset:\n",
    "1. `product_id`: A unique identifier for each product.\n",
    "2. `product_name`: Name of the Product.\n",
    "3. `category`: Category of the Product.\n",
    "4. `discounted_price`: Discounted Price of the Product.\n",
    "5. `actual_price`: Actual Price of the Product.\n",
    "6. `discount_percentage`: Percentage of Discount for the Product.\n",
    "7. `rating`: Rating of the Product.\n",
    "8. `rating_count`: Number of people who voted for the Amazon rating.\n",
    "9. `about_product`: Description about the Product.\n",
    "10. `user_id`: ID of the user who wrote review for the Product.\n",
    "11. `user_name`: Name of the user who wrote review for the Product.\n",
    "12. `review_id`: ID of the user review.\n",
    "13. `review_title`: Short review.\n",
    "14. `review_content`: Long review.\n",
    "15. `img_link`: Image Link of the Product.\n",
    "16. `product_link`: Official Website Link of the Product\n",
    "\n",
    "<a id='question'></a>\n",
    "## Question(s) for Analysis\n",
    "1. Is there a relationship between discount percentage and average product rating ?\n",
    "2. Do products with more reviews have higher or lower average ratings?\n",
    "3. Do higher-priced products receive better ratings than lower-priced ones?\n",
    "4. Do Products with Positive Sentiment in Reviews Have Higher Ratings?\n",
    "5. Which Categories of Products Receive the Highest or Lowest Ratings?"
   ]
  },
  {
   "cell_type": "code",
   "execution_count": 1,
   "metadata": {},
   "outputs": [],
   "source": [
    "# import numpy, pandas, matplotlib, and seaborn\n",
    "import numpy as np\n",
    "import pandas as pd\n",
    "import matplotlib.pyplot as plt\n",
    "from textblob import TextBlob\n",
    "from nltk.sentiment.vader import SentimentIntensityAnalyzer\n",
    "import seaborn as sns\n",
    "import nltk\n",
    "from scipy import stats\n",
    "%matplotlib inline"
   ]
  },
  {
   "cell_type": "code",
   "execution_count": 2,
   "metadata": {},
   "outputs": [],
   "source": [
    "# Upgrade pandas to use dataframe.explode() function. \n",
    "#!pip install --upgrade pandas==0.25.1"
   ]
  },
  {
   "cell_type": "markdown",
   "metadata": {},
   "source": [
    "<a id='wrangling'></a>\n",
    "## Data Wrangling\n",
    "\n",
    "### General Properties"
   ]
  },
  {
   "cell_type": "code",
   "execution_count": 3,
   "metadata": {
    "scrolled": true
   },
   "outputs": [],
   "source": [
    "# load datasets from tmdb-movies.csv file\n",
    "df = pd.read_csv(\"data/amazon.csv\")"
   ]
  },
  {
   "cell_type": "code",
   "execution_count": 4,
   "metadata": {},
   "outputs": [],
   "source": [
    "#Create a temp dataset named df2\n",
    "df2 = df.copy()"
   ]
  },
  {
   "cell_type": "code",
   "execution_count": 5,
   "metadata": {},
   "outputs": [
    {
     "data": {
      "text/html": [
       "<div>\n",
       "<style scoped>\n",
       "    .dataframe tbody tr th:only-of-type {\n",
       "        vertical-align: middle;\n",
       "    }\n",
       "\n",
       "    .dataframe tbody tr th {\n",
       "        vertical-align: top;\n",
       "    }\n",
       "\n",
       "    .dataframe thead th {\n",
       "        text-align: right;\n",
       "    }\n",
       "</style>\n",
       "<table border=\"1\" class=\"dataframe\">\n",
       "  <thead>\n",
       "    <tr style=\"text-align: right;\">\n",
       "      <th></th>\n",
       "      <th>product_id</th>\n",
       "      <th>product_name</th>\n",
       "      <th>category</th>\n",
       "      <th>discounted_price</th>\n",
       "      <th>actual_price</th>\n",
       "      <th>discount_percentage</th>\n",
       "      <th>rating</th>\n",
       "      <th>rating_count</th>\n",
       "      <th>about_product</th>\n",
       "      <th>user_id</th>\n",
       "      <th>user_name</th>\n",
       "      <th>review_id</th>\n",
       "      <th>review_title</th>\n",
       "      <th>review_content</th>\n",
       "      <th>img_link</th>\n",
       "      <th>product_link</th>\n",
       "    </tr>\n",
       "  </thead>\n",
       "  <tbody>\n",
       "    <tr>\n",
       "      <th>0</th>\n",
       "      <td>B07JW9H4J1</td>\n",
       "      <td>Wayona Nylon Braided USB to Lightning Fast Cha...</td>\n",
       "      <td>Computers&amp;Accessories|Accessories&amp;Peripherals|...</td>\n",
       "      <td>₹399</td>\n",
       "      <td>₹1,099</td>\n",
       "      <td>64%</td>\n",
       "      <td>4.2</td>\n",
       "      <td>24,269</td>\n",
       "      <td>High Compatibility : Compatible With iPhone 12...</td>\n",
       "      <td>AG3D6O4STAQKAY2UVGEUV46KN35Q,AHMY5CWJMMK5BJRBB...</td>\n",
       "      <td>Manav,Adarsh gupta,Sundeep,S.Sayeed Ahmed,jasp...</td>\n",
       "      <td>R3HXWT0LRP0NMF,R2AJM3LFTLZHFO,R6AQJGUP6P86,R1K...</td>\n",
       "      <td>Satisfied,Charging is really fast,Value for mo...</td>\n",
       "      <td>Looks durable Charging is fine tooNo complains...</td>\n",
       "      <td>https://m.media-amazon.com/images/W/WEBP_40237...</td>\n",
       "      <td>https://www.amazon.in/Wayona-Braided-WN3LG1-Sy...</td>\n",
       "    </tr>\n",
       "    <tr>\n",
       "      <th>1</th>\n",
       "      <td>B098NS6PVG</td>\n",
       "      <td>Ambrane Unbreakable 60W / 3A Fast Charging 1.5...</td>\n",
       "      <td>Computers&amp;Accessories|Accessories&amp;Peripherals|...</td>\n",
       "      <td>₹199</td>\n",
       "      <td>₹349</td>\n",
       "      <td>43%</td>\n",
       "      <td>4.0</td>\n",
       "      <td>43,994</td>\n",
       "      <td>Compatible with all Type C enabled devices, be...</td>\n",
       "      <td>AECPFYFQVRUWC3KGNLJIOREFP5LQ,AGYYVPDD7YG7FYNBX...</td>\n",
       "      <td>ArdKn,Nirbhay kumar,Sagar Viswanathan,Asp,Plac...</td>\n",
       "      <td>RGIQEG07R9HS2,R1SMWZQ86XIN8U,R2J3Y1WL29GWDE,RY...</td>\n",
       "      <td>A Good Braided Cable for Your Type C Device,Go...</td>\n",
       "      <td>I ordered this cable to connect my phone to An...</td>\n",
       "      <td>https://m.media-amazon.com/images/W/WEBP_40237...</td>\n",
       "      <td>https://www.amazon.in/Ambrane-Unbreakable-Char...</td>\n",
       "    </tr>\n",
       "    <tr>\n",
       "      <th>2</th>\n",
       "      <td>B096MSW6CT</td>\n",
       "      <td>Sounce Fast Phone Charging Cable &amp; Data Sync U...</td>\n",
       "      <td>Computers&amp;Accessories|Accessories&amp;Peripherals|...</td>\n",
       "      <td>₹199</td>\n",
       "      <td>₹1,899</td>\n",
       "      <td>90%</td>\n",
       "      <td>3.9</td>\n",
       "      <td>7,928</td>\n",
       "      <td>【 Fast Charger&amp; Data Sync】-With built-in safet...</td>\n",
       "      <td>AGU3BBQ2V2DDAMOAKGFAWDDQ6QHA,AESFLDV2PT363T2AQ...</td>\n",
       "      <td>Kunal,Himanshu,viswanath,sai niharka,saqib mal...</td>\n",
       "      <td>R3J3EQQ9TZI5ZJ,R3E7WBGK7ID0KV,RWU79XKQ6I1QF,R2...</td>\n",
       "      <td>Good speed for earlier versions,Good Product,W...</td>\n",
       "      <td>Not quite durable and sturdy,https://m.media-a...</td>\n",
       "      <td>https://m.media-amazon.com/images/W/WEBP_40237...</td>\n",
       "      <td>https://www.amazon.in/Sounce-iPhone-Charging-C...</td>\n",
       "    </tr>\n",
       "    <tr>\n",
       "      <th>3</th>\n",
       "      <td>B08HDJ86NZ</td>\n",
       "      <td>boAt Deuce USB 300 2 in 1 Type-C &amp; Micro USB S...</td>\n",
       "      <td>Computers&amp;Accessories|Accessories&amp;Peripherals|...</td>\n",
       "      <td>₹329</td>\n",
       "      <td>₹699</td>\n",
       "      <td>53%</td>\n",
       "      <td>4.2</td>\n",
       "      <td>94,363</td>\n",
       "      <td>The boAt Deuce USB 300 2 in 1 cable is compati...</td>\n",
       "      <td>AEWAZDZZJLQUYVOVGBEUKSLXHQ5A,AG5HTSFRRE6NL3M5S...</td>\n",
       "      <td>Omkar dhale,JD,HEMALATHA,Ajwadh a.,amar singh ...</td>\n",
       "      <td>R3EEUZKKK9J36I,R3HJVYCLYOY554,REDECAZ7AMPQC,R1...</td>\n",
       "      <td>Good product,Good one,Nice,Really nice product...</td>\n",
       "      <td>Good product,long wire,Charges good,Nice,I bou...</td>\n",
       "      <td>https://m.media-amazon.com/images/I/41V5FtEWPk...</td>\n",
       "      <td>https://www.amazon.in/Deuce-300-Resistant-Tang...</td>\n",
       "    </tr>\n",
       "    <tr>\n",
       "      <th>4</th>\n",
       "      <td>B08CF3B7N1</td>\n",
       "      <td>Portronics Konnect L 1.2M Fast Charging 3A 8 P...</td>\n",
       "      <td>Computers&amp;Accessories|Accessories&amp;Peripherals|...</td>\n",
       "      <td>₹154</td>\n",
       "      <td>₹399</td>\n",
       "      <td>61%</td>\n",
       "      <td>4.2</td>\n",
       "      <td>16,905</td>\n",
       "      <td>[CHARGE &amp; SYNC FUNCTION]- This cable comes wit...</td>\n",
       "      <td>AE3Q6KSUK5P75D5HFYHCRAOLODSA,AFUGIFH5ZAFXRDSZH...</td>\n",
       "      <td>rahuls6099,Swasat Borah,Ajay Wadke,Pranali,RVK...</td>\n",
       "      <td>R1BP4L2HH9TFUP,R16PVJEXKV6QZS,R2UPDB81N66T4P,R...</td>\n",
       "      <td>As good as original,Decent,Good one for second...</td>\n",
       "      <td>Bought this instead of original apple, does th...</td>\n",
       "      <td>https://m.media-amazon.com/images/W/WEBP_40237...</td>\n",
       "      <td>https://www.amazon.in/Portronics-Konnect-POR-1...</td>\n",
       "    </tr>\n",
       "  </tbody>\n",
       "</table>\n",
       "</div>"
      ],
      "text/plain": [
       "   product_id                                       product_name  \\\n",
       "0  B07JW9H4J1  Wayona Nylon Braided USB to Lightning Fast Cha...   \n",
       "1  B098NS6PVG  Ambrane Unbreakable 60W / 3A Fast Charging 1.5...   \n",
       "2  B096MSW6CT  Sounce Fast Phone Charging Cable & Data Sync U...   \n",
       "3  B08HDJ86NZ  boAt Deuce USB 300 2 in 1 Type-C & Micro USB S...   \n",
       "4  B08CF3B7N1  Portronics Konnect L 1.2M Fast Charging 3A 8 P...   \n",
       "\n",
       "                                            category discounted_price  \\\n",
       "0  Computers&Accessories|Accessories&Peripherals|...             ₹399   \n",
       "1  Computers&Accessories|Accessories&Peripherals|...             ₹199   \n",
       "2  Computers&Accessories|Accessories&Peripherals|...             ₹199   \n",
       "3  Computers&Accessories|Accessories&Peripherals|...             ₹329   \n",
       "4  Computers&Accessories|Accessories&Peripherals|...             ₹154   \n",
       "\n",
       "  actual_price discount_percentage rating rating_count  \\\n",
       "0       ₹1,099                 64%    4.2       24,269   \n",
       "1         ₹349                 43%    4.0       43,994   \n",
       "2       ₹1,899                 90%    3.9        7,928   \n",
       "3         ₹699                 53%    4.2       94,363   \n",
       "4         ₹399                 61%    4.2       16,905   \n",
       "\n",
       "                                       about_product  \\\n",
       "0  High Compatibility : Compatible With iPhone 12...   \n",
       "1  Compatible with all Type C enabled devices, be...   \n",
       "2  【 Fast Charger& Data Sync】-With built-in safet...   \n",
       "3  The boAt Deuce USB 300 2 in 1 cable is compati...   \n",
       "4  [CHARGE & SYNC FUNCTION]- This cable comes wit...   \n",
       "\n",
       "                                             user_id  \\\n",
       "0  AG3D6O4STAQKAY2UVGEUV46KN35Q,AHMY5CWJMMK5BJRBB...   \n",
       "1  AECPFYFQVRUWC3KGNLJIOREFP5LQ,AGYYVPDD7YG7FYNBX...   \n",
       "2  AGU3BBQ2V2DDAMOAKGFAWDDQ6QHA,AESFLDV2PT363T2AQ...   \n",
       "3  AEWAZDZZJLQUYVOVGBEUKSLXHQ5A,AG5HTSFRRE6NL3M5S...   \n",
       "4  AE3Q6KSUK5P75D5HFYHCRAOLODSA,AFUGIFH5ZAFXRDSZH...   \n",
       "\n",
       "                                           user_name  \\\n",
       "0  Manav,Adarsh gupta,Sundeep,S.Sayeed Ahmed,jasp...   \n",
       "1  ArdKn,Nirbhay kumar,Sagar Viswanathan,Asp,Plac...   \n",
       "2  Kunal,Himanshu,viswanath,sai niharka,saqib mal...   \n",
       "3  Omkar dhale,JD,HEMALATHA,Ajwadh a.,amar singh ...   \n",
       "4  rahuls6099,Swasat Borah,Ajay Wadke,Pranali,RVK...   \n",
       "\n",
       "                                           review_id  \\\n",
       "0  R3HXWT0LRP0NMF,R2AJM3LFTLZHFO,R6AQJGUP6P86,R1K...   \n",
       "1  RGIQEG07R9HS2,R1SMWZQ86XIN8U,R2J3Y1WL29GWDE,RY...   \n",
       "2  R3J3EQQ9TZI5ZJ,R3E7WBGK7ID0KV,RWU79XKQ6I1QF,R2...   \n",
       "3  R3EEUZKKK9J36I,R3HJVYCLYOY554,REDECAZ7AMPQC,R1...   \n",
       "4  R1BP4L2HH9TFUP,R16PVJEXKV6QZS,R2UPDB81N66T4P,R...   \n",
       "\n",
       "                                        review_title  \\\n",
       "0  Satisfied,Charging is really fast,Value for mo...   \n",
       "1  A Good Braided Cable for Your Type C Device,Go...   \n",
       "2  Good speed for earlier versions,Good Product,W...   \n",
       "3  Good product,Good one,Nice,Really nice product...   \n",
       "4  As good as original,Decent,Good one for second...   \n",
       "\n",
       "                                      review_content  \\\n",
       "0  Looks durable Charging is fine tooNo complains...   \n",
       "1  I ordered this cable to connect my phone to An...   \n",
       "2  Not quite durable and sturdy,https://m.media-a...   \n",
       "3  Good product,long wire,Charges good,Nice,I bou...   \n",
       "4  Bought this instead of original apple, does th...   \n",
       "\n",
       "                                            img_link  \\\n",
       "0  https://m.media-amazon.com/images/W/WEBP_40237...   \n",
       "1  https://m.media-amazon.com/images/W/WEBP_40237...   \n",
       "2  https://m.media-amazon.com/images/W/WEBP_40237...   \n",
       "3  https://m.media-amazon.com/images/I/41V5FtEWPk...   \n",
       "4  https://m.media-amazon.com/images/W/WEBP_40237...   \n",
       "\n",
       "                                        product_link  \n",
       "0  https://www.amazon.in/Wayona-Braided-WN3LG1-Sy...  \n",
       "1  https://www.amazon.in/Ambrane-Unbreakable-Char...  \n",
       "2  https://www.amazon.in/Sounce-iPhone-Charging-C...  \n",
       "3  https://www.amazon.in/Deuce-300-Resistant-Tang...  \n",
       "4  https://www.amazon.in/Portronics-Konnect-POR-1...  "
      ]
     },
     "execution_count": 5,
     "metadata": {},
     "output_type": "execute_result"
    }
   ],
   "source": [
    "# view the first 5 rows of the dataset\n",
    "df.head()"
   ]
  },
  {
   "cell_type": "code",
   "execution_count": 6,
   "metadata": {},
   "outputs": [
    {
     "data": {
      "text/plain": [
       "(1465, 16)"
      ]
     },
     "execution_count": 6,
     "metadata": {},
     "output_type": "execute_result"
    }
   ],
   "source": [
    "#view dimensions of dataset\n",
    "df.shape"
   ]
  },
  {
   "cell_type": "markdown",
   "metadata": {},
   "source": [
    "The number of samples in the dataset is 1465, The number of columns in the dataset is 16"
   ]
  },
  {
   "cell_type": "code",
   "execution_count": 7,
   "metadata": {},
   "outputs": [
    {
     "name": "stdout",
     "output_type": "stream",
     "text": [
      "<class 'pandas.core.frame.DataFrame'>\n",
      "RangeIndex: 1465 entries, 0 to 1464\n",
      "Data columns (total 16 columns):\n",
      " #   Column               Non-Null Count  Dtype \n",
      "---  ------               --------------  ----- \n",
      " 0   product_id           1465 non-null   object\n",
      " 1   product_name         1465 non-null   object\n",
      " 2   category             1465 non-null   object\n",
      " 3   discounted_price     1465 non-null   object\n",
      " 4   actual_price         1465 non-null   object\n",
      " 5   discount_percentage  1465 non-null   object\n",
      " 6   rating               1465 non-null   object\n",
      " 7   rating_count         1463 non-null   object\n",
      " 8   about_product        1465 non-null   object\n",
      " 9   user_id              1465 non-null   object\n",
      " 10  user_name            1465 non-null   object\n",
      " 11  review_id            1465 non-null   object\n",
      " 12  review_title         1465 non-null   object\n",
      " 13  review_content       1465 non-null   object\n",
      " 14  img_link             1465 non-null   object\n",
      " 15  product_link         1465 non-null   object\n",
      "dtypes: object(16)\n",
      "memory usage: 183.2+ KB\n"
     ]
    }
   ],
   "source": [
    "#explore the dataset, checking for the missing value of each column.\n",
    "df.info()"
   ]
  },
  {
   "cell_type": "markdown",
   "metadata": {},
   "source": [
    "There is no null data in this dataset."
   ]
  },
  {
   "cell_type": "code",
   "execution_count": 8,
   "metadata": {},
   "outputs": [
    {
     "data": {
      "text/plain": [
       "product_id             object\n",
       "product_name           object\n",
       "category               object\n",
       "discounted_price       object\n",
       "actual_price           object\n",
       "discount_percentage    object\n",
       "rating                 object\n",
       "rating_count           object\n",
       "about_product          object\n",
       "user_id                object\n",
       "user_name              object\n",
       "review_id              object\n",
       "review_title           object\n",
       "review_content         object\n",
       "img_link               object\n",
       "product_link           object\n",
       "dtype: object"
      ]
     },
     "execution_count": 8,
     "metadata": {},
     "output_type": "execute_result"
    }
   ],
   "source": [
    "#view the datatype of each column\n",
    "df.dtypes"
   ]
  },
  {
   "cell_type": "code",
   "execution_count": 9,
   "metadata": {},
   "outputs": [
    {
     "data": {
      "text/plain": [
       "product_id             1351\n",
       "product_name           1337\n",
       "category                211\n",
       "discounted_price        550\n",
       "actual_price            449\n",
       "discount_percentage      92\n",
       "rating                   28\n",
       "rating_count           1143\n",
       "about_product          1293\n",
       "user_id                1194\n",
       "user_name              1194\n",
       "review_id              1194\n",
       "review_title           1194\n",
       "review_content         1212\n",
       "img_link               1412\n",
       "product_link           1465\n",
       "dtype: int64"
      ]
     },
     "execution_count": 9,
     "metadata": {},
     "output_type": "execute_result"
    }
   ],
   "source": [
    "#Show how many unique values are there in each columns.\n",
    "df.nunique()"
   ]
  },
  {
   "cell_type": "code",
   "execution_count": 10,
   "metadata": {},
   "outputs": [
    {
     "data": {
      "text/plain": [
       "0"
      ]
     },
     "execution_count": 10,
     "metadata": {},
     "output_type": "execute_result"
    }
   ],
   "source": [
    "#check whether the dataset has duplicated row\n",
    "sum(df.duplicated())"
   ]
  },
  {
   "cell_type": "markdown",
   "metadata": {},
   "source": [
    "There is 0 duplicate row in the dataset"
   ]
  },
  {
   "cell_type": "code",
   "execution_count": 11,
   "metadata": {},
   "outputs": [
    {
     "data": {
      "text/plain": [
       "product_id             0\n",
       "product_name           0\n",
       "category               0\n",
       "discounted_price       0\n",
       "actual_price           0\n",
       "discount_percentage    0\n",
       "rating                 0\n",
       "rating_count           2\n",
       "about_product          0\n",
       "user_id                0\n",
       "user_name              0\n",
       "review_id              0\n",
       "review_title           0\n",
       "review_content         0\n",
       "img_link               0\n",
       "product_link           0\n",
       "dtype: int64"
      ]
     },
     "execution_count": 11,
     "metadata": {},
     "output_type": "execute_result"
    }
   ],
   "source": [
    "#show the null rows in each column\n",
    "df.isnull().sum()"
   ]
  },
  {
   "cell_type": "code",
   "execution_count": 12,
   "metadata": {},
   "outputs": [
    {
     "data": {
      "text/html": [
       "<div>\n",
       "<style scoped>\n",
       "    .dataframe tbody tr th:only-of-type {\n",
       "        vertical-align: middle;\n",
       "    }\n",
       "\n",
       "    .dataframe tbody tr th {\n",
       "        vertical-align: top;\n",
       "    }\n",
       "\n",
       "    .dataframe thead th {\n",
       "        text-align: right;\n",
       "    }\n",
       "</style>\n",
       "<table border=\"1\" class=\"dataframe\">\n",
       "  <thead>\n",
       "    <tr style=\"text-align: right;\">\n",
       "      <th></th>\n",
       "      <th>product_id</th>\n",
       "      <th>product_name</th>\n",
       "      <th>category</th>\n",
       "      <th>discounted_price</th>\n",
       "      <th>actual_price</th>\n",
       "      <th>discount_percentage</th>\n",
       "      <th>rating</th>\n",
       "      <th>rating_count</th>\n",
       "      <th>about_product</th>\n",
       "      <th>user_id</th>\n",
       "      <th>user_name</th>\n",
       "      <th>review_id</th>\n",
       "      <th>review_title</th>\n",
       "      <th>review_content</th>\n",
       "      <th>img_link</th>\n",
       "      <th>product_link</th>\n",
       "    </tr>\n",
       "  </thead>\n",
       "  <tbody>\n",
       "    <tr>\n",
       "      <th>count</th>\n",
       "      <td>1465</td>\n",
       "      <td>1465</td>\n",
       "      <td>1465</td>\n",
       "      <td>1465</td>\n",
       "      <td>1465</td>\n",
       "      <td>1465</td>\n",
       "      <td>1465</td>\n",
       "      <td>1463</td>\n",
       "      <td>1465</td>\n",
       "      <td>1465</td>\n",
       "      <td>1465</td>\n",
       "      <td>1465</td>\n",
       "      <td>1465</td>\n",
       "      <td>1465</td>\n",
       "      <td>1465</td>\n",
       "      <td>1465</td>\n",
       "    </tr>\n",
       "    <tr>\n",
       "      <th>unique</th>\n",
       "      <td>1351</td>\n",
       "      <td>1337</td>\n",
       "      <td>211</td>\n",
       "      <td>550</td>\n",
       "      <td>449</td>\n",
       "      <td>92</td>\n",
       "      <td>28</td>\n",
       "      <td>1143</td>\n",
       "      <td>1293</td>\n",
       "      <td>1194</td>\n",
       "      <td>1194</td>\n",
       "      <td>1194</td>\n",
       "      <td>1194</td>\n",
       "      <td>1212</td>\n",
       "      <td>1412</td>\n",
       "      <td>1465</td>\n",
       "    </tr>\n",
       "    <tr>\n",
       "      <th>top</th>\n",
       "      <td>B07JW9H4J1</td>\n",
       "      <td>Fire-Boltt Ninja Call Pro Plus 1.83\" Smart Wat...</td>\n",
       "      <td>Computers&amp;Accessories|Accessories&amp;Peripherals|...</td>\n",
       "      <td>₹199</td>\n",
       "      <td>₹999</td>\n",
       "      <td>50%</td>\n",
       "      <td>4.1</td>\n",
       "      <td>9,378</td>\n",
       "      <td>[CHARGE &amp; SYNC FUNCTION]- This cable comes wit...</td>\n",
       "      <td>AHIKJUDTVJ4T6DV6IUGFYZ5LXMPA,AE55KTFVNXYFD5FPY...</td>\n",
       "      <td>$@|\\|TO$|-|,Sethu madhav,Akash Thakur,Burger P...</td>\n",
       "      <td>R3F4T5TRYPTMIG,R3DQIEC603E7AY,R1O4Z15FD40PV5,R...</td>\n",
       "      <td>Worked on iPhone 7 and didn’t work on XR,Good ...</td>\n",
       "      <td>I am not big on camera usage, personally. I wa...</td>\n",
       "      <td>https://m.media-amazon.com/images/I/413sCRKobN...</td>\n",
       "      <td>https://www.amazon.in/Wayona-Braided-WN3LG1-Sy...</td>\n",
       "    </tr>\n",
       "    <tr>\n",
       "      <th>freq</th>\n",
       "      <td>3</td>\n",
       "      <td>5</td>\n",
       "      <td>233</td>\n",
       "      <td>53</td>\n",
       "      <td>120</td>\n",
       "      <td>56</td>\n",
       "      <td>244</td>\n",
       "      <td>9</td>\n",
       "      <td>6</td>\n",
       "      <td>10</td>\n",
       "      <td>10</td>\n",
       "      <td>10</td>\n",
       "      <td>10</td>\n",
       "      <td>8</td>\n",
       "      <td>3</td>\n",
       "      <td>1</td>\n",
       "    </tr>\n",
       "  </tbody>\n",
       "</table>\n",
       "</div>"
      ],
      "text/plain": [
       "        product_id                                       product_name  \\\n",
       "count         1465                                               1465   \n",
       "unique        1351                                               1337   \n",
       "top     B07JW9H4J1  Fire-Boltt Ninja Call Pro Plus 1.83\" Smart Wat...   \n",
       "freq             3                                                  5   \n",
       "\n",
       "                                                 category discounted_price  \\\n",
       "count                                                1465             1465   \n",
       "unique                                                211              550   \n",
       "top     Computers&Accessories|Accessories&Peripherals|...             ₹199   \n",
       "freq                                                  233               53   \n",
       "\n",
       "       actual_price discount_percentage rating rating_count  \\\n",
       "count          1465                1465   1465         1463   \n",
       "unique          449                  92     28         1143   \n",
       "top            ₹999                 50%    4.1        9,378   \n",
       "freq            120                  56    244            9   \n",
       "\n",
       "                                            about_product  \\\n",
       "count                                                1465   \n",
       "unique                                               1293   \n",
       "top     [CHARGE & SYNC FUNCTION]- This cable comes wit...   \n",
       "freq                                                    6   \n",
       "\n",
       "                                                  user_id  \\\n",
       "count                                                1465   \n",
       "unique                                               1194   \n",
       "top     AHIKJUDTVJ4T6DV6IUGFYZ5LXMPA,AE55KTFVNXYFD5FPY...   \n",
       "freq                                                   10   \n",
       "\n",
       "                                                user_name  \\\n",
       "count                                                1465   \n",
       "unique                                               1194   \n",
       "top     $@|\\|TO$|-|,Sethu madhav,Akash Thakur,Burger P...   \n",
       "freq                                                   10   \n",
       "\n",
       "                                                review_id  \\\n",
       "count                                                1465   \n",
       "unique                                               1194   \n",
       "top     R3F4T5TRYPTMIG,R3DQIEC603E7AY,R1O4Z15FD40PV5,R...   \n",
       "freq                                                   10   \n",
       "\n",
       "                                             review_title  \\\n",
       "count                                                1465   \n",
       "unique                                               1194   \n",
       "top     Worked on iPhone 7 and didn’t work on XR,Good ...   \n",
       "freq                                                   10   \n",
       "\n",
       "                                           review_content  \\\n",
       "count                                                1465   \n",
       "unique                                               1212   \n",
       "top     I am not big on camera usage, personally. I wa...   \n",
       "freq                                                    8   \n",
       "\n",
       "                                                 img_link  \\\n",
       "count                                                1465   \n",
       "unique                                               1412   \n",
       "top     https://m.media-amazon.com/images/I/413sCRKobN...   \n",
       "freq                                                    3   \n",
       "\n",
       "                                             product_link  \n",
       "count                                                1465  \n",
       "unique                                               1465  \n",
       "top     https://www.amazon.in/Wayona-Braided-WN3LG1-Sy...  \n",
       "freq                                                    1  "
      ]
     },
     "execution_count": 12,
     "metadata": {},
     "output_type": "execute_result"
    }
   ],
   "source": [
    "#view the overall information of the dataset:\n",
    "df.describe()"
   ]
  },
  {
   "cell_type": "code",
   "execution_count": 13,
   "metadata": {},
   "outputs": [
    {
     "data": {
      "text/plain": [
       "4.1    244\n",
       "4.3    230\n",
       "4.2    228\n",
       "4.0    129\n",
       "3.9    123\n",
       "4.4    123\n",
       "3.8     86\n",
       "4.5     75\n",
       "4       52\n",
       "3.7     42\n",
       "3.6     35\n",
       "3.5     26\n",
       "4.6     17\n",
       "3.3     16\n",
       "3.4     10\n",
       "4.7      6\n",
       "3.1      4\n",
       "5.0      3\n",
       "3.0      3\n",
       "4.8      3\n",
       "3.2      2\n",
       "2.8      2\n",
       "2.3      1\n",
       "|        1\n",
       "2        1\n",
       "3        1\n",
       "2.6      1\n",
       "2.9      1\n",
       "Name: rating, dtype: int64"
      ]
     },
     "execution_count": 13,
     "metadata": {},
     "output_type": "execute_result"
    }
   ],
   "source": [
    "df.rating.value_counts()"
   ]
  },
  {
   "cell_type": "markdown",
   "metadata": {},
   "source": [
    "`Rating` column has 1 row that contain '|' symbol"
   ]
  },
  {
   "cell_type": "code",
   "execution_count": 14,
   "metadata": {},
   "outputs": [
    {
     "data": {
      "text/html": [
       "<div>\n",
       "<style scoped>\n",
       "    .dataframe tbody tr th:only-of-type {\n",
       "        vertical-align: middle;\n",
       "    }\n",
       "\n",
       "    .dataframe tbody tr th {\n",
       "        vertical-align: top;\n",
       "    }\n",
       "\n",
       "    .dataframe thead th {\n",
       "        text-align: right;\n",
       "    }\n",
       "</style>\n",
       "<table border=\"1\" class=\"dataframe\">\n",
       "  <thead>\n",
       "    <tr style=\"text-align: right;\">\n",
       "      <th></th>\n",
       "      <th>product_id</th>\n",
       "      <th>product_name</th>\n",
       "      <th>category</th>\n",
       "      <th>discounted_price</th>\n",
       "      <th>actual_price</th>\n",
       "      <th>discount_percentage</th>\n",
       "      <th>rating</th>\n",
       "      <th>rating_count</th>\n",
       "      <th>about_product</th>\n",
       "      <th>user_id</th>\n",
       "      <th>user_name</th>\n",
       "      <th>review_id</th>\n",
       "      <th>review_title</th>\n",
       "      <th>review_content</th>\n",
       "      <th>img_link</th>\n",
       "      <th>product_link</th>\n",
       "    </tr>\n",
       "  </thead>\n",
       "  <tbody>\n",
       "    <tr>\n",
       "      <th>1279</th>\n",
       "      <td>B08L12N5H1</td>\n",
       "      <td>Eureka Forbes car Vac 100 Watts Powerful Sucti...</td>\n",
       "      <td>Home&amp;Kitchen|Kitchen&amp;HomeAppliances|Vacuum,Cle...</td>\n",
       "      <td>₹2,099</td>\n",
       "      <td>₹2,499</td>\n",
       "      <td>16%</td>\n",
       "      <td>|</td>\n",
       "      <td>992</td>\n",
       "      <td>No Installation is provided for this product|1...</td>\n",
       "      <td>AGTDSNT2FKVYEPDPXAA673AIS44A,AER2XFSWNN4LAUCJ5...</td>\n",
       "      <td>Divya,Dr Nefario,Deekshith,Preeti,Prasanth R,P...</td>\n",
       "      <td>R2KKTKM4M9RDVJ,R1O692MZOBTE79,R2WRSEWL56SOS4,R...</td>\n",
       "      <td>Decent product,doesn't pick up sand,Ok ok,Must...</td>\n",
       "      <td>Does the job well,doesn't work on sand. though...</td>\n",
       "      <td>https://m.media-amazon.com/images/W/WEBP_40237...</td>\n",
       "      <td>https://www.amazon.in/Eureka-Forbes-Vacuum-Cle...</td>\n",
       "    </tr>\n",
       "  </tbody>\n",
       "</table>\n",
       "</div>"
      ],
      "text/plain": [
       "      product_id                                       product_name  \\\n",
       "1279  B08L12N5H1  Eureka Forbes car Vac 100 Watts Powerful Sucti...   \n",
       "\n",
       "                                               category discounted_price  \\\n",
       "1279  Home&Kitchen|Kitchen&HomeAppliances|Vacuum,Cle...           ₹2,099   \n",
       "\n",
       "     actual_price discount_percentage rating rating_count  \\\n",
       "1279       ₹2,499                 16%      |          992   \n",
       "\n",
       "                                          about_product  \\\n",
       "1279  No Installation is provided for this product|1...   \n",
       "\n",
       "                                                user_id  \\\n",
       "1279  AGTDSNT2FKVYEPDPXAA673AIS44A,AER2XFSWNN4LAUCJ5...   \n",
       "\n",
       "                                              user_name  \\\n",
       "1279  Divya,Dr Nefario,Deekshith,Preeti,Prasanth R,P...   \n",
       "\n",
       "                                              review_id  \\\n",
       "1279  R2KKTKM4M9RDVJ,R1O692MZOBTE79,R2WRSEWL56SOS4,R...   \n",
       "\n",
       "                                           review_title  \\\n",
       "1279  Decent product,doesn't pick up sand,Ok ok,Must...   \n",
       "\n",
       "                                         review_content  \\\n",
       "1279  Does the job well,doesn't work on sand. though...   \n",
       "\n",
       "                                               img_link  \\\n",
       "1279  https://m.media-amazon.com/images/W/WEBP_40237...   \n",
       "\n",
       "                                           product_link  \n",
       "1279  https://www.amazon.in/Eureka-Forbes-Vacuum-Cle...  "
      ]
     },
     "execution_count": 14,
     "metadata": {},
     "output_type": "execute_result"
    }
   ],
   "source": [
    "df2[df2['rating'] =='|']"
   ]
  },
  {
   "cell_type": "markdown",
   "metadata": {},
   "source": [
    "\n",
    "### Data Cleaning\n",
    " "
   ]
  },
  {
   "cell_type": "markdown",
   "metadata": {},
   "source": [
    "### Drop extraneous columns\n",
    "Columns to Drop: `img_link` , `user_name` , `user_id`"
   ]
  },
  {
   "cell_type": "code",
   "execution_count": 15,
   "metadata": {},
   "outputs": [],
   "source": [
    "#drop columns from the dataset\n",
    "df.drop(['img_link','user_name','user_id'], inplace=True, axis=1)"
   ]
  },
  {
   "cell_type": "code",
   "execution_count": 16,
   "metadata": {},
   "outputs": [
    {
     "name": "stdout",
     "output_type": "stream",
     "text": [
      "<class 'pandas.core.frame.DataFrame'>\n",
      "RangeIndex: 1465 entries, 0 to 1464\n",
      "Data columns (total 13 columns):\n",
      " #   Column               Non-Null Count  Dtype \n",
      "---  ------               --------------  ----- \n",
      " 0   product_id           1465 non-null   object\n",
      " 1   product_name         1465 non-null   object\n",
      " 2   category             1465 non-null   object\n",
      " 3   discounted_price     1465 non-null   object\n",
      " 4   actual_price         1465 non-null   object\n",
      " 5   discount_percentage  1465 non-null   object\n",
      " 6   rating               1465 non-null   object\n",
      " 7   rating_count         1463 non-null   object\n",
      " 8   about_product        1465 non-null   object\n",
      " 9   review_id            1465 non-null   object\n",
      " 10  review_title         1465 non-null   object\n",
      " 11  review_content       1465 non-null   object\n",
      " 12  product_link         1465 non-null   object\n",
      "dtypes: object(13)\n",
      "memory usage: 148.9+ KB\n"
     ]
    }
   ],
   "source": [
    "#confirm the changes\n",
    "df.info()"
   ]
  },
  {
   "cell_type": "markdown",
   "metadata": {},
   "source": [
    "### Dedupe Data"
   ]
  },
  {
   "cell_type": "code",
   "execution_count": 17,
   "metadata": {},
   "outputs": [
    {
     "name": "stdout",
     "output_type": "stream",
     "text": [
      "0\n"
     ]
    }
   ],
   "source": [
    "#print number of duplicates to confirm dedupe - should be 0\n",
    "print(df.duplicated().sum())"
   ]
  },
  {
   "cell_type": "markdown",
   "metadata": {},
   "source": [
    "### Drop Rows with Missing Values"
   ]
  },
  {
   "cell_type": "code",
   "execution_count": 18,
   "metadata": {},
   "outputs": [
    {
     "data": {
      "text/plain": [
       "product_id             0\n",
       "product_name           0\n",
       "category               0\n",
       "discounted_price       0\n",
       "actual_price           0\n",
       "discount_percentage    0\n",
       "rating                 0\n",
       "rating_count           2\n",
       "about_product          0\n",
       "review_id              0\n",
       "review_title           0\n",
       "review_content         0\n",
       "product_link           0\n",
       "dtype: int64"
      ]
     },
     "execution_count": 18,
     "metadata": {},
     "output_type": "execute_result"
    }
   ],
   "source": [
    "# view missing value count for each property\n",
    "df.isnull().sum()"
   ]
  },
  {
   "cell_type": "code",
   "execution_count": 19,
   "metadata": {},
   "outputs": [
    {
     "data": {
      "text/html": [
       "<div>\n",
       "<style scoped>\n",
       "    .dataframe tbody tr th:only-of-type {\n",
       "        vertical-align: middle;\n",
       "    }\n",
       "\n",
       "    .dataframe tbody tr th {\n",
       "        vertical-align: top;\n",
       "    }\n",
       "\n",
       "    .dataframe thead th {\n",
       "        text-align: right;\n",
       "    }\n",
       "</style>\n",
       "<table border=\"1\" class=\"dataframe\">\n",
       "  <thead>\n",
       "    <tr style=\"text-align: right;\">\n",
       "      <th></th>\n",
       "      <th>product_id</th>\n",
       "      <th>product_name</th>\n",
       "      <th>category</th>\n",
       "      <th>discounted_price</th>\n",
       "      <th>actual_price</th>\n",
       "      <th>discount_percentage</th>\n",
       "      <th>rating</th>\n",
       "      <th>rating_count</th>\n",
       "      <th>about_product</th>\n",
       "      <th>review_id</th>\n",
       "      <th>review_title</th>\n",
       "      <th>review_content</th>\n",
       "      <th>product_link</th>\n",
       "    </tr>\n",
       "  </thead>\n",
       "  <tbody>\n",
       "    <tr>\n",
       "      <th>282</th>\n",
       "      <td>B0B94JPY2N</td>\n",
       "      <td>Amazon Brand - Solimo 65W Fast Charging Braide...</td>\n",
       "      <td>Computers&amp;Accessories|Accessories&amp;Peripherals|...</td>\n",
       "      <td>₹199</td>\n",
       "      <td>₹999</td>\n",
       "      <td>80%</td>\n",
       "      <td>3.0</td>\n",
       "      <td>NaN</td>\n",
       "      <td>USB C to C Cable: This cable has type C connec...</td>\n",
       "      <td>RUB7U91HVZ30</td>\n",
       "      <td>The cable works but is not 65W as advertised</td>\n",
       "      <td>I have a pd supported car charger and I bought...</td>\n",
       "      <td>https://www.amazon.in/Amazon-Brand-Charging-Su...</td>\n",
       "    </tr>\n",
       "    <tr>\n",
       "      <th>324</th>\n",
       "      <td>B0BQRJ3C47</td>\n",
       "      <td>REDTECH USB-C to Lightning Cable 3.3FT, [Apple...</td>\n",
       "      <td>Computers&amp;Accessories|Accessories&amp;Peripherals|...</td>\n",
       "      <td>₹249</td>\n",
       "      <td>₹999</td>\n",
       "      <td>75%</td>\n",
       "      <td>5.0</td>\n",
       "      <td>NaN</td>\n",
       "      <td>💎[The Fastest Charge] - This iPhone USB C cabl...</td>\n",
       "      <td>RQXD5SAMMPC6L</td>\n",
       "      <td>Awesome Product</td>\n",
       "      <td>Quick delivery.Awesome ProductPacking was good...</td>\n",
       "      <td>https://www.amazon.in/REDTECH-Lightning-Certif...</td>\n",
       "    </tr>\n",
       "  </tbody>\n",
       "</table>\n",
       "</div>"
      ],
      "text/plain": [
       "     product_id                                       product_name  \\\n",
       "282  B0B94JPY2N  Amazon Brand - Solimo 65W Fast Charging Braide...   \n",
       "324  B0BQRJ3C47  REDTECH USB-C to Lightning Cable 3.3FT, [Apple...   \n",
       "\n",
       "                                              category discounted_price  \\\n",
       "282  Computers&Accessories|Accessories&Peripherals|...             ₹199   \n",
       "324  Computers&Accessories|Accessories&Peripherals|...             ₹249   \n",
       "\n",
       "    actual_price discount_percentage rating rating_count  \\\n",
       "282         ₹999                 80%    3.0          NaN   \n",
       "324         ₹999                 75%    5.0          NaN   \n",
       "\n",
       "                                         about_product      review_id  \\\n",
       "282  USB C to C Cable: This cable has type C connec...   RUB7U91HVZ30   \n",
       "324  💎[The Fastest Charge] - This iPhone USB C cabl...  RQXD5SAMMPC6L   \n",
       "\n",
       "                                     review_title  \\\n",
       "282  The cable works but is not 65W as advertised   \n",
       "324                               Awesome Product   \n",
       "\n",
       "                                        review_content  \\\n",
       "282  I have a pd supported car charger and I bought...   \n",
       "324  Quick delivery.Awesome ProductPacking was good...   \n",
       "\n",
       "                                          product_link  \n",
       "282  https://www.amazon.in/Amazon-Brand-Charging-Su...  \n",
       "324  https://www.amazon.in/REDTECH-Lightning-Certif...  "
      ]
     },
     "execution_count": 19,
     "metadata": {},
     "output_type": "execute_result"
    }
   ],
   "source": [
    "df[df['rating_count'].isnull()]"
   ]
  },
  {
   "cell_type": "markdown",
   "metadata": {},
   "source": [
    "I go to product link to check and notice that product_id: B0B94JPY2N has 4.0 rating and 58 rating_count. \n",
    "Product_id B0BQRJ3C47 hasn't existed in amazon so I will drop it."
   ]
  },
  {
   "cell_type": "code",
   "execution_count": 20,
   "metadata": {
    "scrolled": true
   },
   "outputs": [
    {
     "data": {
      "text/plain": [
       "282    https://www.amazon.in/Amazon-Brand-Charging-Su...\n",
       "324    https://www.amazon.in/REDTECH-Lightning-Certif...\n",
       "Name: product_link, dtype: object"
      ]
     },
     "execution_count": 20,
     "metadata": {},
     "output_type": "execute_result"
    }
   ],
   "source": [
    "df[df['rating_count'].isnull()].product_link"
   ]
  },
  {
   "cell_type": "code",
   "execution_count": 21,
   "metadata": {},
   "outputs": [],
   "source": [
    "df.loc[df['product_id'] == 'B0B94JPY2N', 'rating_count'] = '58'\n",
    "df.loc[df['product_id'] == 'B0B94JPY2N', 'rating'] = '4.0'"
   ]
  },
  {
   "cell_type": "code",
   "execution_count": 22,
   "metadata": {},
   "outputs": [],
   "source": [
    "#drop rows with any null values in dataset\n",
    "df.dropna(inplace=True)"
   ]
  },
  {
   "cell_type": "code",
   "execution_count": 23,
   "metadata": {},
   "outputs": [
    {
     "data": {
      "text/plain": [
       "False"
      ]
     },
     "execution_count": 23,
     "metadata": {},
     "output_type": "execute_result"
    }
   ],
   "source": [
    "# checks if any of columns in the dataset have null values - should print False\n",
    "df.isnull().sum().any()"
   ]
  },
  {
   "cell_type": "code",
   "execution_count": 24,
   "metadata": {},
   "outputs": [
    {
     "data": {
      "text/plain": [
       "product_id             0\n",
       "product_name           0\n",
       "category               0\n",
       "discounted_price       0\n",
       "actual_price           0\n",
       "discount_percentage    0\n",
       "rating                 0\n",
       "rating_count           0\n",
       "about_product          0\n",
       "review_id              0\n",
       "review_title           0\n",
       "review_content         0\n",
       "product_link           0\n",
       "dtype: int64"
      ]
     },
     "execution_count": 24,
     "metadata": {},
     "output_type": "execute_result"
    }
   ],
   "source": [
    "df.isnull().sum()"
   ]
  },
  {
   "cell_type": "markdown",
   "metadata": {},
   "source": [
    "### Change Data Type"
   ]
  },
  {
   "cell_type": "markdown",
   "metadata": {},
   "source": [
    "Create a float_change function to automatically change float type to each column."
   ]
  },
  {
   "cell_type": "code",
   "execution_count": 25,
   "metadata": {},
   "outputs": [],
   "source": [
    "def float_change(df,column_name):\n",
    "    # removes any non-numeric characters (except for the decimal point)\n",
    "    df[column_name] = df[column_name].str.replace(r'[^0-9.]', '', regex=True)\n",
    "    \n",
    "    # convert string to float for actual_price column\n",
    "    df[column_name] = df[column_name].astype(float)"
   ]
  },
  {
   "cell_type": "code",
   "execution_count": 26,
   "metadata": {},
   "outputs": [],
   "source": [
    "float_change(df,'discounted_price')"
   ]
  },
  {
   "cell_type": "code",
   "execution_count": 27,
   "metadata": {},
   "outputs": [
    {
     "data": {
      "text/plain": [
       "product_id              object\n",
       "product_name            object\n",
       "category                object\n",
       "discounted_price       float64\n",
       "actual_price            object\n",
       "discount_percentage     object\n",
       "rating                  object\n",
       "rating_count            object\n",
       "about_product           object\n",
       "review_id               object\n",
       "review_title            object\n",
       "review_content          object\n",
       "product_link            object\n",
       "dtype: object"
      ]
     },
     "execution_count": 27,
     "metadata": {},
     "output_type": "execute_result"
    }
   ],
   "source": [
    "df.dtypes"
   ]
  },
  {
   "cell_type": "code",
   "execution_count": 28,
   "metadata": {},
   "outputs": [],
   "source": [
    "# convert string to float for actual_price column\n",
    "float_change(df,'actual_price')"
   ]
  },
  {
   "cell_type": "code",
   "execution_count": 29,
   "metadata": {},
   "outputs": [
    {
     "data": {
      "text/plain": [
       "product_id              object\n",
       "product_name            object\n",
       "category                object\n",
       "discounted_price       float64\n",
       "actual_price           float64\n",
       "discount_percentage     object\n",
       "rating                  object\n",
       "rating_count            object\n",
       "about_product           object\n",
       "review_id               object\n",
       "review_title            object\n",
       "review_content          object\n",
       "product_link            object\n",
       "dtype: object"
      ]
     },
     "execution_count": 29,
     "metadata": {},
     "output_type": "execute_result"
    }
   ],
   "source": [
    "# check data type for revenue column and budget column\n",
    "df.dtypes"
   ]
  },
  {
   "cell_type": "code",
   "execution_count": 30,
   "metadata": {},
   "outputs": [],
   "source": [
    "float_change(df,\"rating_count\")"
   ]
  },
  {
   "cell_type": "code",
   "execution_count": 31,
   "metadata": {},
   "outputs": [
    {
     "data": {
      "text/plain": [
       "product_id              object\n",
       "product_name            object\n",
       "category                object\n",
       "discounted_price       float64\n",
       "actual_price           float64\n",
       "discount_percentage     object\n",
       "rating                  object\n",
       "rating_count           float64\n",
       "about_product           object\n",
       "review_id               object\n",
       "review_title            object\n",
       "review_content          object\n",
       "product_link            object\n",
       "dtype: object"
      ]
     },
     "execution_count": 31,
     "metadata": {},
     "output_type": "execute_result"
    }
   ],
   "source": [
    "# check data type for revenue column and budget column\n",
    "df.dtypes"
   ]
  },
  {
   "cell_type": "markdown",
   "metadata": {},
   "source": [
    "### Fixing `rating` Column"
   ]
  },
  {
   "cell_type": "code",
   "execution_count": 32,
   "metadata": {},
   "outputs": [
    {
     "data": {
      "text/html": [
       "<div>\n",
       "<style scoped>\n",
       "    .dataframe tbody tr th:only-of-type {\n",
       "        vertical-align: middle;\n",
       "    }\n",
       "\n",
       "    .dataframe tbody tr th {\n",
       "        vertical-align: top;\n",
       "    }\n",
       "\n",
       "    .dataframe thead th {\n",
       "        text-align: right;\n",
       "    }\n",
       "</style>\n",
       "<table border=\"1\" class=\"dataframe\">\n",
       "  <thead>\n",
       "    <tr style=\"text-align: right;\">\n",
       "      <th></th>\n",
       "      <th>product_id</th>\n",
       "      <th>product_name</th>\n",
       "      <th>category</th>\n",
       "      <th>discounted_price</th>\n",
       "      <th>actual_price</th>\n",
       "      <th>discount_percentage</th>\n",
       "      <th>rating</th>\n",
       "      <th>rating_count</th>\n",
       "      <th>about_product</th>\n",
       "      <th>review_id</th>\n",
       "      <th>review_title</th>\n",
       "      <th>review_content</th>\n",
       "      <th>product_link</th>\n",
       "    </tr>\n",
       "  </thead>\n",
       "  <tbody>\n",
       "    <tr>\n",
       "      <th>1279</th>\n",
       "      <td>B08L12N5H1</td>\n",
       "      <td>Eureka Forbes car Vac 100 Watts Powerful Sucti...</td>\n",
       "      <td>Home&amp;Kitchen|Kitchen&amp;HomeAppliances|Vacuum,Cle...</td>\n",
       "      <td>2099.0</td>\n",
       "      <td>2499.0</td>\n",
       "      <td>16%</td>\n",
       "      <td>|</td>\n",
       "      <td>992.0</td>\n",
       "      <td>No Installation is provided for this product|1...</td>\n",
       "      <td>R2KKTKM4M9RDVJ,R1O692MZOBTE79,R2WRSEWL56SOS4,R...</td>\n",
       "      <td>Decent product,doesn't pick up sand,Ok ok,Must...</td>\n",
       "      <td>Does the job well,doesn't work on sand. though...</td>\n",
       "      <td>https://www.amazon.in/Eureka-Forbes-Vacuum-Cle...</td>\n",
       "    </tr>\n",
       "  </tbody>\n",
       "</table>\n",
       "</div>"
      ],
      "text/plain": [
       "      product_id                                       product_name  \\\n",
       "1279  B08L12N5H1  Eureka Forbes car Vac 100 Watts Powerful Sucti...   \n",
       "\n",
       "                                               category  discounted_price  \\\n",
       "1279  Home&Kitchen|Kitchen&HomeAppliances|Vacuum,Cle...            2099.0   \n",
       "\n",
       "      actual_price discount_percentage rating  rating_count  \\\n",
       "1279        2499.0                 16%      |         992.0   \n",
       "\n",
       "                                          about_product  \\\n",
       "1279  No Installation is provided for this product|1...   \n",
       "\n",
       "                                              review_id  \\\n",
       "1279  R2KKTKM4M9RDVJ,R1O692MZOBTE79,R2WRSEWL56SOS4,R...   \n",
       "\n",
       "                                           review_title  \\\n",
       "1279  Decent product,doesn't pick up sand,Ok ok,Must...   \n",
       "\n",
       "                                         review_content  \\\n",
       "1279  Does the job well,doesn't work on sand. though...   \n",
       "\n",
       "                                           product_link  \n",
       "1279  https://www.amazon.in/Eureka-Forbes-Vacuum-Cle...  "
      ]
     },
     "execution_count": 32,
     "metadata": {},
     "output_type": "execute_result"
    }
   ],
   "source": [
    "df[df['rating'] =='|']"
   ]
  },
  {
   "cell_type": "markdown",
   "metadata": {},
   "source": [
    "I checked the product_linke of \"B08L12N5H1\", the rating is 3.9, so I will fill the rating at 3.9"
   ]
  },
  {
   "cell_type": "code",
   "execution_count": 33,
   "metadata": {},
   "outputs": [],
   "source": [
    "df.loc[df['product_id'] == 'B08L12N5H1', 'rating'] = '3.9'"
   ]
  },
  {
   "cell_type": "code",
   "execution_count": 34,
   "metadata": {},
   "outputs": [],
   "source": [
    "float_change(df,\"rating\")"
   ]
  },
  {
   "cell_type": "code",
   "execution_count": 35,
   "metadata": {},
   "outputs": [
    {
     "data": {
      "text/plain": [
       "product_id              object\n",
       "product_name            object\n",
       "category                object\n",
       "discounted_price       float64\n",
       "actual_price           float64\n",
       "discount_percentage     object\n",
       "rating                 float64\n",
       "rating_count           float64\n",
       "about_product           object\n",
       "review_id               object\n",
       "review_title            object\n",
       "review_content          object\n",
       "product_link            object\n",
       "dtype: object"
      ]
     },
     "execution_count": 35,
     "metadata": {},
     "output_type": "execute_result"
    }
   ],
   "source": [
    "# check data type for revenue column and budget column\n",
    "df.dtypes"
   ]
  },
  {
   "cell_type": "markdown",
   "metadata": {},
   "source": [
    "### Fixing `discount_percentage` Column"
   ]
  },
  {
   "cell_type": "code",
   "execution_count": 36,
   "metadata": {},
   "outputs": [],
   "source": [
    "float_change(df,\"discount_percentage\")"
   ]
  },
  {
   "cell_type": "code",
   "execution_count": 37,
   "metadata": {},
   "outputs": [],
   "source": [
    "df['discount_percentage'] = df['discount_percentage'].apply(lambda x: x/100)"
   ]
  },
  {
   "cell_type": "code",
   "execution_count": 38,
   "metadata": {},
   "outputs": [
    {
     "data": {
      "text/html": [
       "<div>\n",
       "<style scoped>\n",
       "    .dataframe tbody tr th:only-of-type {\n",
       "        vertical-align: middle;\n",
       "    }\n",
       "\n",
       "    .dataframe tbody tr th {\n",
       "        vertical-align: top;\n",
       "    }\n",
       "\n",
       "    .dataframe thead th {\n",
       "        text-align: right;\n",
       "    }\n",
       "</style>\n",
       "<table border=\"1\" class=\"dataframe\">\n",
       "  <thead>\n",
       "    <tr style=\"text-align: right;\">\n",
       "      <th></th>\n",
       "      <th>product_id</th>\n",
       "      <th>product_name</th>\n",
       "      <th>category</th>\n",
       "      <th>discounted_price</th>\n",
       "      <th>actual_price</th>\n",
       "      <th>discount_percentage</th>\n",
       "      <th>rating</th>\n",
       "      <th>rating_count</th>\n",
       "      <th>about_product</th>\n",
       "      <th>review_id</th>\n",
       "      <th>review_title</th>\n",
       "      <th>review_content</th>\n",
       "      <th>product_link</th>\n",
       "    </tr>\n",
       "  </thead>\n",
       "  <tbody>\n",
       "    <tr>\n",
       "      <th>0</th>\n",
       "      <td>B07JW9H4J1</td>\n",
       "      <td>Wayona Nylon Braided USB to Lightning Fast Cha...</td>\n",
       "      <td>Computers&amp;Accessories|Accessories&amp;Peripherals|...</td>\n",
       "      <td>399.0</td>\n",
       "      <td>1099.0</td>\n",
       "      <td>0.64</td>\n",
       "      <td>4.2</td>\n",
       "      <td>24269.0</td>\n",
       "      <td>High Compatibility : Compatible With iPhone 12...</td>\n",
       "      <td>R3HXWT0LRP0NMF,R2AJM3LFTLZHFO,R6AQJGUP6P86,R1K...</td>\n",
       "      <td>Satisfied,Charging is really fast,Value for mo...</td>\n",
       "      <td>Looks durable Charging is fine tooNo complains...</td>\n",
       "      <td>https://www.amazon.in/Wayona-Braided-WN3LG1-Sy...</td>\n",
       "    </tr>\n",
       "    <tr>\n",
       "      <th>1</th>\n",
       "      <td>B098NS6PVG</td>\n",
       "      <td>Ambrane Unbreakable 60W / 3A Fast Charging 1.5...</td>\n",
       "      <td>Computers&amp;Accessories|Accessories&amp;Peripherals|...</td>\n",
       "      <td>199.0</td>\n",
       "      <td>349.0</td>\n",
       "      <td>0.43</td>\n",
       "      <td>4.0</td>\n",
       "      <td>43994.0</td>\n",
       "      <td>Compatible with all Type C enabled devices, be...</td>\n",
       "      <td>RGIQEG07R9HS2,R1SMWZQ86XIN8U,R2J3Y1WL29GWDE,RY...</td>\n",
       "      <td>A Good Braided Cable for Your Type C Device,Go...</td>\n",
       "      <td>I ordered this cable to connect my phone to An...</td>\n",
       "      <td>https://www.amazon.in/Ambrane-Unbreakable-Char...</td>\n",
       "    </tr>\n",
       "    <tr>\n",
       "      <th>2</th>\n",
       "      <td>B096MSW6CT</td>\n",
       "      <td>Sounce Fast Phone Charging Cable &amp; Data Sync U...</td>\n",
       "      <td>Computers&amp;Accessories|Accessories&amp;Peripherals|...</td>\n",
       "      <td>199.0</td>\n",
       "      <td>1899.0</td>\n",
       "      <td>0.90</td>\n",
       "      <td>3.9</td>\n",
       "      <td>7928.0</td>\n",
       "      <td>【 Fast Charger&amp; Data Sync】-With built-in safet...</td>\n",
       "      <td>R3J3EQQ9TZI5ZJ,R3E7WBGK7ID0KV,RWU79XKQ6I1QF,R2...</td>\n",
       "      <td>Good speed for earlier versions,Good Product,W...</td>\n",
       "      <td>Not quite durable and sturdy,https://m.media-a...</td>\n",
       "      <td>https://www.amazon.in/Sounce-iPhone-Charging-C...</td>\n",
       "    </tr>\n",
       "    <tr>\n",
       "      <th>3</th>\n",
       "      <td>B08HDJ86NZ</td>\n",
       "      <td>boAt Deuce USB 300 2 in 1 Type-C &amp; Micro USB S...</td>\n",
       "      <td>Computers&amp;Accessories|Accessories&amp;Peripherals|...</td>\n",
       "      <td>329.0</td>\n",
       "      <td>699.0</td>\n",
       "      <td>0.53</td>\n",
       "      <td>4.2</td>\n",
       "      <td>94363.0</td>\n",
       "      <td>The boAt Deuce USB 300 2 in 1 cable is compati...</td>\n",
       "      <td>R3EEUZKKK9J36I,R3HJVYCLYOY554,REDECAZ7AMPQC,R1...</td>\n",
       "      <td>Good product,Good one,Nice,Really nice product...</td>\n",
       "      <td>Good product,long wire,Charges good,Nice,I bou...</td>\n",
       "      <td>https://www.amazon.in/Deuce-300-Resistant-Tang...</td>\n",
       "    </tr>\n",
       "    <tr>\n",
       "      <th>4</th>\n",
       "      <td>B08CF3B7N1</td>\n",
       "      <td>Portronics Konnect L 1.2M Fast Charging 3A 8 P...</td>\n",
       "      <td>Computers&amp;Accessories|Accessories&amp;Peripherals|...</td>\n",
       "      <td>154.0</td>\n",
       "      <td>399.0</td>\n",
       "      <td>0.61</td>\n",
       "      <td>4.2</td>\n",
       "      <td>16905.0</td>\n",
       "      <td>[CHARGE &amp; SYNC FUNCTION]- This cable comes wit...</td>\n",
       "      <td>R1BP4L2HH9TFUP,R16PVJEXKV6QZS,R2UPDB81N66T4P,R...</td>\n",
       "      <td>As good as original,Decent,Good one for second...</td>\n",
       "      <td>Bought this instead of original apple, does th...</td>\n",
       "      <td>https://www.amazon.in/Portronics-Konnect-POR-1...</td>\n",
       "    </tr>\n",
       "  </tbody>\n",
       "</table>\n",
       "</div>"
      ],
      "text/plain": [
       "   product_id                                       product_name  \\\n",
       "0  B07JW9H4J1  Wayona Nylon Braided USB to Lightning Fast Cha...   \n",
       "1  B098NS6PVG  Ambrane Unbreakable 60W / 3A Fast Charging 1.5...   \n",
       "2  B096MSW6CT  Sounce Fast Phone Charging Cable & Data Sync U...   \n",
       "3  B08HDJ86NZ  boAt Deuce USB 300 2 in 1 Type-C & Micro USB S...   \n",
       "4  B08CF3B7N1  Portronics Konnect L 1.2M Fast Charging 3A 8 P...   \n",
       "\n",
       "                                            category  discounted_price  \\\n",
       "0  Computers&Accessories|Accessories&Peripherals|...             399.0   \n",
       "1  Computers&Accessories|Accessories&Peripherals|...             199.0   \n",
       "2  Computers&Accessories|Accessories&Peripherals|...             199.0   \n",
       "3  Computers&Accessories|Accessories&Peripherals|...             329.0   \n",
       "4  Computers&Accessories|Accessories&Peripherals|...             154.0   \n",
       "\n",
       "   actual_price  discount_percentage  rating  rating_count  \\\n",
       "0        1099.0                 0.64     4.2       24269.0   \n",
       "1         349.0                 0.43     4.0       43994.0   \n",
       "2        1899.0                 0.90     3.9        7928.0   \n",
       "3         699.0                 0.53     4.2       94363.0   \n",
       "4         399.0                 0.61     4.2       16905.0   \n",
       "\n",
       "                                       about_product  \\\n",
       "0  High Compatibility : Compatible With iPhone 12...   \n",
       "1  Compatible with all Type C enabled devices, be...   \n",
       "2  【 Fast Charger& Data Sync】-With built-in safet...   \n",
       "3  The boAt Deuce USB 300 2 in 1 cable is compati...   \n",
       "4  [CHARGE & SYNC FUNCTION]- This cable comes wit...   \n",
       "\n",
       "                                           review_id  \\\n",
       "0  R3HXWT0LRP0NMF,R2AJM3LFTLZHFO,R6AQJGUP6P86,R1K...   \n",
       "1  RGIQEG07R9HS2,R1SMWZQ86XIN8U,R2J3Y1WL29GWDE,RY...   \n",
       "2  R3J3EQQ9TZI5ZJ,R3E7WBGK7ID0KV,RWU79XKQ6I1QF,R2...   \n",
       "3  R3EEUZKKK9J36I,R3HJVYCLYOY554,REDECAZ7AMPQC,R1...   \n",
       "4  R1BP4L2HH9TFUP,R16PVJEXKV6QZS,R2UPDB81N66T4P,R...   \n",
       "\n",
       "                                        review_title  \\\n",
       "0  Satisfied,Charging is really fast,Value for mo...   \n",
       "1  A Good Braided Cable for Your Type C Device,Go...   \n",
       "2  Good speed for earlier versions,Good Product,W...   \n",
       "3  Good product,Good one,Nice,Really nice product...   \n",
       "4  As good as original,Decent,Good one for second...   \n",
       "\n",
       "                                      review_content  \\\n",
       "0  Looks durable Charging is fine tooNo complains...   \n",
       "1  I ordered this cable to connect my phone to An...   \n",
       "2  Not quite durable and sturdy,https://m.media-a...   \n",
       "3  Good product,long wire,Charges good,Nice,I bou...   \n",
       "4  Bought this instead of original apple, does th...   \n",
       "\n",
       "                                        product_link  \n",
       "0  https://www.amazon.in/Wayona-Braided-WN3LG1-Sy...  \n",
       "1  https://www.amazon.in/Ambrane-Unbreakable-Char...  \n",
       "2  https://www.amazon.in/Sounce-iPhone-Charging-C...  \n",
       "3  https://www.amazon.in/Deuce-300-Resistant-Tang...  \n",
       "4  https://www.amazon.in/Portronics-Konnect-POR-1...  "
      ]
     },
     "execution_count": 38,
     "metadata": {},
     "output_type": "execute_result"
    }
   ],
   "source": [
    "df.head()"
   ]
  },
  {
   "cell_type": "code",
   "execution_count": 39,
   "metadata": {},
   "outputs": [
    {
     "data": {
      "text/plain": [
       "product_id             0\n",
       "product_name           0\n",
       "category               0\n",
       "discounted_price       0\n",
       "actual_price           0\n",
       "discount_percentage    0\n",
       "rating                 0\n",
       "rating_count           0\n",
       "about_product          0\n",
       "review_id              0\n",
       "review_title           0\n",
       "review_content         0\n",
       "product_link           0\n",
       "dtype: int64"
      ]
     },
     "execution_count": 39,
     "metadata": {},
     "output_type": "execute_result"
    }
   ],
   "source": [
    "df.isnull().sum()"
   ]
  },
  {
   "cell_type": "markdown",
   "metadata": {},
   "source": [
    "Create a split_and_expand function to automatically split and expand into separate rows."
   ]
  },
  {
   "cell_type": "code",
   "execution_count": 40,
   "metadata": {},
   "outputs": [],
   "source": [
    "# Create and split_and_expand function to automatically split and expand into separate rows.\n",
    "def split_and_expand(df,column_name,fill_value='NaN'):\n",
    "    #split the specified column on the delimiter '|'\n",
    "    split_column = df[column_name].str.split('|')\n",
    "    \n",
    "    # Get only the first and last elements from the split\n",
    "    first_last = pd.DataFrame({\n",
    "        'category': split_column.apply(lambda x: x[0] if len(x) > 0 else fill_value),\n",
    "        'product_type': split_column.apply(lambda x: x[-1] if len(x) > 1 else fill_value)\n",
    "    })\n",
    "    \n",
    "    #drop the old column\n",
    "    df = df.drop(column_name, axis=1)\n",
    "    \n",
    "    #join the new column\n",
    "    df= df.join(first_last)\n",
    "    \n",
    "    return df"
   ]
  },
  {
   "cell_type": "markdown",
   "metadata": {},
   "source": [
    "### Fixing `category` Column"
   ]
  },
  {
   "cell_type": "markdown",
   "metadata": {},
   "source": [
    "Call split_and_expand function to fix genres columns"
   ]
  },
  {
   "cell_type": "code",
   "execution_count": 41,
   "metadata": {},
   "outputs": [],
   "source": [
    "#Call split_and_expand function and put it in new dataframe called df_genres\n",
    "split_category_df = split_and_expand(df, 'category')"
   ]
  },
  {
   "cell_type": "code",
   "execution_count": 42,
   "metadata": {},
   "outputs": [
    {
     "data": {
      "text/plain": [
       "(1464, 14)"
      ]
     },
     "execution_count": 42,
     "metadata": {},
     "output_type": "execute_result"
    }
   ],
   "source": [
    "split_category_df.shape"
   ]
  },
  {
   "cell_type": "code",
   "execution_count": 43,
   "metadata": {
    "scrolled": true
   },
   "outputs": [
    {
     "name": "stdout",
     "output_type": "stream",
     "text": [
      "<class 'pandas.core.frame.DataFrame'>\n",
      "Int64Index: 1464 entries, 0 to 1464\n",
      "Data columns (total 14 columns):\n",
      " #   Column               Non-Null Count  Dtype  \n",
      "---  ------               --------------  -----  \n",
      " 0   product_id           1464 non-null   object \n",
      " 1   product_name         1464 non-null   object \n",
      " 2   discounted_price     1464 non-null   float64\n",
      " 3   actual_price         1464 non-null   float64\n",
      " 4   discount_percentage  1464 non-null   float64\n",
      " 5   rating               1464 non-null   float64\n",
      " 6   rating_count         1464 non-null   float64\n",
      " 7   about_product        1464 non-null   object \n",
      " 8   review_id            1464 non-null   object \n",
      " 9   review_title         1464 non-null   object \n",
      " 10  review_content       1464 non-null   object \n",
      " 11  product_link         1464 non-null   object \n",
      " 12  category             1464 non-null   object \n",
      " 13  product_type         1464 non-null   object \n",
      "dtypes: float64(5), object(9)\n",
      "memory usage: 203.9+ KB\n"
     ]
    }
   ],
   "source": [
    "#Confirm the new genre column\n",
    "split_category_df.info()"
   ]
  },
  {
   "cell_type": "code",
   "execution_count": 44,
   "metadata": {},
   "outputs": [
    {
     "data": {
      "text/html": [
       "<div>\n",
       "<style scoped>\n",
       "    .dataframe tbody tr th:only-of-type {\n",
       "        vertical-align: middle;\n",
       "    }\n",
       "\n",
       "    .dataframe tbody tr th {\n",
       "        vertical-align: top;\n",
       "    }\n",
       "\n",
       "    .dataframe thead th {\n",
       "        text-align: right;\n",
       "    }\n",
       "</style>\n",
       "<table border=\"1\" class=\"dataframe\">\n",
       "  <thead>\n",
       "    <tr style=\"text-align: right;\">\n",
       "      <th></th>\n",
       "      <th>product_id</th>\n",
       "      <th>product_name</th>\n",
       "      <th>discounted_price</th>\n",
       "      <th>actual_price</th>\n",
       "      <th>discount_percentage</th>\n",
       "      <th>rating</th>\n",
       "      <th>rating_count</th>\n",
       "      <th>about_product</th>\n",
       "      <th>review_id</th>\n",
       "      <th>review_title</th>\n",
       "      <th>review_content</th>\n",
       "      <th>product_link</th>\n",
       "      <th>category</th>\n",
       "      <th>product_type</th>\n",
       "    </tr>\n",
       "  </thead>\n",
       "  <tbody>\n",
       "    <tr>\n",
       "      <th>0</th>\n",
       "      <td>B07JW9H4J1</td>\n",
       "      <td>Wayona Nylon Braided USB to Lightning Fast Cha...</td>\n",
       "      <td>399.0</td>\n",
       "      <td>1099.0</td>\n",
       "      <td>0.64</td>\n",
       "      <td>4.2</td>\n",
       "      <td>24269.0</td>\n",
       "      <td>High Compatibility : Compatible With iPhone 12...</td>\n",
       "      <td>R3HXWT0LRP0NMF,R2AJM3LFTLZHFO,R6AQJGUP6P86,R1K...</td>\n",
       "      <td>Satisfied,Charging is really fast,Value for mo...</td>\n",
       "      <td>Looks durable Charging is fine tooNo complains...</td>\n",
       "      <td>https://www.amazon.in/Wayona-Braided-WN3LG1-Sy...</td>\n",
       "      <td>Computers&amp;Accessories</td>\n",
       "      <td>USBCables</td>\n",
       "    </tr>\n",
       "    <tr>\n",
       "      <th>1</th>\n",
       "      <td>B098NS6PVG</td>\n",
       "      <td>Ambrane Unbreakable 60W / 3A Fast Charging 1.5...</td>\n",
       "      <td>199.0</td>\n",
       "      <td>349.0</td>\n",
       "      <td>0.43</td>\n",
       "      <td>4.0</td>\n",
       "      <td>43994.0</td>\n",
       "      <td>Compatible with all Type C enabled devices, be...</td>\n",
       "      <td>RGIQEG07R9HS2,R1SMWZQ86XIN8U,R2J3Y1WL29GWDE,RY...</td>\n",
       "      <td>A Good Braided Cable for Your Type C Device,Go...</td>\n",
       "      <td>I ordered this cable to connect my phone to An...</td>\n",
       "      <td>https://www.amazon.in/Ambrane-Unbreakable-Char...</td>\n",
       "      <td>Computers&amp;Accessories</td>\n",
       "      <td>USBCables</td>\n",
       "    </tr>\n",
       "    <tr>\n",
       "      <th>2</th>\n",
       "      <td>B096MSW6CT</td>\n",
       "      <td>Sounce Fast Phone Charging Cable &amp; Data Sync U...</td>\n",
       "      <td>199.0</td>\n",
       "      <td>1899.0</td>\n",
       "      <td>0.90</td>\n",
       "      <td>3.9</td>\n",
       "      <td>7928.0</td>\n",
       "      <td>【 Fast Charger&amp; Data Sync】-With built-in safet...</td>\n",
       "      <td>R3J3EQQ9TZI5ZJ,R3E7WBGK7ID0KV,RWU79XKQ6I1QF,R2...</td>\n",
       "      <td>Good speed for earlier versions,Good Product,W...</td>\n",
       "      <td>Not quite durable and sturdy,https://m.media-a...</td>\n",
       "      <td>https://www.amazon.in/Sounce-iPhone-Charging-C...</td>\n",
       "      <td>Computers&amp;Accessories</td>\n",
       "      <td>USBCables</td>\n",
       "    </tr>\n",
       "    <tr>\n",
       "      <th>3</th>\n",
       "      <td>B08HDJ86NZ</td>\n",
       "      <td>boAt Deuce USB 300 2 in 1 Type-C &amp; Micro USB S...</td>\n",
       "      <td>329.0</td>\n",
       "      <td>699.0</td>\n",
       "      <td>0.53</td>\n",
       "      <td>4.2</td>\n",
       "      <td>94363.0</td>\n",
       "      <td>The boAt Deuce USB 300 2 in 1 cable is compati...</td>\n",
       "      <td>R3EEUZKKK9J36I,R3HJVYCLYOY554,REDECAZ7AMPQC,R1...</td>\n",
       "      <td>Good product,Good one,Nice,Really nice product...</td>\n",
       "      <td>Good product,long wire,Charges good,Nice,I bou...</td>\n",
       "      <td>https://www.amazon.in/Deuce-300-Resistant-Tang...</td>\n",
       "      <td>Computers&amp;Accessories</td>\n",
       "      <td>USBCables</td>\n",
       "    </tr>\n",
       "    <tr>\n",
       "      <th>4</th>\n",
       "      <td>B08CF3B7N1</td>\n",
       "      <td>Portronics Konnect L 1.2M Fast Charging 3A 8 P...</td>\n",
       "      <td>154.0</td>\n",
       "      <td>399.0</td>\n",
       "      <td>0.61</td>\n",
       "      <td>4.2</td>\n",
       "      <td>16905.0</td>\n",
       "      <td>[CHARGE &amp; SYNC FUNCTION]- This cable comes wit...</td>\n",
       "      <td>R1BP4L2HH9TFUP,R16PVJEXKV6QZS,R2UPDB81N66T4P,R...</td>\n",
       "      <td>As good as original,Decent,Good one for second...</td>\n",
       "      <td>Bought this instead of original apple, does th...</td>\n",
       "      <td>https://www.amazon.in/Portronics-Konnect-POR-1...</td>\n",
       "      <td>Computers&amp;Accessories</td>\n",
       "      <td>USBCables</td>\n",
       "    </tr>\n",
       "    <tr>\n",
       "      <th>...</th>\n",
       "      <td>...</td>\n",
       "      <td>...</td>\n",
       "      <td>...</td>\n",
       "      <td>...</td>\n",
       "      <td>...</td>\n",
       "      <td>...</td>\n",
       "      <td>...</td>\n",
       "      <td>...</td>\n",
       "      <td>...</td>\n",
       "      <td>...</td>\n",
       "      <td>...</td>\n",
       "      <td>...</td>\n",
       "      <td>...</td>\n",
       "      <td>...</td>\n",
       "    </tr>\n",
       "    <tr>\n",
       "      <th>95</th>\n",
       "      <td>B093QCY6YJ</td>\n",
       "      <td>ZEBRONICS ZEB-USB150WF1 WiFi USB Mini Adapter ...</td>\n",
       "      <td>290.0</td>\n",
       "      <td>349.0</td>\n",
       "      <td>0.17</td>\n",
       "      <td>3.7</td>\n",
       "      <td>1977.0</td>\n",
       "      <td>Supports 150Mbps Wireless data transmission ra...</td>\n",
       "      <td>R32XZQTB1BP0J8,R2NHRHTL743ZMA,R10FKRAEORI9L,RE...</td>\n",
       "      <td>Good product,Best produced,Working well as of ...</td>\n",
       "      <td>Working very nice ok,Sahi paise ke hisab se sa...</td>\n",
       "      <td>https://www.amazon.in/ZEBRONICS-ZEB-USB150WF1-...</td>\n",
       "      <td>Computers&amp;Accessories</td>\n",
       "      <td>WirelessUSBAdapters</td>\n",
       "    </tr>\n",
       "    <tr>\n",
       "      <th>96</th>\n",
       "      <td>B093ZNQZ2Y</td>\n",
       "      <td>LOHAYA Remote Compatible for Mi Smart LED TV 4...</td>\n",
       "      <td>249.0</td>\n",
       "      <td>799.0</td>\n",
       "      <td>0.69</td>\n",
       "      <td>3.8</td>\n",
       "      <td>1079.0</td>\n",
       "      <td>Compatible with MI Smart TV 4A 32 inch LED TV ...</td>\n",
       "      <td>R1MTTFP4GWHWC8,R2A03DS956BN4T,R21TRTA1VGGCD3,R...</td>\n",
       "      <td>Very hard to use,Good,Required Replacement but...</td>\n",
       "      <td>Not value for money.. not satisfied,Good,Requi...</td>\n",
       "      <td>https://www.amazon.in/LOHAYA-Remote-Compatible...</td>\n",
       "      <td>Electronics</td>\n",
       "      <td>RemoteControls</td>\n",
       "    </tr>\n",
       "    <tr>\n",
       "      <th>97</th>\n",
       "      <td>B08LKS3LSP</td>\n",
       "      <td>Gilary Multi Charging Cable, 3 in 1 Nylon Brai...</td>\n",
       "      <td>345.0</td>\n",
       "      <td>999.0</td>\n",
       "      <td>0.65</td>\n",
       "      <td>3.7</td>\n",
       "      <td>1097.0</td>\n",
       "      <td>The cable comes with 3 Different pins allowing...</td>\n",
       "      <td>R168J8VQSY0OH5,R18LTVF8A76SR3,RVRLO0A6SRBIU,R3...</td>\n",
       "      <td>Product is nice,Decent cable,It charges all th...</td>\n",
       "      <td>Product  is nice,Decent charging cable for the...</td>\n",
       "      <td>https://www.amazon.in/Gilary-Charging-Braided-...</td>\n",
       "      <td>Computers&amp;Accessories</td>\n",
       "      <td>USBCables</td>\n",
       "    </tr>\n",
       "    <tr>\n",
       "      <th>98</th>\n",
       "      <td>B00V4BGDKU</td>\n",
       "      <td>TP-Link UE300 USB 3.0 to RJ45 Gigabit Ethernet...</td>\n",
       "      <td>1099.0</td>\n",
       "      <td>1899.0</td>\n",
       "      <td>0.42</td>\n",
       "      <td>4.5</td>\n",
       "      <td>22420.0</td>\n",
       "      <td>Fastest USB 3.0 and Gigabit solution ensure hi...</td>\n",
       "      <td>R30SWI8U6K7PDR,R2K3WL7JFGLDI,R2WXWZRPAKQ1GP,R2...</td>\n",
       "      <td>Easy to use,Working fine - but errors while us...</td>\n",
       "      <td>Good looking amd working fine.,I brought this ...</td>\n",
       "      <td>https://www.amazon.in/TP-Link-TL-UE300-Gigabit...</td>\n",
       "      <td>Computers&amp;Accessories</td>\n",
       "      <td>WirelessUSBAdapters</td>\n",
       "    </tr>\n",
       "    <tr>\n",
       "      <th>99</th>\n",
       "      <td>B08CHKQ8D4</td>\n",
       "      <td>Wayona Type C to Lightning MFI Certified 20W F...</td>\n",
       "      <td>719.0</td>\n",
       "      <td>1499.0</td>\n",
       "      <td>0.52</td>\n",
       "      <td>4.1</td>\n",
       "      <td>1045.0</td>\n",
       "      <td>【Power Delivery Fast Charging】: Charge your iP...</td>\n",
       "      <td>R3ROJ6AWGN2UFN,R3160KII7MBSDT,R8ZDM5P3NBJ6V,R2...</td>\n",
       "      <td>Good,I don’t like this product,Awesome product...</td>\n",
       "      <td>Good,,Quality of cable is good and fast chargi...</td>\n",
       "      <td>https://www.amazon.in/Wayona-charging-Nylon-Br...</td>\n",
       "      <td>Computers&amp;Accessories</td>\n",
       "      <td>USBCables</td>\n",
       "    </tr>\n",
       "  </tbody>\n",
       "</table>\n",
       "<p>100 rows × 14 columns</p>\n",
       "</div>"
      ],
      "text/plain": [
       "    product_id                                       product_name  \\\n",
       "0   B07JW9H4J1  Wayona Nylon Braided USB to Lightning Fast Cha...   \n",
       "1   B098NS6PVG  Ambrane Unbreakable 60W / 3A Fast Charging 1.5...   \n",
       "2   B096MSW6CT  Sounce Fast Phone Charging Cable & Data Sync U...   \n",
       "3   B08HDJ86NZ  boAt Deuce USB 300 2 in 1 Type-C & Micro USB S...   \n",
       "4   B08CF3B7N1  Portronics Konnect L 1.2M Fast Charging 3A 8 P...   \n",
       "..         ...                                                ...   \n",
       "95  B093QCY6YJ  ZEBRONICS ZEB-USB150WF1 WiFi USB Mini Adapter ...   \n",
       "96  B093ZNQZ2Y  LOHAYA Remote Compatible for Mi Smart LED TV 4...   \n",
       "97  B08LKS3LSP  Gilary Multi Charging Cable, 3 in 1 Nylon Brai...   \n",
       "98  B00V4BGDKU  TP-Link UE300 USB 3.0 to RJ45 Gigabit Ethernet...   \n",
       "99  B08CHKQ8D4  Wayona Type C to Lightning MFI Certified 20W F...   \n",
       "\n",
       "    discounted_price  actual_price  discount_percentage  rating  rating_count  \\\n",
       "0              399.0        1099.0                 0.64     4.2       24269.0   \n",
       "1              199.0         349.0                 0.43     4.0       43994.0   \n",
       "2              199.0        1899.0                 0.90     3.9        7928.0   \n",
       "3              329.0         699.0                 0.53     4.2       94363.0   \n",
       "4              154.0         399.0                 0.61     4.2       16905.0   \n",
       "..               ...           ...                  ...     ...           ...   \n",
       "95             290.0         349.0                 0.17     3.7        1977.0   \n",
       "96             249.0         799.0                 0.69     3.8        1079.0   \n",
       "97             345.0         999.0                 0.65     3.7        1097.0   \n",
       "98            1099.0        1899.0                 0.42     4.5       22420.0   \n",
       "99             719.0        1499.0                 0.52     4.1        1045.0   \n",
       "\n",
       "                                        about_product  \\\n",
       "0   High Compatibility : Compatible With iPhone 12...   \n",
       "1   Compatible with all Type C enabled devices, be...   \n",
       "2   【 Fast Charger& Data Sync】-With built-in safet...   \n",
       "3   The boAt Deuce USB 300 2 in 1 cable is compati...   \n",
       "4   [CHARGE & SYNC FUNCTION]- This cable comes wit...   \n",
       "..                                                ...   \n",
       "95  Supports 150Mbps Wireless data transmission ra...   \n",
       "96  Compatible with MI Smart TV 4A 32 inch LED TV ...   \n",
       "97  The cable comes with 3 Different pins allowing...   \n",
       "98  Fastest USB 3.0 and Gigabit solution ensure hi...   \n",
       "99  【Power Delivery Fast Charging】: Charge your iP...   \n",
       "\n",
       "                                            review_id  \\\n",
       "0   R3HXWT0LRP0NMF,R2AJM3LFTLZHFO,R6AQJGUP6P86,R1K...   \n",
       "1   RGIQEG07R9HS2,R1SMWZQ86XIN8U,R2J3Y1WL29GWDE,RY...   \n",
       "2   R3J3EQQ9TZI5ZJ,R3E7WBGK7ID0KV,RWU79XKQ6I1QF,R2...   \n",
       "3   R3EEUZKKK9J36I,R3HJVYCLYOY554,REDECAZ7AMPQC,R1...   \n",
       "4   R1BP4L2HH9TFUP,R16PVJEXKV6QZS,R2UPDB81N66T4P,R...   \n",
       "..                                                ...   \n",
       "95  R32XZQTB1BP0J8,R2NHRHTL743ZMA,R10FKRAEORI9L,RE...   \n",
       "96  R1MTTFP4GWHWC8,R2A03DS956BN4T,R21TRTA1VGGCD3,R...   \n",
       "97  R168J8VQSY0OH5,R18LTVF8A76SR3,RVRLO0A6SRBIU,R3...   \n",
       "98  R30SWI8U6K7PDR,R2K3WL7JFGLDI,R2WXWZRPAKQ1GP,R2...   \n",
       "99  R3ROJ6AWGN2UFN,R3160KII7MBSDT,R8ZDM5P3NBJ6V,R2...   \n",
       "\n",
       "                                         review_title  \\\n",
       "0   Satisfied,Charging is really fast,Value for mo...   \n",
       "1   A Good Braided Cable for Your Type C Device,Go...   \n",
       "2   Good speed for earlier versions,Good Product,W...   \n",
       "3   Good product,Good one,Nice,Really nice product...   \n",
       "4   As good as original,Decent,Good one for second...   \n",
       "..                                                ...   \n",
       "95  Good product,Best produced,Working well as of ...   \n",
       "96  Very hard to use,Good,Required Replacement but...   \n",
       "97  Product is nice,Decent cable,It charges all th...   \n",
       "98  Easy to use,Working fine - but errors while us...   \n",
       "99  Good,I don’t like this product,Awesome product...   \n",
       "\n",
       "                                       review_content  \\\n",
       "0   Looks durable Charging is fine tooNo complains...   \n",
       "1   I ordered this cable to connect my phone to An...   \n",
       "2   Not quite durable and sturdy,https://m.media-a...   \n",
       "3   Good product,long wire,Charges good,Nice,I bou...   \n",
       "4   Bought this instead of original apple, does th...   \n",
       "..                                                ...   \n",
       "95  Working very nice ok,Sahi paise ke hisab se sa...   \n",
       "96  Not value for money.. not satisfied,Good,Requi...   \n",
       "97  Product  is nice,Decent charging cable for the...   \n",
       "98  Good looking amd working fine.,I brought this ...   \n",
       "99  Good,,Quality of cable is good and fast chargi...   \n",
       "\n",
       "                                         product_link               category  \\\n",
       "0   https://www.amazon.in/Wayona-Braided-WN3LG1-Sy...  Computers&Accessories   \n",
       "1   https://www.amazon.in/Ambrane-Unbreakable-Char...  Computers&Accessories   \n",
       "2   https://www.amazon.in/Sounce-iPhone-Charging-C...  Computers&Accessories   \n",
       "3   https://www.amazon.in/Deuce-300-Resistant-Tang...  Computers&Accessories   \n",
       "4   https://www.amazon.in/Portronics-Konnect-POR-1...  Computers&Accessories   \n",
       "..                                                ...                    ...   \n",
       "95  https://www.amazon.in/ZEBRONICS-ZEB-USB150WF1-...  Computers&Accessories   \n",
       "96  https://www.amazon.in/LOHAYA-Remote-Compatible...            Electronics   \n",
       "97  https://www.amazon.in/Gilary-Charging-Braided-...  Computers&Accessories   \n",
       "98  https://www.amazon.in/TP-Link-TL-UE300-Gigabit...  Computers&Accessories   \n",
       "99  https://www.amazon.in/Wayona-charging-Nylon-Br...  Computers&Accessories   \n",
       "\n",
       "           product_type  \n",
       "0             USBCables  \n",
       "1             USBCables  \n",
       "2             USBCables  \n",
       "3             USBCables  \n",
       "4             USBCables  \n",
       "..                  ...  \n",
       "95  WirelessUSBAdapters  \n",
       "96       RemoteControls  \n",
       "97            USBCables  \n",
       "98  WirelessUSBAdapters  \n",
       "99            USBCables  \n",
       "\n",
       "[100 rows x 14 columns]"
      ]
     },
     "execution_count": 44,
     "metadata": {},
     "output_type": "execute_result"
    }
   ],
   "source": [
    "split_category_df.head(100)"
   ]
  },
  {
   "cell_type": "markdown",
   "metadata": {},
   "source": [
    "## Sentiment Analysis"
   ]
  },
  {
   "cell_type": "markdown",
   "metadata": {},
   "source": [
    "Function to get sentiment"
   ]
  },
  {
   "cell_type": "code",
   "execution_count": 45,
   "metadata": {},
   "outputs": [],
   "source": [
    "# Function to get sentiment\n",
    "def get_sentiment(text):\n",
    "    analysis = TextBlob(text)\n",
    "    \n",
    "    # returns a polarity score between -1 (negative) and 1 (positive)\n",
    "    return analysis.sentiment.polarity"
   ]
  },
  {
   "cell_type": "code",
   "execution_count": 46,
   "metadata": {
    "scrolled": true
   },
   "outputs": [],
   "source": [
    "# Applying sentiment analysis on the 'review_content' column\n",
    "split_category_df['textblob_sentiment_score'] = split_category_df['review_content'].apply(get_sentiment)"
   ]
  },
  {
   "cell_type": "code",
   "execution_count": 47,
   "metadata": {},
   "outputs": [],
   "source": [
    "# Categorizing the sentiment as Positive, Neutral, or Negative\n",
    "split_category_df['text_blob_sentiment'] = split_category_df['textblob_sentiment_score'].apply(lambda x: 'Positive' if x > 0 else ('Negative' if x < 0 else 'Neutral'))"
   ]
  },
  {
   "cell_type": "code",
   "execution_count": 48,
   "metadata": {},
   "outputs": [
    {
     "data": {
      "text/plain": [
       "Positive    1437\n",
       "Negative      26\n",
       "Neutral        1\n",
       "Name: text_blob_sentiment, dtype: int64"
      ]
     },
     "execution_count": 48,
     "metadata": {},
     "output_type": "execute_result"
    }
   ],
   "source": [
    "split_category_df['text_blob_sentiment'].value_counts()"
   ]
  },
  {
   "cell_type": "code",
   "execution_count": 49,
   "metadata": {},
   "outputs": [
    {
     "name": "stderr",
     "output_type": "stream",
     "text": [
      "[nltk_data] Downloading package vader_lexicon to\n",
      "[nltk_data]     /home/haucongle/nltk_data...\n",
      "[nltk_data]   Package vader_lexicon is already up-to-date!\n"
     ]
    },
    {
     "data": {
      "text/plain": [
       "True"
      ]
     },
     "execution_count": 49,
     "metadata": {},
     "output_type": "execute_result"
    }
   ],
   "source": [
    "# Download VADER lexicon (only the first time)\n",
    "nltk.download('vader_lexicon')"
   ]
  },
  {
   "cell_type": "code",
   "execution_count": 50,
   "metadata": {},
   "outputs": [],
   "source": [
    "# Initialize VADER SentimentIntensityAnalyzer\n",
    "sia = SentimentIntensityAnalyzer()"
   ]
  },
  {
   "cell_type": "code",
   "execution_count": 51,
   "metadata": {},
   "outputs": [],
   "source": [
    "# Function to get sentiment\n",
    "def get_vader_sentiment(text):\n",
    "    score = sia.polarity_scores(text)\n",
    "    return score['compound']  # compound score between -1 (negative) and 1 (positive)"
   ]
  },
  {
   "cell_type": "code",
   "execution_count": 52,
   "metadata": {},
   "outputs": [],
   "source": [
    "# Applying sentiment analysis\n",
    "split_category_df['vader_sentiment_score'] = split_category_df['review_content'].apply(get_vader_sentiment)\n",
    "split_category_df['vader_sentiment'] = split_category_df['vader_sentiment_score'].apply(lambda x: 'Positive' if x > 0 else ('Negative' if x < 0 else 'Neutral'))"
   ]
  },
  {
   "cell_type": "code",
   "execution_count": 53,
   "metadata": {},
   "outputs": [
    {
     "data": {
      "text/plain": [
       "Positive    1381\n",
       "Negative      80\n",
       "Neutral        3\n",
       "Name: vader_sentiment, dtype: int64"
      ]
     },
     "execution_count": 53,
     "metadata": {},
     "output_type": "execute_result"
    }
   ],
   "source": [
    "split_category_df['vader_sentiment'].value_counts()"
   ]
  },
  {
   "cell_type": "markdown",
   "metadata": {},
   "source": [
    "<a id='eda'></a>\n",
    "## Exploratory Data Analysis\n",
    "\n",
    "\n",
    "### Research Question 1: Is there a relationship between discount percentage and average product rating ?"
   ]
  },
  {
   "cell_type": "markdown",
   "metadata": {},
   "source": [
    "**Analysis Decision 1**: Bin the discount percentage data"
   ]
  },
  {
   "cell_type": "code",
   "execution_count": 54,
   "metadata": {},
   "outputs": [],
   "source": [
    "bins = [0, 0.1, 0.2, 0.3, 0.4, 0.5, 0.6, 0.7, 0.8, 0.9, 1.0]\n",
    "labels = ['0-10%', '10-20%', '20-30%', '30-40%', '40-50%', '50-60%', '60-70%', '70-80%', '80-90%', '90-100%']\n",
    "split_category_df['discount_bin'] = pd.cut(split_category_df['discount_percentage'], bins=bins, labels=labels)"
   ]
  },
  {
   "cell_type": "markdown",
   "metadata": {},
   "source": [
    "**Reasoning**: Provids a simplified distribution and can make comparisons easier."
   ]
  },
  {
   "cell_type": "markdown",
   "metadata": {},
   "source": [
    "**Analysis Decision 2**: Draw histogram to describe distribution of discount percentage."
   ]
  },
  {
   "cell_type": "code",
   "execution_count": 55,
   "metadata": {
    "scrolled": false
   },
   "outputs": [
    {
     "data": {
      "image/png": "[encoded data removed]",
      "text/plain": [
       "<Figure size 1400x800 with 1 Axes>"
      ]
     },
     "metadata": {},
     "output_type": "display_data"
    }
   ],
   "source": [
    "plt.figure(figsize=(14, 8))\n",
    "sns.histplot(split_category_df['discount_bin'], kde=True)\n",
    "plt.title('Distribution of Discounted Percentage')\n",
    "plt.xlabel('Discounted Percentage')\n",
    "plt.ylabel('Frequency')\n",
    "plt.show()"
   ]
  },
  {
   "cell_type": "markdown",
   "metadata": {},
   "source": [
    "**Reasoning**: This histogram plot will help us understand how pricing stategies are distributed and potential impact on consumer behavior and busisness performance."
   ]
  },
  {
   "cell_type": "markdown",
   "metadata": {},
   "source": [
    "**Summary**: \n",
    "- The peak around 40% to 60% discount.\n",
    "- Discounts greater than 80% are rare.\n",
    "- Very few products are offered without any discount.\n",
    "- Most products are offered with moderate to high discounts, with a few products available at no discount or very high discounts."
   ]
  },
  {
   "cell_type": "markdown",
   "metadata": {},
   "source": [
    "**Analysis Decision 3**: Rating"
   ]
  },
  {
   "cell_type": "code",
   "execution_count": 56,
   "metadata": {
    "scrolled": false
   },
   "outputs": [
    {
     "data": {
      "image/png": "[encoded data removed]",
      "text/plain": [
       "<Figure size 1400x800 with 1 Axes>"
      ]
     },
     "metadata": {},
     "output_type": "display_data"
    }
   ],
   "source": [
    "plt.figure(figsize=(14, 8))\n",
    "sns.histplot(split_category_df['rating'], kde=True)\n",
    "plt.title('Distribution of Rating')\n",
    "plt.xlabel('Rating')\n",
    "plt.ylabel('Frequency')\n",
    "plt.show()"
   ]
  },
  {
   "cell_type": "markdown",
   "metadata": {},
   "source": [
    "**Reasoning**: This histogram plot will help us understand how pricing stategies are distributed and potential impact on consumer behavior and busisness performance."
   ]
  },
  {
   "cell_type": "markdown",
   "metadata": {},
   "source": [
    "**Summary**: \n",
    "- The majority of ratings seem to cluster betwen 3.5 and 4.5, indicating that most products are rated positively.\n",
    "- Very few ratings are below 3.0, suggesting that poor ratings are rare in this dataset"
   ]
  },
  {
   "cell_type": "code",
   "execution_count": 57,
   "metadata": {},
   "outputs": [
    {
     "data": {
      "text/plain": [
       "-0.15507651849573378"
      ]
     },
     "execution_count": 57,
     "metadata": {},
     "output_type": "execute_result"
    }
   ],
   "source": [
    "#Calculate the correlation number between vote_count and Revenue\n",
    "split_category_df['discount_percentage'].corr(split_category_df['rating'])"
   ]
  },
  {
   "cell_type": "markdown",
   "metadata": {},
   "source": [
    "**Analysis Decision 4**: Relationship between rating and discount percentage"
   ]
  },
  {
   "cell_type": "code",
   "execution_count": 58,
   "metadata": {
    "scrolled": false
   },
   "outputs": [
    {
     "data": {
      "image/png": "[encoded data removed]",
      "text/plain": [
       "<Figure size 640x480 with 1 Axes>"
      ]
     },
     "metadata": {},
     "output_type": "display_data"
    }
   ],
   "source": [
    "sns.scatterplot(x='rating',y='discount_percentage', data= split_category_df, color = \"green\")\n",
    "plt.title(\"discount_percentage & rating\")\n",
    "plt.show()"
   ]
  },
  {
   "cell_type": "markdown",
   "metadata": {},
   "source": [
    "**Reasoning**: This scatter plot will help us understand whether higher rating engagement leads to higher discount percentage"
   ]
  },
  {
   "cell_type": "markdown",
   "metadata": {},
   "source": [
    "**Summary**: Based on the scatter plot and the calculated correlation number result (-0.15507651849573378), it shows the weak negative correlation between discount_percentage and rating, suggesting that discount percentage has a limited impact on rating."
   ]
  },
  {
   "cell_type": "markdown",
   "metadata": {},
   "source": [
    "**Analysis Decision 5**: Grouping Rating"
   ]
  },
  {
   "cell_type": "markdown",
   "metadata": {},
   "source": [
    "**Reasoning**: This grouping gives a meaningful breakdown, because the ratings are mostly concentrated around certain values."
   ]
  },
  {
   "cell_type": "markdown",
   "metadata": {},
   "source": [
    "- Low Ratings (1.0 - 3.0): These are rare, but they represent a significant drop in product quality or satisfaction.\n",
    "- Average Ratings (3.0 - 4.0): This range covers a moderate level of satisfaction.\n",
    "- Good Ratings (4.0 - 4.5): The largest concentration falls here, representing well-rated products.\n",
    "- Excellent Ratings (4.5 - 5.0): This would represent top-rated products."
   ]
  },
  {
   "cell_type": "code",
   "execution_count": 59,
   "metadata": {},
   "outputs": [],
   "source": [
    "split_category_df['mean_of_ratings'] = pd.cut(df['rating'], [1, 3, 3.5, 4, 5], labels = ['Low', 'Average', 'Good', 'Excellent'])"
   ]
  },
  {
   "cell_type": "code",
   "execution_count": 60,
   "metadata": {},
   "outputs": [
    {
     "data": {
      "image/png": "[encoded data removed]",
      "text/plain": [
       "<Figure size 1400x800 with 1 Axes>"
      ]
     },
     "metadata": {},
     "output_type": "display_data"
    }
   ],
   "source": [
    "plt.figure(figsize=(14, 8))\n",
    "sns.histplot(split_category_df['mean_of_ratings'], kde=True)\n",
    "plt.title('Distribution of Rating')\n",
    "plt.xlabel('Rating')\n",
    "plt.ylabel('Frequency')\n",
    "plt.show()"
   ]
  },
  {
   "cell_type": "code",
   "execution_count": 61,
   "metadata": {},
   "outputs": [
    {
     "name": "stdout",
     "output_type": "stream",
     "text": [
      "mean_of_ratings\n",
      "Low          0.548148\n",
      "Average     -0.096236\n",
      "Good        -0.040843\n",
      "Excellent   -0.056030\n",
      "dtype: float64\n"
     ]
    }
   ],
   "source": [
    "# Group by rating categories and calculate the correlation\n",
    "grouped_by_rating = split_category_df.groupby('mean_of_ratings').apply(\n",
    "    lambda x: x['discount_percentage'].corr(x['rating'])\n",
    ")\n",
    "\n",
    "print(grouped_by_rating)"
   ]
  },
  {
   "cell_type": "markdown",
   "metadata": {},
   "source": [
    "- Low-Rated Products: There is a moderately strong positive correlation for low-rated products. This suggests that products with low ratings are likely to offer higher discounts.\n",
    "- Average, Good, and Excellent Products: For these categories, the correlation is weakly negative. This suggests that higher discounts are less commonly associated with higher-rated products. In fact, these products are more likely to maintain moderate or lower discount levels, relying on their good ratings to drive sales."
   ]
  },
  {
   "cell_type": "code",
   "execution_count": 62,
   "metadata": {},
   "outputs": [
    {
     "name": "stdout",
     "output_type": "stream",
     "text": [
      "mean_of_ratings\n",
      "Low          0.638889\n",
      "Average      0.563276\n",
      "Good         0.507356\n",
      "Excellent    0.454267\n",
      "Name: discount_percentage, dtype: float64\n"
     ]
    }
   ],
   "source": [
    "discount_vs_rating = split_category_df.groupby('mean_of_ratings')['discount_percentage'].mean()\n",
    "print(discount_vs_rating)"
   ]
  },
  {
   "cell_type": "code",
   "execution_count": 63,
   "metadata": {},
   "outputs": [
    {
     "data": {
      "image/png": "[encoded data removed]",
      "text/plain": [
       "<Figure size 1000x600 with 1 Axes>"
      ]
     },
     "metadata": {},
     "output_type": "display_data"
    }
   ],
   "source": [
    "plt.figure(figsize=(10,6))\n",
    "sns.boxplot(x='mean_of_ratings', y='discount_percentage', data=split_category_df)\n",
    "plt.title('Box Plot of Discount Percentage Across Rating Categories')\n",
    "plt.xlabel('Rating Category')\n",
    "plt.ylabel('Discount Percentage')\n",
    "plt.show()"
   ]
  },
  {
   "cell_type": "markdown",
   "metadata": {},
   "source": [
    "The relationship between discount percentage and product ratings is clear:\n",
    "- Products with lower ratings tend to offer higher discounts.\n",
    "- Products with higher ratings offer more moderate discounts, leveraging their quality and reputation to drive sales without needing large discounts."
   ]
  },
  {
   "cell_type": "markdown",
   "metadata": {},
   "source": [
    "### Research Question 2:  Do products with more reviews have higher or lower average ratings?"
   ]
  },
  {
   "cell_type": "markdown",
   "metadata": {},
   "source": [
    "**Analysis Decision 1**: Create review count ranges."
   ]
  },
  {
   "cell_type": "code",
   "execution_count": 64,
   "metadata": {},
   "outputs": [
    {
     "data": {
      "text/plain": [
       "count      1464.000000\n",
       "mean      18283.084016\n",
       "std       42741.908537\n",
       "min           2.000000\n",
       "25%        1179.000000\n",
       "50%        5178.500000\n",
       "75%       17330.750000\n",
       "max      426973.000000\n",
       "Name: rating_count, dtype: float64"
      ]
     },
     "execution_count": 64,
     "metadata": {},
     "output_type": "execute_result"
    }
   ],
   "source": [
    "split_category_df['rating_count'].describe()"
   ]
  },
  {
   "cell_type": "code",
   "execution_count": 65,
   "metadata": {},
   "outputs": [],
   "source": [
    "# Step 1: Define bins for review count ranges\n",
    "bins = [0, 100, 1000, 5000, 10000, 50000, 100000, 500000]  # Define the review count ranges\n",
    "labels = ['0-100', '100-1000', '1000-5000', '5000-10000', '10000-50000', '50000-100000', '100000+']  # Label each range"
   ]
  },
  {
   "cell_type": "code",
   "execution_count": 66,
   "metadata": {},
   "outputs": [],
   "source": [
    "# Create a new column in the DataFrame to represent review count ranges\n",
    "split_category_df['rating_count_group'] = pd.cut(split_category_df['rating_count'], bins=bins, labels=labels)"
   ]
  },
  {
   "cell_type": "markdown",
   "metadata": {},
   "source": [
    "**Reasoning**: To ensure that we work with clean dataset by removing out zero revenues and budgets."
   ]
  },
  {
   "cell_type": "markdown",
   "metadata": {},
   "source": [
    "**Analysis Decision 2**: Calculate Average Ratings for Each Review Count Group"
   ]
  },
  {
   "cell_type": "code",
   "execution_count": 67,
   "metadata": {},
   "outputs": [],
   "source": [
    "# Group by the review count ranges and calculate the mean rating\n",
    "review_count_vs_rating = split_category_df.groupby('rating_count_group')['rating'].mean().reset_index()"
   ]
  },
  {
   "cell_type": "code",
   "execution_count": 68,
   "metadata": {},
   "outputs": [
    {
     "name": "stdout",
     "output_type": "stream",
     "text": [
      "  rating_count_group    rating\n",
      "0              0-100  3.924658\n",
      "1           100-1000  4.005906\n",
      "2          1000-5000  4.092443\n",
      "3         5000-10000  4.138614\n",
      "4        10000-50000  4.140662\n",
      "5       50000-100000  4.195588\n",
      "6            100000+  4.165957\n"
     ]
    }
   ],
   "source": [
    "# Display the result\n",
    "print(review_count_vs_rating)"
   ]
  },
  {
   "cell_type": "markdown",
   "metadata": {},
   "source": [
    "**Reasoning**: By selecting movies with revenus higher than the average revenue, we can identify movies that have high revenue."
   ]
  },
  {
   "cell_type": "markdown",
   "metadata": {},
   "source": [
    "**Analysis Decision 3**: Visualize the Relationship"
   ]
  },
  {
   "cell_type": "code",
   "execution_count": 69,
   "metadata": {
    "scrolled": false
   },
   "outputs": [
    {
     "data": {
      "image/png": "[encoded data removed]",
      "text/plain": [
       "<Figure size 1400x800 with 1 Axes>"
      ]
     },
     "metadata": {},
     "output_type": "display_data"
    }
   ],
   "source": [
    "# Plot the relationship between review count groups and average ratings\n",
    "plt.figure(figsize=(14, 8))\n",
    "plt.bar(review_count_vs_rating['rating_count_group'], review_count_vs_rating['rating'], color='skyblue')\n",
    "plt.xlabel('Review Count Groups')\n",
    "plt.ylabel('Average Rating')\n",
    "plt.title('Average Rating by Review Count Groups')\n",
    "plt.xticks(rotation=45)\n",
    "plt.show()"
   ]
  },
  {
   "cell_type": "code",
   "execution_count": 70,
   "metadata": {},
   "outputs": [
    {
     "data": {
      "image/png": "[encoded data removed]",
      "text/plain": [
       "<Figure size 1400x800 with 1 Axes>"
      ]
     },
     "metadata": {},
     "output_type": "display_data"
    }
   ],
   "source": [
    "plt.figure(figsize=(14,8))\n",
    "sns.boxplot(data=split_category_df, x='rating_count_group', y='rating')\n",
    "plt.title('Box Plot of Ratings Across Review Count Bins')\n",
    "plt.xlabel('Number of Reviews (Binned)')\n",
    "plt.ylabel('Rating')\n",
    "plt.show()"
   ]
  },
  {
   "cell_type": "markdown",
   "metadata": {},
   "source": [
    "**Reasoning**: the histogram will visualize the distribution of movie revenues."
   ]
  },
  {
   "cell_type": "markdown",
   "metadata": {},
   "source": [
    "**Summary**: \n",
    "- Products with fewer reviews have more variability in their ratings (the spread is wider then higher review counts).\n",
    "- Products with moderate to higher reivews are more consistent and positive in their ratings, clustering around 4.0.\n",
    "- Products have 100.000+ reviews slide downward.\n",
    "- All data set reamin mostly positive (above 3.5)"
   ]
  },
  {
   "cell_type": "markdown",
   "metadata": {},
   "source": [
    "**Analysis Decision 4**: Top Directors by Average Revenue"
   ]
  },
  {
   "cell_type": "code",
   "execution_count": 71,
   "metadata": {},
   "outputs": [
    {
     "name": "stdout",
     "output_type": "stream",
     "text": [
      "Correlation between rating_count and rating: 0.10248811280168635\n"
     ]
    }
   ],
   "source": [
    "correlation = split_category_df['rating_count'].corr(split_category_df['rating'])\n",
    "print(f\"Correlation between rating_count and rating: {correlation}\")"
   ]
  },
  {
   "cell_type": "code",
   "execution_count": 72,
   "metadata": {},
   "outputs": [
    {
     "data": {
      "image/png": "[encoded data removed]",
      "text/plain": [
       "<Figure size 640x480 with 1 Axes>"
      ]
     },
     "metadata": {},
     "output_type": "display_data"
    }
   ],
   "source": [
    "sns.scatterplot(x='rating',y='rating_count', data= split_category_df, color = \"green\")\n",
    "plt.title(\"rating_count & rating\")\n",
    "plt.show()"
   ]
  },
  {
   "cell_type": "markdown",
   "metadata": {},
   "source": [
    "**Summary**: \n",
    "- The correlation value of 0.102 suggests that there is a slight positive relationship between the number of reviews and its rating, but this is very weak.\n",
    "- products with more reviews tend to have slightly higher ratings but the effect is minimal."
   ]
  },
  {
   "cell_type": "code",
   "execution_count": 73,
   "metadata": {},
   "outputs": [
    {
     "name": "stdout",
     "output_type": "stream",
     "text": [
      "mean_of_ratings\n",
      "Low          0.604472\n",
      "Average      0.211206\n",
      "Good         0.135987\n",
      "Excellent   -0.065201\n",
      "dtype: float64\n"
     ]
    }
   ],
   "source": [
    "# Group by rating categories and calculate the correlation\n",
    "grouped_by_rating = split_category_df.groupby('mean_of_ratings').apply(\n",
    "    lambda x: x['rating_count'].corr(x['rating'])\n",
    ")\n",
    "\n",
    "print(grouped_by_rating)"
   ]
  },
  {
   "cell_type": "markdown",
   "metadata": {},
   "source": [
    "- Low and Average Ratings: Products with lower ratings tend to receive more reviews, likely due to customers being more vocal when they are dissatisfied or when a product has issues. This suggests that negative experiences drive reviews more often.\n",
    "- Good and Excellent Ratings: For higher-rated products, the correlation weakens and even turns slightly negative. This could mean that products with good or excellent ratings don't need to accumulate as many reviews to maintain their rating, and the number of reviews becomes less impactful on the rating."
   ]
  },
  {
   "cell_type": "code",
   "execution_count": 74,
   "metadata": {},
   "outputs": [
    {
     "name": "stdout",
     "output_type": "stream",
     "text": [
      "mean_of_ratings\n",
      "Low            199.444444\n",
      "Average       5238.620690\n",
      "Good         11663.014925\n",
      "Excellent    22619.446121\n",
      "Name: rating_count, dtype: float64\n"
     ]
    }
   ],
   "source": [
    "review_count_vs_rating = split_category_df.groupby('mean_of_ratings')['rating_count'].mean()\n",
    "print(review_count_vs_rating)"
   ]
  },
  {
   "cell_type": "code",
   "execution_count": 75,
   "metadata": {},
   "outputs": [
    {
     "data": {
      "image/png": "[encoded data removed]",
      "text/plain": [
       "<Figure size 1400x600 with 1 Axes>"
      ]
     },
     "metadata": {},
     "output_type": "display_data"
    }
   ],
   "source": [
    "plt.figure(figsize=(14,6))\n",
    "sns.boxplot(x='mean_of_ratings', y='rating_count', data=split_category_df)\n",
    "plt.title('Box Plot of Discount Percentage Across Rating Categories')\n",
    "plt.xlabel('Rating Category')\n",
    "plt.ylabel('Discount Percentage')\n",
    "plt.show()"
   ]
  },
  {
   "cell_type": "markdown",
   "metadata": {},
   "source": [
    "### Research Question 3:  Do higher-priced products receive better ratings than lower-priced ones?"
   ]
  },
  {
   "cell_type": "markdown",
   "metadata": {},
   "source": [
    "**Analysis Decision 1**: Create review count ranges."
   ]
  },
  {
   "cell_type": "code",
   "execution_count": 76,
   "metadata": {},
   "outputs": [
    {
     "data": {
      "image/png": "[encoded data removed]",
      "text/plain": [
       "<Figure size 1400x800 with 1 Axes>"
      ]
     },
     "metadata": {},
     "output_type": "display_data"
    }
   ],
   "source": [
    "plt.figure(figsize=(14, 8))\n",
    "sns.histplot(split_category_df['discounted_price'], bins=30, kde=True)\n",
    "plt.title('Distribution of Rating')\n",
    "plt.xlabel('Discounted Price')\n",
    "plt.ylabel('Frequency')\n",
    "plt.show()"
   ]
  },
  {
   "cell_type": "markdown",
   "metadata": {},
   "source": [
    "**Analysis Decision 2**: Create review count ranges."
   ]
  },
  {
   "cell_type": "code",
   "execution_count": 77,
   "metadata": {},
   "outputs": [],
   "source": [
    "# Using the median price to split the products\n",
    "median_price = split_category_df['discounted_price'].median()\n",
    "split_category_df['price_category'] = split_category_df['discounted_price'].apply(lambda x: 'Lower-Priced' if x < median_price else 'Higher-Priced')"
   ]
  },
  {
   "cell_type": "code",
   "execution_count": 78,
   "metadata": {},
   "outputs": [
    {
     "name": "stdout",
     "output_type": "stream",
     "text": [
      "price_category\n",
      "Higher-Priced    4.112064\n",
      "Lower-Priced     4.080362\n",
      "Name: rating, dtype: float64\n"
     ]
    }
   ],
   "source": [
    "# Group by price category and calculate the mean rating\n",
    "price_rating_comparison = split_category_df.groupby('price_category')['rating'].mean()\n",
    "print(price_rating_comparison)"
   ]
  },
  {
   "cell_type": "code",
   "execution_count": 79,
   "metadata": {
    "scrolled": false
   },
   "outputs": [
    {
     "data": {
      "image/png": "[encoded data removed]",
      "text/plain": [
       "<Figure size 1000x600 with 1 Axes>"
      ]
     },
     "metadata": {},
     "output_type": "display_data"
    }
   ],
   "source": [
    "# Create a boxplot for ratings by price category\n",
    "plt.figure(figsize=(10, 6))\n",
    "sns.boxplot(x='price_category', y='rating', data=split_category_df)\n",
    "plt.title('Product Ratings by Price Category')\n",
    "plt.xlabel('Price Category')\n",
    "plt.ylabel('Product Rating')\n",
    "plt.show()"
   ]
  },
  {
   "cell_type": "markdown",
   "metadata": {},
   "source": [
    "Higher-priced products tend to receive consistently good ratings with fewer very low ratings compared to lower-priced products, which exhibit more variability in ratings and have more instances of low ratings."
   ]
  },
  {
   "cell_type": "markdown",
   "metadata": {},
   "source": [
    "Median Rating remains the same in both price categories. It shows that customers generally rate products well regardless of price."
   ]
  },
  {
   "cell_type": "code",
   "execution_count": 80,
   "metadata": {},
   "outputs": [
    {
     "name": "stdout",
     "output_type": "stream",
     "text": [
      "price_category\n",
      "Higher-Priced    0.161095\n",
      "Lower-Priced     0.047617\n",
      "dtype: float64\n"
     ]
    }
   ],
   "source": [
    "# Group by rating categories and calculate the correlation\n",
    "grouped_by_rating = split_category_df.groupby('price_category').apply(\n",
    "    lambda x: x['discounted_price'].corr(x['rating'])\n",
    ")\n",
    "\n",
    "print(grouped_by_rating)"
   ]
  },
  {
   "cell_type": "markdown",
   "metadata": {},
   "source": [
    "**Reasoning**: By this analysis, we can identify the top 10 director who have consistently produced high-revenue movies."
   ]
  },
  {
   "cell_type": "markdown",
   "metadata": {},
   "source": [
    "**Summary**: The bar chart shows the tio 10 directos with highest mean revenue, indicating their influence on movie revenue."
   ]
  },
  {
   "cell_type": "markdown",
   "metadata": {},
   "source": [
    "### Research Question 4:  Do Products with Positive Sentiment in Reviews Have Higher Ratings ?"
   ]
  },
  {
   "cell_type": "markdown",
   "metadata": {},
   "source": [
    "**Analysis Decision 1**: Group by Sentiment and Calculate the Average Rating"
   ]
  },
  {
   "cell_type": "code",
   "execution_count": 81,
   "metadata": {},
   "outputs": [
    {
     "name": "stdout",
     "output_type": "stream",
     "text": [
      "  vader_sentiment    rating\n",
      "0        Negative  3.881250\n",
      "1         Neutral  3.900000\n",
      "2        Positive  4.109413\n"
     ]
    }
   ],
   "source": [
    "# Group by sentiment and calculate the average rating\n",
    "sentiment_rating = split_category_df.groupby('vader_sentiment')['rating'].mean().reset_index()\n",
    "print(sentiment_rating)"
   ]
  },
  {
   "cell_type": "code",
   "execution_count": 82,
   "metadata": {},
   "outputs": [
    {
     "data": {
      "image/png": "[encoded data removed]",
      "text/plain": [
       "<Figure size 1400x800 with 1 Axes>"
      ]
     },
     "metadata": {},
     "output_type": "display_data"
    }
   ],
   "source": [
    "# Bar plot for average rating by sentiment\n",
    "plt.figure(figsize=(14, 8))\n",
    "sns.barplot(x='vader_sentiment', y='rating', data=split_category_df, estimator=np.mean)\n",
    "plt.title('Average Rating by Sentiment')\n",
    "plt.xlabel('Sentiment')\n",
    "plt.ylabel('Average Rating')\n",
    "plt.show()"
   ]
  },
  {
   "cell_type": "markdown",
   "metadata": {},
   "source": [
    "As the bar graph shows:\n",
    "- Products receive more positive reviews will also receive higher ratings.\n",
    "- Both neutral and negative sentiment products have fairly close average ratings, though slightly lower than positive ones.\n",
    "- This shows that neutral viewers aren't significantly driving up ratings, and negative feedback doesn't drastically reduce their rating either."
   ]
  },
  {
   "cell_type": "code",
   "execution_count": 83,
   "metadata": {},
   "outputs": [
    {
     "data": {
      "image/png": "[encoded data removed]",
      "text/plain": [
       "<Figure size 1400x800 with 1 Axes>"
      ]
     },
     "metadata": {},
     "output_type": "display_data"
    }
   ],
   "source": [
    "# Box plot to show the distribution of ratings by sentiment\n",
    "plt.figure(figsize=(14, 8))\n",
    "sns.boxplot(x='vader_sentiment', y='rating', data=split_category_df)\n",
    "plt.title('Distribution of Ratings by Sentiment')\n",
    "plt.xlabel('Sentiment')\n",
    "plt.ylabel('Rating')\n",
    "plt.show()"
   ]
  },
  {
   "cell_type": "markdown",
   "metadata": {},
   "source": [
    "- Products with positive sentiment tend to have higher ratings, but there are still some lower-rated products with positive sentiment reviews.\n",
    "- Products with negative sentiment have a wider distribution of ratings, including some very low ratings, though the median is still relatively high.\n",
    "- The neutral sentiment group has a consistent range of ratings, without extreme highs or lows."
   ]
  },
  {
   "cell_type": "code",
   "execution_count": 84,
   "metadata": {},
   "outputs": [
    {
     "name": "stdout",
     "output_type": "stream",
     "text": [
      "Correlation between sentiment score and rating: 0.23757429505958585\n"
     ]
    }
   ],
   "source": [
    "correlation = split_category_df['vader_sentiment_score'].corr(split_category_df['rating'])\n",
    "print(f\"Correlation between sentiment score and rating: {correlation}\")"
   ]
  },
  {
   "cell_type": "markdown",
   "metadata": {},
   "source": [
    "**Reasoning**:"
   ]
  },
  {
   "cell_type": "markdown",
   "metadata": {},
   "source": [
    "**Summary**: \n",
    "- Since the correlation is positive, it means that as the sentiment score increases (i.e., reviews become more positive), the product rating tends to increase as well. However, the correlation is relatively weak.\n",
    "- A correlation of 0.238 suggests that while there is a relationship between sentiment and rating, it is not very strong. This means other factors may also be influencing the product ratings apart from sentiment. It's possible that even with positive sentiment, product quality, expectations, or other factors might moderate the final rating a customer leaves."
   ]
  },
  {
   "cell_type": "markdown",
   "metadata": {},
   "source": [
    "**Analysis decision **: Statistical Test: ANOVA"
   ]
  },
  {
   "cell_type": "code",
   "execution_count": 85,
   "metadata": {},
   "outputs": [
    {
     "name": "stdout",
     "output_type": "stream",
     "text": [
      "ANOVA result: F_onewayResult(statistic=24.996069452954682, pvalue=2.1180786044781994e-11)\n"
     ]
    }
   ],
   "source": [
    "positive = split_category_df[split_category_df['vader_sentiment'] == 'Positive']['rating']\n",
    "negative = split_category_df[split_category_df['vader_sentiment'] == 'Negative']['rating']\n",
    "neutral = split_category_df[split_category_df['vader_sentiment'] == 'Neutral']['rating']\n",
    "\n",
    "# Perform one-way ANOVA\n",
    "anova_result = stats.f_oneway(positive, negative, neutral)\n",
    "print(f\"ANOVA result: {anova_result}\")"
   ]
  },
  {
   "cell_type": "markdown",
   "metadata": {},
   "source": [
    "1. F-statistic (24.996):\n",
    "\n",
    "- The F-statistic measures the variance between the groups (Positive, Negative, Neutral sentiments) compared to the variance within the groups.\n",
    "- A higher F-statistic suggests that the variance between groups is significantly larger than the variance within groups, indicating that the differences in the groups are meaningful.\n",
    "2. p-value (2.12e-11):\n",
    "\n",
    "- The p-value is extremely small, much lower than the commonly used significance threshold of 0.05.\n",
    "- This very low p-value indicates that the differences in ratings across the sentiment categories (Positive, Negative, and Neutral) are statistically significant.\n",
    "- Therefore, we reject the null hypothesis, which states that there is no difference in ratings based on sentiment. There is a significant difference in product ratings based on the sentiment expressed in the reviews."
   ]
  },
  {
   "cell_type": "markdown",
   "metadata": {},
   "source": [
    "### Research Question 5: Which Categories of Products Receive the Highest or Lowest Ratings ?"
   ]
  },
  {
   "cell_type": "code",
   "execution_count": 86,
   "metadata": {},
   "outputs": [
    {
     "name": "stdout",
     "output_type": "stream",
     "text": [
      "<class 'pandas.core.frame.DataFrame'>\n",
      "Int64Index: 1464 entries, 0 to 1464\n",
      "Data columns (total 22 columns):\n",
      " #   Column                    Non-Null Count  Dtype   \n",
      "---  ------                    --------------  -----   \n",
      " 0   product_id                1464 non-null   object  \n",
      " 1   product_name              1464 non-null   object  \n",
      " 2   discounted_price          1464 non-null   float64 \n",
      " 3   actual_price              1464 non-null   float64 \n",
      " 4   discount_percentage       1464 non-null   float64 \n",
      " 5   rating                    1464 non-null   float64 \n",
      " 6   rating_count              1464 non-null   float64 \n",
      " 7   about_product             1464 non-null   object  \n",
      " 8   review_id                 1464 non-null   object  \n",
      " 9   review_title              1464 non-null   object  \n",
      " 10  review_content            1464 non-null   object  \n",
      " 11  product_link              1464 non-null   object  \n",
      " 12  category                  1464 non-null   object  \n",
      " 13  product_type              1464 non-null   object  \n",
      " 14  textblob_sentiment_score  1464 non-null   float64 \n",
      " 15  text_blob_sentiment       1464 non-null   object  \n",
      " 16  vader_sentiment_score     1464 non-null   float64 \n",
      " 17  vader_sentiment           1464 non-null   object  \n",
      " 18  discount_bin              1415 non-null   category\n",
      " 19  mean_of_ratings           1464 non-null   category\n",
      " 20  rating_count_group        1464 non-null   category\n",
      " 21  price_category            1464 non-null   object  \n",
      "dtypes: category(3), float64(7), object(12)\n",
      "memory usage: 266.2+ KB\n"
     ]
    }
   ],
   "source": [
    "split_category_df.info()"
   ]
  },
  {
   "cell_type": "code",
   "execution_count": 88,
   "metadata": {},
   "outputs": [
    {
     "data": {
      "text/plain": [
       "array(['Computers&Accessories', 'Electronics', 'MusicalInstruments',\n",
       "       'OfficeProducts', 'Home&Kitchen', 'HomeImprovement', 'Toys&Games',\n",
       "       'Car&Motorbike', 'Health&PersonalCare'], dtype=object)"
      ]
     },
     "execution_count": 88,
     "metadata": {},
     "output_type": "execute_result"
    }
   ],
   "source": [
    "split_category_df.category.unique()"
   ]
  },
  {
   "cell_type": "markdown",
   "metadata": {},
   "source": [
    "Group by category_1"
   ]
  },
  {
   "cell_type": "code",
   "execution_count": 89,
   "metadata": {},
   "outputs": [
    {
     "name": "stdout",
     "output_type": "stream",
     "text": [
      "                category    rating\n",
      "7         OfficeProducts  4.309677\n",
      "8             Toys&Games  4.300000\n",
      "5        HomeImprovement  4.250000\n",
      "1  Computers&Accessories  4.155310\n",
      "2            Electronics  4.081749\n",
      "4           Home&Kitchen  4.040402\n",
      "3    Health&PersonalCare  4.000000\n",
      "6     MusicalInstruments  3.900000\n",
      "0          Car&Motorbike  3.800000\n"
     ]
    }
   ],
   "source": [
    "# Group by category_1 and calculate the mean rating\n",
    "category_rating = split_category_df.groupby('category')['rating'].mean().reset_index()\n",
    "\n",
    "# Sort by rating to see highest and lowest\n",
    "category_rating = category_rating.sort_values(by='rating', ascending=False)\n",
    "print(category_rating)"
   ]
  },
  {
   "cell_type": "code",
   "execution_count": 90,
   "metadata": {},
   "outputs": [
    {
     "data": {
      "image/png": "[encoded data removed]",
      "text/plain": [
       "<Figure size 1400x800 with 1 Axes>"
      ]
     },
     "metadata": {},
     "output_type": "display_data"
    }
   ],
   "source": [
    "# Bar plot of average ratings by product category\n",
    "plt.figure(figsize=(14, 8))\n",
    "sns.barplot(x='rating', y='category', data=category_rating, hue='category', palette='viridis', dodge=False, legend=False)\n",
    "plt.title('Average Rating by Product Category')\n",
    "plt.xlabel('Average Rating')\n",
    "plt.ylabel('Product Category')\n",
    "plt.show()"
   ]
  },
  {
   "cell_type": "markdown",
   "metadata": {},
   "source": [
    "- Office Products have the highest average rating, indicating that customers are most satisfied with products in this category.\n",
    "\n",
    "- Toys & Games and Home Improvement are also rated highly, suggesting that these product types generally meet customer expectations.\n",
    "\n",
    "- Computers & Accessories and Electronics are in the mid-tier for average ratings, which is expected given the complexity and variability in performance for these types of products.\n",
    "\n",
    "- Car & Motorbike products have the lowest average rating compared to the other categories, which may suggest potential issues with quality, customer satisfaction, or unmet expectations in this category."
   ]
  },
  {
   "cell_type": "code",
   "execution_count": 91,
   "metadata": {},
   "outputs": [],
   "source": [
    "# Function to get summary information for specified categorical columns\n",
    "def cat_summary(dataframe, col_name):\n",
    "    print(pd.DataFrame({\n",
    "        col_name: dataframe[col_name].value_counts(),  # Count of unique values\n",
    "        \"Ratio\": 100 * dataframe[col_name].value_counts() / len(dataframe)  # Percentage of each unique value\n",
    "    }))\n",
    "    print(\"------------------------------------------------------------------\")\n",
    "\n"
   ]
  },
  {
   "cell_type": "code",
   "execution_count": 92,
   "metadata": {},
   "outputs": [
    {
     "name": "stdout",
     "output_type": "stream",
     "text": [
      "                       category      Ratio\n",
      "Electronics                 526  35.928962\n",
      "Computers&Accessories       452  30.874317\n",
      "Home&Kitchen                448  30.601093\n",
      "OfficeProducts               31   2.117486\n",
      "MusicalInstruments            2   0.136612\n",
      "HomeImprovement               2   0.136612\n",
      "Toys&Games                    1   0.068306\n",
      "Car&Motorbike                 1   0.068306\n",
      "Health&PersonalCare           1   0.068306\n",
      "------------------------------------------------------------------\n"
     ]
    }
   ],
   "source": [
    "cat_summary(split_category_df, 'category')"
   ]
  },
  {
   "cell_type": "code",
   "execution_count": 96,
   "metadata": {},
   "outputs": [
    {
     "data": {
      "text/html": [
       "<div>\n",
       "<style scoped>\n",
       "    .dataframe tbody tr th:only-of-type {\n",
       "        vertical-align: middle;\n",
       "    }\n",
       "\n",
       "    .dataframe tbody tr th {\n",
       "        vertical-align: top;\n",
       "    }\n",
       "\n",
       "    .dataframe thead th {\n",
       "        text-align: right;\n",
       "    }\n",
       "</style>\n",
       "<table border=\"1\" class=\"dataframe\">\n",
       "  <thead>\n",
       "    <tr style=\"text-align: right;\">\n",
       "      <th></th>\n",
       "      <th>product_id</th>\n",
       "      <th>product_name</th>\n",
       "      <th>discounted_price</th>\n",
       "      <th>actual_price</th>\n",
       "      <th>discount_percentage</th>\n",
       "      <th>rating</th>\n",
       "      <th>rating_count</th>\n",
       "      <th>about_product</th>\n",
       "      <th>review_id</th>\n",
       "      <th>review_title</th>\n",
       "      <th>...</th>\n",
       "      <th>category</th>\n",
       "      <th>product_type</th>\n",
       "      <th>textblob_sentiment_score</th>\n",
       "      <th>text_blob_sentiment</th>\n",
       "      <th>vader_sentiment_score</th>\n",
       "      <th>vader_sentiment</th>\n",
       "      <th>discount_bin</th>\n",
       "      <th>mean_of_ratings</th>\n",
       "      <th>rating_count_group</th>\n",
       "      <th>price_category</th>\n",
       "    </tr>\n",
       "  </thead>\n",
       "  <tbody>\n",
       "    <tr>\n",
       "      <th>0</th>\n",
       "      <td>B07JW9H4J1</td>\n",
       "      <td>Wayona Nylon Braided USB to Lightning Fast Cha...</td>\n",
       "      <td>399.0</td>\n",
       "      <td>1099.0</td>\n",
       "      <td>0.64</td>\n",
       "      <td>4.2</td>\n",
       "      <td>24269.0</td>\n",
       "      <td>High Compatibility : Compatible With iPhone 12...</td>\n",
       "      <td>R3HXWT0LRP0NMF,R2AJM3LFTLZHFO,R6AQJGUP6P86,R1K...</td>\n",
       "      <td>Satisfied,Charging is really fast,Value for mo...</td>\n",
       "      <td>...</td>\n",
       "      <td>Computers&amp;Accessories</td>\n",
       "      <td>USBCables</td>\n",
       "      <td>0.481944</td>\n",
       "      <td>Positive</td>\n",
       "      <td>0.9033</td>\n",
       "      <td>Positive</td>\n",
       "      <td>60-70%</td>\n",
       "      <td>Excellent</td>\n",
       "      <td>10000-50000</td>\n",
       "      <td>Lower-Priced</td>\n",
       "    </tr>\n",
       "    <tr>\n",
       "      <th>1</th>\n",
       "      <td>B098NS6PVG</td>\n",
       "      <td>Ambrane Unbreakable 60W / 3A Fast Charging 1.5...</td>\n",
       "      <td>199.0</td>\n",
       "      <td>349.0</td>\n",
       "      <td>0.43</td>\n",
       "      <td>4.0</td>\n",
       "      <td>43994.0</td>\n",
       "      <td>Compatible with all Type C enabled devices, be...</td>\n",
       "      <td>RGIQEG07R9HS2,R1SMWZQ86XIN8U,R2J3Y1WL29GWDE,RY...</td>\n",
       "      <td>A Good Braided Cable for Your Type C Device,Go...</td>\n",
       "      <td>...</td>\n",
       "      <td>Computers&amp;Accessories</td>\n",
       "      <td>USBCables</td>\n",
       "      <td>0.274318</td>\n",
       "      <td>Positive</td>\n",
       "      <td>0.9853</td>\n",
       "      <td>Positive</td>\n",
       "      <td>40-50%</td>\n",
       "      <td>Good</td>\n",
       "      <td>10000-50000</td>\n",
       "      <td>Lower-Priced</td>\n",
       "    </tr>\n",
       "    <tr>\n",
       "      <th>2</th>\n",
       "      <td>B096MSW6CT</td>\n",
       "      <td>Sounce Fast Phone Charging Cable &amp; Data Sync U...</td>\n",
       "      <td>199.0</td>\n",
       "      <td>1899.0</td>\n",
       "      <td>0.90</td>\n",
       "      <td>3.9</td>\n",
       "      <td>7928.0</td>\n",
       "      <td>【 Fast Charger&amp; Data Sync】-With built-in safet...</td>\n",
       "      <td>R3J3EQQ9TZI5ZJ,R3E7WBGK7ID0KV,RWU79XKQ6I1QF,R2...</td>\n",
       "      <td>Good speed for earlier versions,Good Product,W...</td>\n",
       "      <td>...</td>\n",
       "      <td>Computers&amp;Accessories</td>\n",
       "      <td>USBCables</td>\n",
       "      <td>0.600000</td>\n",
       "      <td>Positive</td>\n",
       "      <td>0.6808</td>\n",
       "      <td>Positive</td>\n",
       "      <td>80-90%</td>\n",
       "      <td>Good</td>\n",
       "      <td>5000-10000</td>\n",
       "      <td>Lower-Priced</td>\n",
       "    </tr>\n",
       "    <tr>\n",
       "      <th>3</th>\n",
       "      <td>B08HDJ86NZ</td>\n",
       "      <td>boAt Deuce USB 300 2 in 1 Type-C &amp; Micro USB S...</td>\n",
       "      <td>329.0</td>\n",
       "      <td>699.0</td>\n",
       "      <td>0.53</td>\n",
       "      <td>4.2</td>\n",
       "      <td>94363.0</td>\n",
       "      <td>The boAt Deuce USB 300 2 in 1 cable is compati...</td>\n",
       "      <td>R3EEUZKKK9J36I,R3HJVYCLYOY554,REDECAZ7AMPQC,R1...</td>\n",
       "      <td>Good product,Good one,Nice,Really nice product...</td>\n",
       "      <td>...</td>\n",
       "      <td>Computers&amp;Accessories</td>\n",
       "      <td>USBCables</td>\n",
       "      <td>0.240370</td>\n",
       "      <td>Positive</td>\n",
       "      <td>0.8316</td>\n",
       "      <td>Positive</td>\n",
       "      <td>50-60%</td>\n",
       "      <td>Excellent</td>\n",
       "      <td>50000-100000</td>\n",
       "      <td>Lower-Priced</td>\n",
       "    </tr>\n",
       "    <tr>\n",
       "      <th>4</th>\n",
       "      <td>B08CF3B7N1</td>\n",
       "      <td>Portronics Konnect L 1.2M Fast Charging 3A 8 P...</td>\n",
       "      <td>154.0</td>\n",
       "      <td>399.0</td>\n",
       "      <td>0.61</td>\n",
       "      <td>4.2</td>\n",
       "      <td>16905.0</td>\n",
       "      <td>[CHARGE &amp; SYNC FUNCTION]- This cable comes wit...</td>\n",
       "      <td>R1BP4L2HH9TFUP,R16PVJEXKV6QZS,R2UPDB81N66T4P,R...</td>\n",
       "      <td>As good as original,Decent,Good one for second...</td>\n",
       "      <td>...</td>\n",
       "      <td>Computers&amp;Accessories</td>\n",
       "      <td>USBCables</td>\n",
       "      <td>0.262740</td>\n",
       "      <td>Positive</td>\n",
       "      <td>0.9809</td>\n",
       "      <td>Positive</td>\n",
       "      <td>60-70%</td>\n",
       "      <td>Excellent</td>\n",
       "      <td>10000-50000</td>\n",
       "      <td>Lower-Priced</td>\n",
       "    </tr>\n",
       "    <tr>\n",
       "      <th>...</th>\n",
       "      <td>...</td>\n",
       "      <td>...</td>\n",
       "      <td>...</td>\n",
       "      <td>...</td>\n",
       "      <td>...</td>\n",
       "      <td>...</td>\n",
       "      <td>...</td>\n",
       "      <td>...</td>\n",
       "      <td>...</td>\n",
       "      <td>...</td>\n",
       "      <td>...</td>\n",
       "      <td>...</td>\n",
       "      <td>...</td>\n",
       "      <td>...</td>\n",
       "      <td>...</td>\n",
       "      <td>...</td>\n",
       "      <td>...</td>\n",
       "      <td>...</td>\n",
       "      <td>...</td>\n",
       "      <td>...</td>\n",
       "      <td>...</td>\n",
       "    </tr>\n",
       "    <tr>\n",
       "      <th>1247</th>\n",
       "      <td>B07BKSSDR2</td>\n",
       "      <td>Dr Trust Electronic Kitchen Digital Scale Weig...</td>\n",
       "      <td>899.0</td>\n",
       "      <td>1900.0</td>\n",
       "      <td>0.53</td>\n",
       "      <td>4.0</td>\n",
       "      <td>3663.0</td>\n",
       "      <td>Tare function: It comes with tare function whi...</td>\n",
       "      <td>R3KLZUQCUHHOAX,R2QQZX4QI5G707,R2PMOA0FRZQJH8,R...</td>\n",
       "      <td>Design Optimised for Functionality, Durability...</td>\n",
       "      <td>...</td>\n",
       "      <td>Health&amp;PersonalCare</td>\n",
       "      <td>DigitalBathroomScales</td>\n",
       "      <td>0.161032</td>\n",
       "      <td>Positive</td>\n",
       "      <td>0.9650</td>\n",
       "      <td>Positive</td>\n",
       "      <td>50-60%</td>\n",
       "      <td>Good</td>\n",
       "      <td>1000-5000</td>\n",
       "      <td>Higher-Priced</td>\n",
       "    </tr>\n",
       "    <tr>\n",
       "      <th>1286</th>\n",
       "      <td>B0BNDGL26T</td>\n",
       "      <td>MR. BRAND Portable USB Juicer Electric USB Jui...</td>\n",
       "      <td>499.0</td>\n",
       "      <td>2199.0</td>\n",
       "      <td>0.77</td>\n",
       "      <td>2.8</td>\n",
       "      <td>109.0</td>\n",
       "      <td>Portable &amp; Convenient to Charge: This little b...</td>\n",
       "      <td>RGB7OLWZEBW2D,R35V1I6KBBWDA1,R2S9K0UTNSD0L6,R3...</td>\n",
       "      <td>Portable but not much powerful,not so good. po...</td>\n",
       "      <td>...</td>\n",
       "      <td>Home&amp;Kitchen</td>\n",
       "      <td>JuicerMixerGrinders</td>\n",
       "      <td>0.144655</td>\n",
       "      <td>Positive</td>\n",
       "      <td>0.9117</td>\n",
       "      <td>Positive</td>\n",
       "      <td>70-80%</td>\n",
       "      <td>Low</td>\n",
       "      <td>100-1000</td>\n",
       "      <td>Lower-Priced</td>\n",
       "    </tr>\n",
       "    <tr>\n",
       "      <th>1309</th>\n",
       "      <td>B0BPJBTB3F</td>\n",
       "      <td>Khaitan ORFin Fan heater for Home and kitchen-...</td>\n",
       "      <td>1299.0</td>\n",
       "      <td>2495.0</td>\n",
       "      <td>0.48</td>\n",
       "      <td>2.0</td>\n",
       "      <td>2.0</td>\n",
       "      <td>Khaitan Orfin Fan heater for Home and kitchen|...</td>\n",
       "      <td>R1OO2ED6615EX1,RR4S5JTJMCPA5</td>\n",
       "      <td>Bad quality,Amazing product..</td>\n",
       "      <td>...</td>\n",
       "      <td>Home&amp;Kitchen</td>\n",
       "      <td>FanHeaters</td>\n",
       "      <td>0.755000</td>\n",
       "      <td>Positive</td>\n",
       "      <td>0.7902</td>\n",
       "      <td>Positive</td>\n",
       "      <td>40-50%</td>\n",
       "      <td>Low</td>\n",
       "      <td>0-100</td>\n",
       "      <td>Higher-Priced</td>\n",
       "    </tr>\n",
       "    <tr>\n",
       "      <th>1315</th>\n",
       "      <td>B08YK7BBD2</td>\n",
       "      <td>Nirdambhay Mini Bag Sealer, 2 in 1 Heat Sealer...</td>\n",
       "      <td>429.0</td>\n",
       "      <td>999.0</td>\n",
       "      <td>0.57</td>\n",
       "      <td>3.0</td>\n",
       "      <td>617.0</td>\n",
       "      <td>【Easy to Use】After installing the battery, you...</td>\n",
       "      <td>R24VRMVVKTZXZU,R2SZR29UV8HPIJ,R34NPCR94RTTCU,R...</td>\n",
       "      <td>Not worth the hype,Gud,Really useful 😃,Product...</td>\n",
       "      <td>...</td>\n",
       "      <td>Home&amp;Kitchen</td>\n",
       "      <td>VacuumSealers</td>\n",
       "      <td>0.106762</td>\n",
       "      <td>Positive</td>\n",
       "      <td>-0.1573</td>\n",
       "      <td>Negative</td>\n",
       "      <td>50-60%</td>\n",
       "      <td>Low</td>\n",
       "      <td>100-1000</td>\n",
       "      <td>Lower-Priced</td>\n",
       "    </tr>\n",
       "    <tr>\n",
       "      <th>1356</th>\n",
       "      <td>B0B7L86YCB</td>\n",
       "      <td>Green Tales Heat Seal Mini Food Sealer-Impulse...</td>\n",
       "      <td>161.0</td>\n",
       "      <td>300.0</td>\n",
       "      <td>0.46</td>\n",
       "      <td>2.6</td>\n",
       "      <td>24.0</td>\n",
       "      <td>Sealing Machine use for snack food saver stora...</td>\n",
       "      <td>R3M6NH8U0C7JBM,R32DO8SLNF2JSA,R3U0NCD7XO2KX4,R...</td>\n",
       "      <td>It is broken,Could have been a bit better,The ...</td>\n",
       "      <td>...</td>\n",
       "      <td>Home&amp;Kitchen</td>\n",
       "      <td>VacuumSealers</td>\n",
       "      <td>0.143750</td>\n",
       "      <td>Positive</td>\n",
       "      <td>0.3514</td>\n",
       "      <td>Positive</td>\n",
       "      <td>40-50%</td>\n",
       "      <td>Low</td>\n",
       "      <td>0-100</td>\n",
       "      <td>Lower-Priced</td>\n",
       "    </tr>\n",
       "  </tbody>\n",
       "</table>\n",
       "<p>66 rows × 22 columns</p>\n",
       "</div>"
      ],
      "text/plain": [
       "      product_id                                       product_name  \\\n",
       "0     B07JW9H4J1  Wayona Nylon Braided USB to Lightning Fast Cha...   \n",
       "1     B098NS6PVG  Ambrane Unbreakable 60W / 3A Fast Charging 1.5...   \n",
       "2     B096MSW6CT  Sounce Fast Phone Charging Cable & Data Sync U...   \n",
       "3     B08HDJ86NZ  boAt Deuce USB 300 2 in 1 Type-C & Micro USB S...   \n",
       "4     B08CF3B7N1  Portronics Konnect L 1.2M Fast Charging 3A 8 P...   \n",
       "...          ...                                                ...   \n",
       "1247  B07BKSSDR2  Dr Trust Electronic Kitchen Digital Scale Weig...   \n",
       "1286  B0BNDGL26T  MR. BRAND Portable USB Juicer Electric USB Jui...   \n",
       "1309  B0BPJBTB3F  Khaitan ORFin Fan heater for Home and kitchen-...   \n",
       "1315  B08YK7BBD2  Nirdambhay Mini Bag Sealer, 2 in 1 Heat Sealer...   \n",
       "1356  B0B7L86YCB  Green Tales Heat Seal Mini Food Sealer-Impulse...   \n",
       "\n",
       "      discounted_price  actual_price  discount_percentage  rating  \\\n",
       "0                399.0        1099.0                 0.64     4.2   \n",
       "1                199.0         349.0                 0.43     4.0   \n",
       "2                199.0        1899.0                 0.90     3.9   \n",
       "3                329.0         699.0                 0.53     4.2   \n",
       "4                154.0         399.0                 0.61     4.2   \n",
       "...                ...           ...                  ...     ...   \n",
       "1247             899.0        1900.0                 0.53     4.0   \n",
       "1286             499.0        2199.0                 0.77     2.8   \n",
       "1309            1299.0        2495.0                 0.48     2.0   \n",
       "1315             429.0         999.0                 0.57     3.0   \n",
       "1356             161.0         300.0                 0.46     2.6   \n",
       "\n",
       "      rating_count                                      about_product  \\\n",
       "0          24269.0  High Compatibility : Compatible With iPhone 12...   \n",
       "1          43994.0  Compatible with all Type C enabled devices, be...   \n",
       "2           7928.0  【 Fast Charger& Data Sync】-With built-in safet...   \n",
       "3          94363.0  The boAt Deuce USB 300 2 in 1 cable is compati...   \n",
       "4          16905.0  [CHARGE & SYNC FUNCTION]- This cable comes wit...   \n",
       "...            ...                                                ...   \n",
       "1247        3663.0  Tare function: It comes with tare function whi...   \n",
       "1286         109.0  Portable & Convenient to Charge: This little b...   \n",
       "1309           2.0  Khaitan Orfin Fan heater for Home and kitchen|...   \n",
       "1315         617.0  【Easy to Use】After installing the battery, you...   \n",
       "1356          24.0  Sealing Machine use for snack food saver stora...   \n",
       "\n",
       "                                              review_id  \\\n",
       "0     R3HXWT0LRP0NMF,R2AJM3LFTLZHFO,R6AQJGUP6P86,R1K...   \n",
       "1     RGIQEG07R9HS2,R1SMWZQ86XIN8U,R2J3Y1WL29GWDE,RY...   \n",
       "2     R3J3EQQ9TZI5ZJ,R3E7WBGK7ID0KV,RWU79XKQ6I1QF,R2...   \n",
       "3     R3EEUZKKK9J36I,R3HJVYCLYOY554,REDECAZ7AMPQC,R1...   \n",
       "4     R1BP4L2HH9TFUP,R16PVJEXKV6QZS,R2UPDB81N66T4P,R...   \n",
       "...                                                 ...   \n",
       "1247  R3KLZUQCUHHOAX,R2QQZX4QI5G707,R2PMOA0FRZQJH8,R...   \n",
       "1286  RGB7OLWZEBW2D,R35V1I6KBBWDA1,R2S9K0UTNSD0L6,R3...   \n",
       "1309                       R1OO2ED6615EX1,RR4S5JTJMCPA5   \n",
       "1315  R24VRMVVKTZXZU,R2SZR29UV8HPIJ,R34NPCR94RTTCU,R...   \n",
       "1356  R3M6NH8U0C7JBM,R32DO8SLNF2JSA,R3U0NCD7XO2KX4,R...   \n",
       "\n",
       "                                           review_title  ...  \\\n",
       "0     Satisfied,Charging is really fast,Value for mo...  ...   \n",
       "1     A Good Braided Cable for Your Type C Device,Go...  ...   \n",
       "2     Good speed for earlier versions,Good Product,W...  ...   \n",
       "3     Good product,Good one,Nice,Really nice product...  ...   \n",
       "4     As good as original,Decent,Good one for second...  ...   \n",
       "...                                                 ...  ...   \n",
       "1247  Design Optimised for Functionality, Durability...  ...   \n",
       "1286  Portable but not much powerful,not so good. po...  ...   \n",
       "1309                      Bad quality,Amazing product..  ...   \n",
       "1315  Not worth the hype,Gud,Really useful 😃,Product...  ...   \n",
       "1356  It is broken,Could have been a bit better,The ...  ...   \n",
       "\n",
       "                   category           product_type textblob_sentiment_score  \\\n",
       "0     Computers&Accessories              USBCables                 0.481944   \n",
       "1     Computers&Accessories              USBCables                 0.274318   \n",
       "2     Computers&Accessories              USBCables                 0.600000   \n",
       "3     Computers&Accessories              USBCables                 0.240370   \n",
       "4     Computers&Accessories              USBCables                 0.262740   \n",
       "...                     ...                    ...                      ...   \n",
       "1247    Health&PersonalCare  DigitalBathroomScales                 0.161032   \n",
       "1286           Home&Kitchen    JuicerMixerGrinders                 0.144655   \n",
       "1309           Home&Kitchen             FanHeaters                 0.755000   \n",
       "1315           Home&Kitchen          VacuumSealers                 0.106762   \n",
       "1356           Home&Kitchen          VacuumSealers                 0.143750   \n",
       "\n",
       "     text_blob_sentiment  vader_sentiment_score vader_sentiment  discount_bin  \\\n",
       "0               Positive                 0.9033        Positive        60-70%   \n",
       "1               Positive                 0.9853        Positive        40-50%   \n",
       "2               Positive                 0.6808        Positive        80-90%   \n",
       "3               Positive                 0.8316        Positive        50-60%   \n",
       "4               Positive                 0.9809        Positive        60-70%   \n",
       "...                  ...                    ...             ...           ...   \n",
       "1247            Positive                 0.9650        Positive        50-60%   \n",
       "1286            Positive                 0.9117        Positive        70-80%   \n",
       "1309            Positive                 0.7902        Positive        40-50%   \n",
       "1315            Positive                -0.1573        Negative        50-60%   \n",
       "1356            Positive                 0.3514        Positive        40-50%   \n",
       "\n",
       "     mean_of_ratings rating_count_group price_category  \n",
       "0          Excellent        10000-50000   Lower-Priced  \n",
       "1               Good        10000-50000   Lower-Priced  \n",
       "2               Good         5000-10000   Lower-Priced  \n",
       "3          Excellent       50000-100000   Lower-Priced  \n",
       "4          Excellent        10000-50000   Lower-Priced  \n",
       "...              ...                ...            ...  \n",
       "1247            Good          1000-5000  Higher-Priced  \n",
       "1286             Low           100-1000   Lower-Priced  \n",
       "1309             Low              0-100  Higher-Priced  \n",
       "1315             Low           100-1000   Lower-Priced  \n",
       "1356             Low              0-100   Lower-Priced  \n",
       "\n",
       "[66 rows x 22 columns]"
      ]
     },
     "execution_count": 96,
     "metadata": {},
     "output_type": "execute_result"
    }
   ],
   "source": [
    "split_category_df.groupby(['category','mean_of_ratings']).head()"
   ]
  },
  {
   "cell_type": "code",
   "execution_count": 98,
   "metadata": {},
   "outputs": [
    {
     "name": "stdout",
     "output_type": "stream",
     "text": [
      "category               mean_of_ratings\n",
      "Car&Motorbike          Good                    NaN\n",
      "Computers&Accessories  Average           -0.209750\n",
      "                       Good               0.164417\n",
      "                       Excellent         -0.231080\n",
      "Electronics            Low               -0.842989\n",
      "                       Average           -0.052182\n",
      "                       Good              -0.217358\n",
      "                       Excellent          0.022300\n",
      "Health&PersonalCare    Good                    NaN\n",
      "Home&Kitchen           Low                0.594894\n",
      "                       Average           -0.108601\n",
      "                       Good              -0.157715\n",
      "                       Excellent          0.019532\n",
      "HomeImprovement        Good                    NaN\n",
      "                       Excellent               NaN\n",
      "MusicalInstruments     Good               1.000000\n",
      "OfficeProducts         Good                    NaN\n",
      "                       Excellent         -0.135203\n",
      "Toys&Games             Excellent               NaN\n",
      "dtype: float64\n"
     ]
    },
    {
     "name": "stderr",
     "output_type": "stream",
     "text": [
      "/home/haucongle/miniconda3/envs/amazon_products/lib/python3.9/site-packages/numpy/lib/function_base.py:2889: RuntimeWarning: Degrees of freedom <= 0 for slice\n",
      "  c = cov(x, y, rowvar, dtype=dtype)\n",
      "/home/haucongle/miniconda3/envs/amazon_products/lib/python3.9/site-packages/numpy/lib/function_base.py:2748: RuntimeWarning: divide by zero encountered in divide\n",
      "  c *= np.true_divide(1, fact)\n"
     ]
    }
   ],
   "source": [
    "# Group by rating categories and calculate the correlation\n",
    "grouped_by_rating_cat = split_category_df.groupby(['category','mean_of_ratings']).apply(\n",
    "    lambda x: x['discount_percentage'].corr(x['rating'])\n",
    ")\n",
    "\n",
    "print(grouped_by_rating_cat)"
   ]
  },
  {
   "cell_type": "markdown",
   "metadata": {},
   "source": [
    "**Reasoning**: This analysis will help us know whether more popular movies generate higher revenues."
   ]
  },
  {
   "cell_type": "markdown",
   "metadata": {},
   "source": [
    "**Summary**: Based on the scatter plot and the calculated correlation number result (0.6154980131970922), it shows the positive correlation between popularity and revenues, indicating that more popular movies tend to have higher revenues."
   ]
  },
  {
   "cell_type": "markdown",
   "metadata": {},
   "source": [
    "**Analysis Decision 8**:Adjusted Revenue vs Revenue"
   ]
  },
  {
   "cell_type": "code",
   "execution_count": null,
   "metadata": {},
   "outputs": [],
   "source": [
    "# Create a scatter plot to compare adjusted revenue and revenue\n",
    "plt.figure(figsize=(14, 8))\n",
    "plt.scatter(df_revenue['revenue_adj'], df_revenue['revenue'], alpha=0.5, color='b')\n",
    "plt.title('Scatter Plot of Budget vs. Revenue')\n",
    "plt.xlabel('Adjusted Revenue')\n",
    "plt.ylabel('Revenue')\n",
    "plt.grid(True)\n",
    "plt.show()"
   ]
  },
  {
   "cell_type": "code",
   "execution_count": null,
   "metadata": {},
   "outputs": [],
   "source": [
    "#Calculate the correlation number between Revenue_adj and Revenue\n",
    "df_revenue['revenue_adj'].corr(df_revenue['revenue'])"
   ]
  },
  {
   "cell_type": "markdown",
   "metadata": {},
   "source": [
    "**Reasoning**: This analysis will help us understang the relationship between Adjusted Revenue and Revenue"
   ]
  },
  {
   "cell_type": "markdown",
   "metadata": {},
   "source": [
    "**Summary**: Based on the scatter plot and the calculated correlation number result (0.9008743936142234), it shows the pretty strong positive correlation between revenue_adj and revenues, indicating that adjusted revenues are reliable measure."
   ]
  },
  {
   "cell_type": "markdown",
   "metadata": {},
   "source": [
    "**Analysis Decision 9**: Vote Count vs Revenue"
   ]
  },
  {
   "cell_type": "code",
   "execution_count": null,
   "metadata": {
    "scrolled": false
   },
   "outputs": [],
   "source": [
    "# Create a scatter plot to compare vote count and revenue\n",
    "plt.figure(figsize=(14, 8))\n",
    "plt.scatter(df_revenue['vote_count'], df_revenue['revenue'], alpha=0.5, color='b')\n",
    "plt.title('Correlation between Vote Count and Revenue')\n",
    "plt.xlabel('Vote Count')\n",
    "plt.ylabel('Revenue')\n",
    "plt.grid(True)\n",
    "plt.show()"
   ]
  },
  {
   "cell_type": "code",
   "execution_count": null,
   "metadata": {
    "scrolled": true
   },
   "outputs": [],
   "source": [
    "#Calculate the correlation number between vote_count and Revenue\n",
    "df_revenue['vote_count'].corr(df_revenue['revenue'])"
   ]
  },
  {
   "cell_type": "markdown",
   "metadata": {},
   "source": [
    "**Reasoning**: This scatter plot will help us understand whether higher audience engagement leads to higher revenues"
   ]
  },
  {
   "cell_type": "markdown",
   "metadata": {},
   "source": [
    "**Summary**: Based on the scatter plot and the calculated correlation number result (0.7545462177826207), it shows the  positive correlation between vote count and revenues, suggesting that movies with more votes tend to have higher revenues."
   ]
  },
  {
   "cell_type": "markdown",
   "metadata": {},
   "source": [
    "**Analysis Decision 10**: Runtime vs Revenue"
   ]
  },
  {
   "cell_type": "code",
   "execution_count": null,
   "metadata": {},
   "outputs": [],
   "source": [
    "# Create a scatter plot to compare runtime and revenue\n",
    "plt.figure(figsize=(14, 8))\n",
    "plt.scatter(df_revenue['runtime'], df_revenue['revenue'], alpha=0.5, color='b')\n",
    "plt.title('Correlation between Vote Count and Revenue')\n",
    "plt.xlabel('Vote Count')\n",
    "plt.ylabel('Revenue')\n",
    "plt.grid(True)\n",
    "plt.show()"
   ]
  },
  {
   "cell_type": "code",
   "execution_count": null,
   "metadata": {},
   "outputs": [],
   "source": [
    "# Calculate the correlation number between runtime and Revenue\n",
    "df_revenue['runtime'].corr(df_revenue['revenue'])"
   ]
  },
  {
   "cell_type": "markdown",
   "metadata": {},
   "source": [
    "**Reasoning**: This analysis helps us understand if longer or shorter movies generate higher revenues."
   ]
  },
  {
   "cell_type": "markdown",
   "metadata": {},
   "source": [
    "**Summary**: Based on the scatter plot and the calculated correlation number result (0.2507777788697942), it shows the weak positive correlation between vote count and revenues, suggesting that movie length has a limited impact on revenue."
   ]
  },
  {
   "cell_type": "markdown",
   "metadata": {},
   "source": [
    "**Analysis Decision 11**: Average Revenue over time:"
   ]
  },
  {
   "cell_type": "code",
   "execution_count": null,
   "metadata": {},
   "outputs": [],
   "source": [
    "#Groupby the release year and then calculate the average revenue for each year.\n",
    "revenue_release_year = df_revenue.groupby('release_year').revenue.mean().reset_index()"
   ]
  },
  {
   "cell_type": "code",
   "execution_count": null,
   "metadata": {
    "scrolled": false
   },
   "outputs": [],
   "source": [
    "# Use bar graph to visualize average revenue over time.\n",
    "plt.figure(figsize=(14, 8))\n",
    "plt.bar(revenue_release_year['release_year'], revenue_release_year['revenue'])\n",
    "plt.xlabel('Release Year')\n",
    "plt.ylabel('Mean Revenue')\n",
    "plt.title('Mean Revenue over Years')\n",
    "plt.show()"
   ]
  },
  {
   "cell_type": "markdown",
   "metadata": {},
   "source": [
    "**Reasoning**: the calculation of average revenue for each year will show how movie revenues changed over time."
   ]
  },
  {
   "cell_type": "markdown",
   "metadata": {},
   "source": [
    "**Summary**: This bar chart shows the average revenue trend over time, we can see the movie's revenue is increasing year by year."
   ]
  },
  {
   "cell_type": "markdown",
   "metadata": {},
   "source": [
    "# <a id='conclusions'></a>\n",
    "## Conclusions\n",
    "\n",
    "\n",
    "Question 1:  Is there a relationship between discount percentage and average product rating ?\n",
    "- There is a weak negative correlation, the distribution of ratings shows that most products are clusterd around the \"good\" rating, regardless of the discount\n",
    "- Thus, we cannot confidently say that higher or lower discounts strongly influence average product ratings.\n",
    "- the impact of discounts on ratings is minimal.\n",
    "\n",
    "Question 2: What kinds of properties are associated with movies that have high revenue ?\n",
    "- The distribution of movie revenues is right-skewed, so the majority of movies have low revenue.\n",
    "- Some directors produce films with higher average revenues. Recognition of these directors can ensure financial strategy.\n",
    "- “Adventure” and “Fantasy” are associated with higher sales. Investing in these genres can be worthwhile.\n",
    "- Budget: The correlation between budget and revenue is positive. So, movies with higher budget will generate higher revenues.\n",
    "- Popularity: The correlation between popularity and revenue is positive. So, the movies that are more popular with audiences will have higher revenues.\n",
    "- Adjusted Revenue: The correlation between adjusted revenue and revenue is the strongest positive (~0.9), which is shows that there is a strong relationship between the two. Adjusted revenue provides a more accurate reflection of financial success over time, accounting for inflation.\n",
    "- Vote Count: The correlation between vote count and revenue is also high positive. It shows that the movie with higher number of votes tend to have higher revenues.\n",
    "- Runtime: The correlaton of runtime is also positive, but it is weak (~0.2). It shows that longer or shorter movie does not impact the revenue.\n",
    "- In general, audience is the main factor affecting revenue.\n",
    "\n",
    "<a id='limit'></a>\n",
    "## Limitation\n",
    "\n",
    "- This source might not represent a comprehensive and unbiased sample of all movies. It is possible that some genres of movies are not represented.\n",
    "- The correlation does not imply causation. It will need more experiments and statistical analyses. The findings in this analysis provide associations but should not be interpreted as causal relationships."
   ]
  },
  {
   "cell_type": "code",
   "execution_count": null,
   "metadata": {},
   "outputs": [],
   "source": [
    "from subprocess import call\n",
    "call(['python', '-m', 'nbconvert', 'Investigate_a_Dataset.ipynb'])"
   ]
  },
  {
   "cell_type": "code",
   "execution_count": null,
   "metadata": {},
   "outputs": [],
   "source": []
  }
 ],
 "metadata": {
  "kernelspec": {
   "display_name": "Python 3 (ipykernel)",
   "language": "python",
   "name": "python3"
  },
  "language_info": {
   "codemirror_mode": {
    "name": "ipython",
    "version": 3
   },
   "file_extension": ".py",
   "mimetype": "text/x-python",
   "name": "python",
   "nbconvert_exporter": "python",
   "pygments_lexer": "ipython3",
   "version": "3.9.15"
  }
 },
 "nbformat": 4,
 "nbformat_minor": 2
}
