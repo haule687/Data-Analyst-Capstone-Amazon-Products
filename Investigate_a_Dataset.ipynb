{
 "cells": [
  {
   "cell_type": "markdown",
   "metadata": {},
   "source": [
    "<div id=\"top\"></div>\n",
    "\n",
    "# Project: Investigate a Dataset - [Amazon_product_data]\n",
    "\n",
    "## Table of Contents\n",
    "<ul>\n",
    "<li><a href=\"#intro\">Introduction</a></li>\n",
    "<li><a href=\"#question\">Questions</a></li>\n",
    "<li><a href=\"#wrangling\">Data Wrangling</a></li>\n",
    "<li><a href=\"#eda\">Exploratory Data Analysis</a></li>\n",
    "<li><a href=\"#conclusions\">Conclusions</a></li>\n",
    "<li><a href=\"#limit\">Limitation</a></li>\n",
    "</ul>"
   ]
  },
  {
   "cell_type": "markdown",
   "metadata": {},
   "source": [
    "<a id='intro'></a>\n",
    "## Introduction\n",
    "\n",
    "### Dataset Description \n",
    "\n",
    "\n",
    "#### Dataset Overview\n",
    "<ul>\n",
    "<li>This dataset contains detailed information about 1,465 Amazon products.</li>\n",
    "<li>The dataset includes various attributes related to product pricing, discounts, ratings, reviews, and product categories.</li>\n",
    "<li>Column named category contains multiple values separated by a pipe (|). This represent hierarchical category assignments for a single product.</li>\n",
    "<li>Dataset contains minimal missing values.</li>\n",
    "</ul>\n",
    "\n",
    "#### Columns in the Dataset:\n",
    "1. `product_id`: A unique identifier for each product.\n",
    "2. `product_name`: Name of the Product.\n",
    "3. `category`: Category of the Product.\n",
    "4. `discounted_price`: Discounted Price of the Product.\n",
    "5. `actual_price`: Actual Price of the Product.\n",
    "6. `discount_percentage`: Percentage of Discount for the Product.\n",
    "7. `rating`: Rating of the Product.\n",
    "8. `rating_count`: Number of people who voted for the Amazon rating.\n",
    "9. `about_product`: Description about the Product.\n",
    "10. `user_id`: ID of the user who wrote review for the Product.\n",
    "11. `user_name`: Name of the user who wrote review for the Product.\n",
    "12. `review_id`: ID of the user review.\n",
    "13. `review_title`: Short review.\n",
    "14. `review_content`: Long review.\n",
    "15. `img_link`: Image Link of the Product.\n",
    "16. `product_link`: Official Website Link of the Product\n",
    "\n",
    "<a id='question'></a>\n",
    "## Question(s) for Analysis\n",
    "<ol>\n",
    "    <li><a href=\"#question1\">Are higher discount percentages are associated with lower product ratings?</a>\n",
    "        <ul>\n",
    "            <li>This question determine whether products offerd at higher discounts tend to have lower rating.</li>\n",
    "            <li>It leads to shows that discounted items maybe perceived as lower quality or less desirable.</li>\n",
    "            <li>This relationship will identify optimal discount levels that do not negatively impact product perception.</li>\n",
    "        </ul>\n",
    "    </li>\n",
    "    <li><a href=\"#question2\">Do products with more reviews have higher average ratings?</a>\n",
    "        <ul>\n",
    "            <li>This hypothesis investigates if products with higher number of reviews tend to have higher rating.</li>\n",
    "            <li>It determine if popular items receive better feedback.</li>\n",
    "        </ul>\n",
    "    </li>\n",
    "    <li><a href=\"#question3\">Do higher-priced products receive better ratings than lower-priced ones?</a>\n",
    "        <ul>\n",
    "            <li>Consumers might have higher expectations for premium products, so it’s interesting to see if higher-priced products actually receive better ratings. Testing this hypothesis can reveal if price influences customer perception positively or if lower-priced products perform equally well in terms of customer satisfaction.</li>\n",
    "        </ul>\n",
    "    </li>\n",
    "    <li><a href=\"#question4\">Do Products with Positive Sentiment in Reviews Have Higher Ratings?</a>\n",
    "        <ul>\n",
    "            <li>This hypothesis examines whether the sentiment expressed in customer reviews (positive, neutral, or negative) aligns with the product’s rating. If confirmed, this could suggest that sentiment analysis can serve as a proxy for predicting overall product satisfaction and help brands understand customer sentiment trends.</li>\n",
    "        </ul>\n",
    "    </li>\n",
    "    <li><a href=\"#question5\">Which Categories of Products Receive the Highest or Lowest Ratings?</a>\n",
    "        <ul>\n",
    "            <li>Different product categories (like Electronics, Home & Kitchen) may naturally attract different rating distributions due to factors such as user expectations and product complexity. This hypothesis will help identify if certain categories are more favorably rated, providing insights into customer satisfaction by category.</li>\n",
    "        </ul>\n",
    "    </li>\n",
    "</ol>"
   ]
  },
  {
   "cell_type": "code",
   "execution_count": 1,
   "metadata": {},
   "outputs": [],
   "source": [
    "# import numpy, pandas, matplotlib, and seaborn\n",
    "import numpy as np\n",
    "import pandas as pd\n",
    "import matplotlib.pyplot as plt\n",
    "from nltk.sentiment.vader import SentimentIntensityAnalyzer\n",
    "import seaborn as sns\n",
    "from scipy import stats\n",
    "import plotly.io as pio\n",
    "pio.renderers.default='notebook'\n",
    "%matplotlib inline\n",
    "from scipy.stats import ttest_ind\n",
    "from statsmodels.stats.proportion import proportions_ztest\n",
    "from sklearn.preprocessing import StandardScaler\n",
    "from sklearn.model_selection import train_test_split\n",
    "from sklearn.svm import SVR\n",
    "from sklearn.metrics import mean_squared_error, mean_absolute_error, r2_score"
   ]
  },
  {
   "cell_type": "code",
   "execution_count": 2,
   "metadata": {},
   "outputs": [],
   "source": [
    "# Upgrade pandas to use dataframe.explode() function. \n",
    "#!pip install --upgrade pandas==0.25.1"
   ]
  },
  {
   "cell_type": "markdown",
   "metadata": {},
   "source": [
    "<a id='wrangling'></a>\n",
    "## Data Wrangling\n",
    "\n",
    "### Initial Cleaning"
   ]
  },
  {
   "cell_type": "code",
   "execution_count": 3,
   "metadata": {
    "scrolled": true
   },
   "outputs": [],
   "source": [
    "# load datasets from amazon.csv file\n",
    "df = pd.read_csv(\"data/amazon.csv\")"
   ]
  },
  {
   "cell_type": "code",
   "execution_count": 4,
   "metadata": {},
   "outputs": [],
   "source": [
    "# view the first 5 rows of the dataset\n",
    "df.head()"
   ]
  },
  {
   "cell_type": "code",
   "execution_count": 5,
   "metadata": {},
   "outputs": [],
   "source": [
    "#view dimensions of dataset\n",
    "df.shape"
   ]
  },
  {
   "cell_type": "markdown",
   "metadata": {},
   "source": [
    "The number of samples in the dataset is 1465, The number of columns in the dataset is 16"
   ]
  },
  {
   "cell_type": "code",
   "execution_count": 6,
   "metadata": {},
   "outputs": [],
   "source": [
    "#explore the dataset, checking for the missing value of each column.\n",
    "df.info()"
   ]
  },
  {
   "cell_type": "markdown",
   "metadata": {},
   "source": [
    "There is no null data in this dataset."
   ]
  },
  {
   "cell_type": "code",
   "execution_count": 7,
   "metadata": {},
   "outputs": [],
   "source": [
    "#view the datatype of each column\n",
    "df.dtypes"
   ]
  },
  {
   "cell_type": "code",
   "execution_count": 8,
   "metadata": {},
   "outputs": [],
   "source": [
    "#Show how many unique values are there in each columns.\n",
    "df.nunique()"
   ]
  },
  {
   "cell_type": "code",
   "execution_count": 9,
   "metadata": {},
   "outputs": [],
   "source": [
    "#show the null rows in each column\n",
    "df.isnull().sum()"
   ]
  },
  {
   "cell_type": "markdown",
   "metadata": {},
   "source": [
    "There are 2 null rows in rating_count column"
   ]
  },
  {
   "cell_type": "code",
   "execution_count": 10,
   "metadata": {},
   "outputs": [],
   "source": [
    "#view the overall information of the dataset:\n",
    "df.describe()"
   ]
  },
  {
   "cell_type": "code",
   "execution_count": 11,
   "metadata": {},
   "outputs": [],
   "source": [
    "df.rating.value_counts()"
   ]
  },
  {
   "cell_type": "markdown",
   "metadata": {},
   "source": [
    "`Rating` column has 1 row that contain '|' symbol"
   ]
  },
  {
   "cell_type": "code",
   "execution_count": 12,
   "metadata": {},
   "outputs": [],
   "source": [
    "#Create a copy of data to clean named df_clean\n",
    "df_clean = df.copy()"
   ]
  },
  {
   "cell_type": "markdown",
   "metadata": {},
   "source": [
    "### Fixing `rating` Column"
   ]
  },
  {
   "cell_type": "code",
   "execution_count": 13,
   "metadata": {},
   "outputs": [],
   "source": [
    "# General look in rows contain '|' symbol\n",
    "df[df['rating'] =='|']"
   ]
  },
  {
   "cell_type": "markdown",
   "metadata": {},
   "source": [
    "I checked the product_linke of \"B08L12N5H1\", the rating is 3.9, so I will fill the rating at 3.9"
   ]
  },
  {
   "cell_type": "code",
   "execution_count": 14,
   "metadata": {},
   "outputs": [],
   "source": [
    "df_clean.loc[df_clean['product_id'] == 'B08L12N5H1', 'rating'] = '3.9'"
   ]
  },
  {
   "cell_type": "markdown",
   "metadata": {},
   "source": [
    "### Drop extraneous columns\n",
    "Columns to Drop: `img_link` , `user_name` , `user_id`"
   ]
  },
  {
   "cell_type": "code",
   "execution_count": 15,
   "metadata": {},
   "outputs": [],
   "source": [
    "#drop columns from the dataset\n",
    "df_clean.drop(['img_link','user_name','user_id'], inplace=True, axis=1)"
   ]
  },
  {
   "cell_type": "code",
   "execution_count": 16,
   "metadata": {},
   "outputs": [],
   "source": [
    "#confirm the changes\n",
    "df_clean.info()"
   ]
  },
  {
   "cell_type": "markdown",
   "metadata": {},
   "source": [
    "### Dedupe Data"
   ]
  },
  {
   "cell_type": "code",
   "execution_count": 17,
   "metadata": {},
   "outputs": [],
   "source": [
    "#print number of duplicates to confirm dedupe - should be 0\n",
    "print(df_clean.duplicated().sum())"
   ]
  },
  {
   "cell_type": "markdown",
   "metadata": {},
   "source": [
    "No duplicate information, so it doesn't need any further cleaning."
   ]
  },
  {
   "cell_type": "markdown",
   "metadata": {},
   "source": [
    "### Fix Rows with Missing Values"
   ]
  },
  {
   "cell_type": "code",
   "execution_count": 18,
   "metadata": {},
   "outputs": [],
   "source": [
    "# Define which row in rating_count is null\n",
    "df_clean[df_clean['rating_count'].isnull()]"
   ]
  },
  {
   "cell_type": "markdown",
   "metadata": {},
   "source": [
    "I go to product link to check and notice that product_id: B0B94JPY2N has 4.0 rating and 58 rating_count. \n",
    "Product_id B0BQRJ3C47 hasn't existed in amazon so I will drop it."
   ]
  },
  {
   "cell_type": "code",
   "execution_count": 19,
   "metadata": {},
   "outputs": [],
   "source": [
    "# Change row with product_id = 'B0B94JPY2N': rating to 4.0 and rating_count to 58\n",
    "df_clean.loc[df_clean['product_id'] == 'B0B94JPY2N', 'rating_count'] = '58'\n",
    "df_clean.loc[df_clean['product_id'] == 'B0B94JPY2N', 'rating'] = '4.0'"
   ]
  },
  {
   "cell_type": "code",
   "execution_count": 20,
   "metadata": {},
   "outputs": [],
   "source": [
    "# Then drop rows with any null values in dataset which is Product_id B0BQRJ3C47\n",
    "df_clean.dropna(inplace=True)"
   ]
  },
  {
   "cell_type": "code",
   "execution_count": 21,
   "metadata": {},
   "outputs": [],
   "source": [
    "#show the null rows in each column - should 0 for all columns\n",
    "df_clean.isnull().sum()"
   ]
  },
  {
   "cell_type": "markdown",
   "metadata": {},
   "source": [
    "### Data Transformation"
   ]
  },
  {
   "cell_type": "markdown",
   "metadata": {},
   "source": [
    "Create a float_change function to automatically change float type to each column."
   ]
  },
  {
   "cell_type": "code",
   "execution_count": 22,
   "metadata": {},
   "outputs": [],
   "source": [
    "def convert_to_float(df,column_name):\n",
    "    # removes any non-numeric characters (except for the decimal point)\n",
    "    df[column_name] = df[column_name].str.replace(r'[^0-9.]', '', regex=True)\n",
    "    \n",
    "    # convert string to float for actual_price column\n",
    "    df[column_name] = df[column_name].astype(float)"
   ]
  },
  {
   "cell_type": "markdown",
   "metadata": {},
   "source": [
    "Convert price-related columns to floats for easier calculations"
   ]
  },
  {
   "cell_type": "code",
   "execution_count": 23,
   "metadata": {},
   "outputs": [],
   "source": [
    "# convert string to float for discounted_price column\n",
    "convert_to_float(df_clean,'discounted_price')"
   ]
  },
  {
   "cell_type": "code",
   "execution_count": 24,
   "metadata": {},
   "outputs": [],
   "source": [
    "# convert string to float for actual_price column\n",
    "convert_to_float(df_clean,'actual_price')"
   ]
  },
  {
   "cell_type": "code",
   "execution_count": 25,
   "metadata": {},
   "outputs": [],
   "source": [
    "# convert string to float for rating_count column\n",
    "convert_to_float(df_clean,\"rating_count\")"
   ]
  },
  {
   "cell_type": "code",
   "execution_count": 26,
   "metadata": {},
   "outputs": [],
   "source": [
    "# convert string to float for rating column\n",
    "convert_to_float(df_clean,\"rating\")"
   ]
  },
  {
   "cell_type": "code",
   "execution_count": 27,
   "metadata": {},
   "outputs": [],
   "source": [
    "# Handle the 'discount_percentage' column by converting it to a decimal value (0–1 range)\n",
    "df_clean['discount_percentage'] = df_clean['discount_percentage'].str.replace('%', '').astype(float) / 100"
   ]
  },
  {
   "cell_type": "code",
   "execution_count": 28,
   "metadata": {},
   "outputs": [],
   "source": [
    "# check data type for revenue column and budget column \n",
    "# discounted_price, actual_price, rating_count, rating, discount_percentage should be float\n",
    "df_clean.dtypes"
   ]
  },
  {
   "cell_type": "code",
   "execution_count": 29,
   "metadata": {},
   "outputs": [],
   "source": [
    "df_clean.isnull().sum()"
   ]
  },
  {
   "cell_type": "markdown",
   "metadata": {},
   "source": [
    "### Feature Creating"
   ]
  },
  {
   "cell_type": "markdown",
   "metadata": {},
   "source": [
    "Create a split_and_expand function to automatically split and expand into separate rows."
   ]
  },
  {
   "cell_type": "code",
   "execution_count": 30,
   "metadata": {},
   "outputs": [],
   "source": [
    "# Split the 'category' column into two parts: general category and product type\n",
    "def split_category(df, column_name, fill_value='NaN'):\n",
    "    \"\"\"\n",
    "    Splits a specified column on the '|' delimiter and expands it into two separate columns.\n",
    "    \n",
    "    Parameters:\n",
    "    df (DataFrame): The DataFrame containing the column to split.\n",
    "    column_name (str): The name of the column to split.\n",
    "    \n",
    "    Returns:\n",
    "    DataFrame: The modified DataFrame with split and expanded columns.\n",
    "    \"\"\"\n",
    "    \n",
    "    # split the specified column on the delimiter '|'\n",
    "    # expand=True: instead of storing lists in a single column,\n",
    "    # it creates multiple columns in the resulting DataFrame category_split\n",
    "    \n",
    "    split_column = df[column_name].str.split('|', expand=True) \n",
    "    \n",
    "    # Create new column named main_category\n",
    "    df['main_category'] = split_column[0]\n",
    "    \n",
    "    # Create new column named product_type\n",
    "    df['product_type'] = split_column[1]\n",
    "    \n",
    "    #drop the old columns\n",
    "    df.drop(columns=[column_name], inplace=True)"
   ]
  },
  {
   "cell_type": "markdown",
   "metadata": {},
   "source": [
    "Call split_category function to split category column"
   ]
  },
  {
   "cell_type": "code",
   "execution_count": 31,
   "metadata": {},
   "outputs": [],
   "source": [
    "# Appply the function to 'category' column\n",
    "split_category(df_clean, 'category')"
   ]
  },
  {
   "cell_type": "code",
   "execution_count": 32,
   "metadata": {},
   "outputs": [],
   "source": [
    "# Using the median price to split the products\n",
    "median_price = df_clean['actual_price'].median()\n",
    "df_clean['price_category'] = df_clean['actual_price'].apply(lambda x: 'Lower-Priced' if x < median_price else 'Higher-Priced')"
   ]
  },
  {
   "cell_type": "markdown",
   "metadata": {},
   "source": [
    "Function to get sentiment"
   ]
  },
  {
   "cell_type": "code",
   "execution_count": 33,
   "metadata": {},
   "outputs": [],
   "source": [
    "# Initialize VADER SentimentIntensityAnalyzer\n",
    "sia = SentimentIntensityAnalyzer()"
   ]
  },
  {
   "cell_type": "code",
   "execution_count": 34,
   "metadata": {},
   "outputs": [],
   "source": [
    "# Function to get sentiment\n",
    "def get_vader_sentiment(text):\n",
    "    score = sia.polarity_scores(text)\n",
    "    return score['compound']  # compound score between -1 (negative) and 1 (positive)"
   ]
  },
  {
   "cell_type": "code",
   "execution_count": 35,
   "metadata": {},
   "outputs": [],
   "source": [
    "# Applying sentiment analysis\n",
    "df_clean['vader_sentiment_score'] = df_clean['review_content'].apply(get_vader_sentiment)\n",
    "df_clean['vader_sentiment'] = df_clean['vader_sentiment_score'].apply(lambda x: 'Positive' if x > 0 else ('Negative' if x < 0 else 'Neutral'))"
   ]
  },
  {
   "cell_type": "code",
   "execution_count": 36,
   "metadata": {},
   "outputs": [],
   "source": [
    "df_clean['vader_sentiment'].value_counts()"
   ]
  },
  {
   "cell_type": "markdown",
   "metadata": {},
   "source": [
    "Grouping Rating"
   ]
  },
  {
   "cell_type": "markdown",
   "metadata": {},
   "source": [
    "**Reasoning**: This grouping gives a meaningful breakdown, because the ratings are mostly concentrated around certain values."
   ]
  },
  {
   "cell_type": "markdown",
   "metadata": {},
   "source": [
    "- Low Ratings (1.0 - 3.0): These are rare, but they represent a significant drop in product quality or satisfaction.\n",
    "- Average Ratings (3.0 - 4.0): This range covers a moderate level of satisfaction.\n",
    "- Good Ratings (4.0 - 4.5): The largest concentration falls here, representing well-rated products.\n",
    "- Excellent Ratings (4.5 - 5.0): This would represent top-rated products."
   ]
  },
  {
   "cell_type": "code",
   "execution_count": 37,
   "metadata": {},
   "outputs": [],
   "source": [
    "df_clean['mean_of_ratings'] = pd.cut(df_clean['rating'], [1, 3, 3.5, 4, 5], labels = ['Low', 'Average', 'Good', 'Excellent'])"
   ]
  },
  {
   "cell_type": "markdown",
   "metadata": {},
   "source": [
    "Binning rating_count into defined groups."
   ]
  },
  {
   "cell_type": "markdown",
   "metadata": {},
   "source": [
    "**Reasoning**: This will help reduce the impact of extreme values."
   ]
  },
  {
   "cell_type": "code",
   "execution_count": 38,
   "metadata": {},
   "outputs": [],
   "source": [
    "# Define bins for review count ranges\n",
    "bins = [0, 100, 1000, 5000, 10000, 50000, 100000, 500000]  # Define the review count ranges\n",
    "labels = ['0-100', '100-1000', '1000-5000', '5000-10000', '10000-50000', '50000-100000', '100000+']  # Label each range"
   ]
  },
  {
   "cell_type": "code",
   "execution_count": 39,
   "metadata": {},
   "outputs": [],
   "source": [
    "# Create a new column in the DataFrame to represent review count ranges\n",
    "df_clean['rating_count_group'] = pd.cut(df_clean['rating_count'], bins=bins, labels=labels)"
   ]
  },
  {
   "cell_type": "code",
   "execution_count": 40,
   "metadata": {
    "scrolled": true
   },
   "outputs": [],
   "source": [
    "#Confirm the new columns\n",
    "df_clean.info()"
   ]
  },
  {
   "cell_type": "markdown",
   "metadata": {},
   "source": [
    "<a id='eda'></a>\n",
    "## Exploratory Data Analysis\n",
    "\n",
    "<a id='question1'></a>\n",
    "### Research Question 1: Is there a relationship between discount percentage and average product rating ?"
   ]
  },
  {
   "cell_type": "markdown",
   "metadata": {},
   "source": [
    "**Analysis Decision 1**: Bin the discount percentage data"
   ]
  },
  {
   "cell_type": "code",
   "execution_count": 41,
   "metadata": {},
   "outputs": [],
   "source": [
    "bins = [0, 0.1, 0.2, 0.3, 0.4, 0.5, 0.6, 0.7, 0.8, 0.9, 1.0]\n",
    "labels = ['0-10%', '10-20%', '20-30%', '30-40%', '40-50%', '50-60%', '60-70%', '70-80%', '80-90%', '90-100%']\n",
    "df_clean['discount_bin'] = pd.cut(df_clean['discount_percentage'], bins=bins, labels=labels)"
   ]
  },
  {
   "cell_type": "markdown",
   "metadata": {},
   "source": [
    "**Reasoning**: Provids a simplified distribution and can make comparisons easier."
   ]
  },
  {
   "cell_type": "markdown",
   "metadata": {},
   "source": [
    "**Analysis Decision 2**: Draw histogram to describe distribution of discount percentage."
   ]
  },
  {
   "cell_type": "code",
   "execution_count": 42,
   "metadata": {
    "scrolled": false
   },
   "outputs": [],
   "source": [
    "plt.figure(figsize=(14, 8))\n",
    "sns.histplot(df_clean['discount_bin'], kde=True)\n",
    "plt.title('Distribution of Discounted Percentage')\n",
    "plt.xlabel('Discounted Percentage')\n",
    "plt.ylabel('Frequency')\n",
    "plt.show()"
   ]
  },
  {
   "cell_type": "markdown",
   "metadata": {},
   "source": [
    "**Reasoning**: This histogram plot will help us understand how pricing stategies are distributed and potential impact on consumer behavior and busisness performance."
   ]
  },
  {
   "cell_type": "markdown",
   "metadata": {},
   "source": [
    "**Summary**: \n",
    "- The peak around 40% to 60% discount.\n",
    "- Discounts greater than 80% are rare.\n",
    "- Very few products are offered without any discount.\n",
    "- Most products are offered with moderate to high discounts, with a few products available at no discount or very high discounts."
   ]
  },
  {
   "cell_type": "markdown",
   "metadata": {},
   "source": [
    "**Analysis Decision 3**: Rating"
   ]
  },
  {
   "cell_type": "code",
   "execution_count": 43,
   "metadata": {
    "scrolled": false
   },
   "outputs": [],
   "source": [
    "plt.figure(figsize=(14, 8))\n",
    "sns.histplot(df_clean['rating'], kde=True)\n",
    "plt.title('Distribution of Rating')\n",
    "plt.xlabel('Rating')\n",
    "plt.ylabel('Frequency')\n",
    "plt.show()"
   ]
  },
  {
   "cell_type": "markdown",
   "metadata": {},
   "source": [
    "**Reasoning**: This histogram plot will help us understand how pricing stategies are distributed and potential impact on consumer behavior and busisness performance."
   ]
  },
  {
   "cell_type": "markdown",
   "metadata": {},
   "source": [
    "**Summary**: \n",
    "- The majority of ratings seem to cluster betwen 3.5 and 4.5, indicating that most products are rated positively.\n",
    "- Very few ratings are below 3.0, suggesting that poor ratings are rare in this dataset"
   ]
  },
  {
   "cell_type": "code",
   "execution_count": 44,
   "metadata": {},
   "outputs": [],
   "source": [
    "#Calculate the correlation number between vote_count and Revenue\n",
    "df_clean['discount_percentage'].corr(df_clean['rating'])"
   ]
  },
  {
   "cell_type": "markdown",
   "metadata": {},
   "source": [
    "**Summary**: \n",
    "- The correlation between discount percentage and rating is -0.155, it shows a weak negative relationship. This implies that in general, when the product rating decreases, the discount percentage will be increases, though the effect is minimal."
   ]
  },
  {
   "cell_type": "markdown",
   "metadata": {},
   "source": [
    "**Analysis Decision 4**: Relationship between rating and discount percentage"
   ]
  },
  {
   "cell_type": "code",
   "execution_count": 45,
   "metadata": {
    "scrolled": false
   },
   "outputs": [],
   "source": [
    "sns.scatterplot(x='rating',y='discount_percentage', data= df_clean, color = \"green\")\n",
    "plt.title(\"discount_percentage & rating\")\n",
    "plt.show()"
   ]
  },
  {
   "cell_type": "markdown",
   "metadata": {},
   "source": [
    "**Reasoning**: This scatter plot will help us understand whether higher rating engagement leads to higher discount percentage"
   ]
  },
  {
   "cell_type": "markdown",
   "metadata": {},
   "source": [
    "**Summary**:\n",
    "- The scatter plot shows a very slight downward trend, but it is difficult to tell."
   ]
  },
  {
   "cell_type": "markdown",
   "metadata": {},
   "source": [
    "Visualize for the distribution of mean of rating."
   ]
  },
  {
   "cell_type": "code",
   "execution_count": 46,
   "metadata": {},
   "outputs": [],
   "source": [
    "plt.figure(figsize=(14, 8))\n",
    "sns.histplot(df_clean['mean_of_ratings'], kde=True)\n",
    "plt.title('Distribution of Rating')\n",
    "plt.xlabel('Rating')\n",
    "plt.ylabel('Frequency')\n",
    "plt.show()"
   ]
  },
  {
   "cell_type": "markdown",
   "metadata": {},
   "source": [
    "The plot shows that the dataset mostly give excellent rating in the product."
   ]
  },
  {
   "cell_type": "markdown",
   "metadata": {},
   "source": [
    "**Summary**:\n",
    "- The scatter plot shows a very slight downward trend, but it is difficult to tell."
   ]
  },
  {
   "cell_type": "code",
   "execution_count": 47,
   "metadata": {
    "scrolled": true
   },
   "outputs": [],
   "source": [
    "discount_vs_rating = df_clean.groupby('mean_of_ratings')['discount_percentage'].mean()\n",
    "print(discount_vs_rating)"
   ]
  },
  {
   "cell_type": "markdown",
   "metadata": {},
   "source": [
    "**Summary**:\n",
    "- Low-rated products have the highest average discount at 63.9%.\n",
    "- Excellent-rated products have the lowest average discount at 45.4%\n",
    "- This suggests that lower-rated products tend to have higher discounts."
   ]
  },
  {
   "cell_type": "code",
   "execution_count": 48,
   "metadata": {},
   "outputs": [],
   "source": [
    "plt.figure(figsize=(14,8))\n",
    "sns.boxplot(x='mean_of_ratings', y='discount_percentage', data=df_clean)\n",
    "plt.title('Box Plot of Discount Percentage Across Rating Categories')\n",
    "plt.xlabel('Rating Category')\n",
    "plt.ylabel('Discount Percentage')\n",
    "plt.show()"
   ]
  },
  {
   "cell_type": "markdown",
   "metadata": {},
   "source": [
    "The relationship between discount percentage and product ratings is clear:\n",
    "- Products with lower ratings tend to offer higher discounts.\n",
    "- Products with higher ratings offer more moderate discounts, leveraging their quality and reputation to drive sales without needing large discounts."
   ]
  },
  {
   "cell_type": "code",
   "execution_count": 49,
   "metadata": {},
   "outputs": [],
   "source": [
    "# Group by rating categories and calculate the correlation\n",
    "grouped_by_rating = df_clean.groupby('mean_of_ratings').apply(\n",
    "    lambda x: x['discount_percentage'].corr(x['rating'])\n",
    ")\n",
    "\n",
    "print(grouped_by_rating)"
   ]
  },
  {
   "cell_type": "markdown",
   "metadata": {},
   "source": [
    "- Low-Rated Products: There is a moderately strong positive correlation for low-rated products. This suggests that products with low ratings are likely to offer higher discounts.\n",
    "- Average, Good, and Excellent Products: For these categories, the correlation is weakly negative. This suggests that higher discounts are less commonly associated with higher-rated products. In fact, these products are more likely to maintain moderate or lower discount levels, relying on their good ratings to drive sales."
   ]
  },
  {
   "cell_type": "markdown",
   "metadata": {},
   "source": [
    "**Analysis Decision 6**: Analyze A/B Test Results"
   ]
  },
  {
   "cell_type": "markdown",
   "metadata": {},
   "source": [
    "Split the dataset into 3 groups based on discount ranges: (0-30%), (30-60%), and (60-100%)"
   ]
  },
  {
   "cell_type": "code",
   "execution_count": 50,
   "metadata": {},
   "outputs": [],
   "source": [
    "# Define groups based on discount ranges\n",
    "low_discount = df_clean[(df_clean['discount_percentage'] >= 0) & (df_clean['discount_percentage'] <= 0.3)]\n",
    "medium_discount = df_clean[(df_clean['discount_percentage'] > 0.3) & (df_clean['discount_percentage'] <= 0.6)]\n",
    "high_discount = df_clean[(df_clean['discount_percentage'] > 0.6) & (df_clean['discount_percentage'] <= 1)]"
   ]
  },
  {
   "cell_type": "markdown",
   "metadata": {},
   "source": [
    "Null Hypothesis $H_0$ for each groups: \n",
    "- There is no significant different in average product ratings between low discounts (0-30%) and medium discount (30-60%)\n",
    "- There is no significant different in average product ratings between medium discount (30-60%) and high discount (60-100%)\n",
    "- There is no significant different in average product ratings between low discounts (0-30%) and high discount (60-100%)"
   ]
  },
  {
   "cell_type": "code",
   "execution_count": 51,
   "metadata": {},
   "outputs": [],
   "source": [
    "# Count successes (ratings >= 4.0) for each group\n",
    "low_success = low_discount[low_discount['rating'] >= 4.0].shape[0]\n",
    "medium_success = medium_discount[medium_discount['rating'] >= 4.0].shape[0]\n",
    "high_success = high_discount[high_discount['rating'] >= 4.0].shape[0]"
   ]
  },
  {
   "cell_type": "code",
   "execution_count": 52,
   "metadata": {},
   "outputs": [],
   "source": [
    "# Count total observations for each group\n",
    "low_total = low_discount.shape[0]\n",
    "medium_total = medium_discount.shape[0]\n",
    "high_total = high_discount.shape[0]"
   ]
  },
  {
   "cell_type": "code",
   "execution_count": 53,
   "metadata": {},
   "outputs": [],
   "source": [
    "# Perform proportions Z-test between Low and Medium discounts\n",
    "success_counts_lm = [low_success, medium_success]\n",
    "sample_sizes_lm = [low_total, medium_total]\n",
    "z_stat_lm, p_value_lm = proportions_ztest(success_counts_lm, sample_sizes_lm)"
   ]
  },
  {
   "cell_type": "code",
   "execution_count": 54,
   "metadata": {},
   "outputs": [],
   "source": [
    "# Perform proportions Z-test between Medium and High discounts\n",
    "success_counts_mh = [medium_success, high_success]\n",
    "sample_sizes_mh = [medium_total, high_total]\n",
    "z_stat_mh, p_value_mh = proportions_ztest(success_counts_mh, sample_sizes_mh)"
   ]
  },
  {
   "cell_type": "code",
   "execution_count": 55,
   "metadata": {},
   "outputs": [],
   "source": [
    "# Perform proportions Z-test between Low and High discounts\n",
    "success_counts_lh = [low_success, high_success]\n",
    "sample_sizes_lh = [low_total, high_total]\n",
    "z_stat_lh, p_value_lh = proportions_ztest(success_counts_lh, sample_sizes_lh)"
   ]
  },
  {
   "cell_type": "code",
   "execution_count": 56,
   "metadata": {
    "scrolled": false
   },
   "outputs": [],
   "source": [
    "# Summarize results\n",
    "results = {\n",
    "    \"Low Discounts (0-30%) Total\": low_total,\n",
    "    \"Low Discounts Successes\": low_success,\n",
    "    \"Medium Discounts (30-60%) Total\": medium_total,\n",
    "    \"Medium Discounts Successes\": medium_success,\n",
    "    \"High Discounts (60-100%) Total\": high_total,\n",
    "    \"High Discounts Successes\": high_success,\n",
    "    \"Low vs Medium Z-Statistic\": z_stat_lm,\n",
    "    \"Low vs Medium P-Value\": p_value_lm,\n",
    "    \"Medium vs High Z-Statistic\": z_stat_mh,\n",
    "    \"Medium vs High P-Value\": p_value_mh,\n",
    "    \"Low vs High Z-Statistic\": z_stat_lh,\n",
    "    \"Low vs High P-Value\": p_value_lh,\n",
    "}\n",
    "\n",
    "results"
   ]
  },
  {
   "cell_type": "markdown",
   "metadata": {},
   "source": [
    "**Low Discounts (0-30%) vs Medium Discounts (30-60%)**:\n",
    "- p-value is less than 0.05 (0.000813), so we reject the null hypothesis.\n",
    "- There is a significant difference in the proportion of highly rated products between low and medium discounts.\n",
    "- Z-statistic = 3.35, which means low discounts rate is 3 times of standard deviation above the mean. So products with low discounts (0-30%) have higher proportion of high ratings compared to medium discounts (30-60%)"
   ]
  },
  {
   "cell_type": "markdown",
   "metadata": {},
   "source": [
    "**Medium Discounts (30-60%) vs High Discounts (60-100%)**:\n",
    "- p-value is greater than 0.05 (0.301), so we don't have evident to reject the null hypothesis.\n",
    "- There is no statistically significant difference in the proportion of highly rated products between medium and high discounts.\n",
    "- Products with medium discounts (30–60%) and high discounts (60–100%) have similar proportions of high ratings."
   ]
  },
  {
   "cell_type": "markdown",
   "metadata": {},
   "source": [
    "**Low Discounts (0-30%) vs High Discounts (60-100%)**:\n",
    "- p-value is less than 0.05 (0.00007), so we reject the null hypothesis.\n",
    "- There is a significant difference in the proportion of highly rated products between low and high discounts.\n",
    "- Z-statistic = 3.967, which means low discounts rate is 4 times of standard deviation above the mean. So products with low discounts (0-30%) have higher proportion of high ratings compared to high discounts (60-100%)  "
   ]
  },
  {
   "cell_type": "markdown",
   "metadata": {},
   "source": [
    "**Summary**:\n",
    "<center>\n",
    "\n",
    "|Comparison|Statistical Significance|Conclusion|\n",
    "| :- | :- | :- |\n",
    "|**Low vs Medium**|Yes (p = 0.0008)|Low discounts have a higher proportion of high ratings.|\n",
    "|**Medium vs High**|No (p = 0.3012)|No significant difference in high ratings.|\n",
    "|**Low vs High**|Yes (p = 0.00007)|Low discounts have a higher proportion of high ratings.|\n",
    "\n",
    "</center>"
   ]
  },
  {
   "cell_type": "markdown",
   "metadata": {},
   "source": [
    "<a id='question2'></a>\n",
    "### Research Question 2:  Do products with more reviews have higher or lower average ratings?"
   ]
  },
  {
   "cell_type": "markdown",
   "metadata": {},
   "source": [
    "**Analysis Decision 1**: Create review count ranges."
   ]
  },
  {
   "cell_type": "code",
   "execution_count": 57,
   "metadata": {
    "scrolled": true
   },
   "outputs": [],
   "source": [
    "df_clean['rating_count'].describe()"
   ]
  },
  {
   "cell_type": "markdown",
   "metadata": {},
   "source": [
    "- The review counts range is quite wide, from 2 to 426,973 reviews.\n",
    "- The mean is 18283, std is 42741 shows that the distribution is skewed."
   ]
  },
  {
   "cell_type": "markdown",
   "metadata": {},
   "source": [
    "**Analysis Decision 2**: Visualize the distribution of review bin group."
   ]
  },
  {
   "cell_type": "code",
   "execution_count": 58,
   "metadata": {},
   "outputs": [],
   "source": [
    "plt.figure(figsize=(14, 8))\n",
    "sns.histplot(df_clean['rating_count_group'], kde=True)\n",
    "plt.title('Distribution of Review bin group')\n",
    "plt.xlabel('Reivews')\n",
    "plt.ylabel('Frequency')\n",
    "plt.show()"
   ]
  },
  {
   "cell_type": "markdown",
   "metadata": {},
   "source": [
    "**Summary**:\n",
    "- The rating_count_group binning has provided a more balanced view of data.\n",
    "- The bimodal distribution suggests that most products either have moderate (1000-5000) or high (10000-50000) review counts, with fewer products at the extremes (very low or very high review counts). This information can help guide further analyses on how review count affects product ratings, with attention to the most common review groups."
   ]
  },
  {
   "cell_type": "markdown",
   "metadata": {},
   "source": [
    "**Analysis Decision 3**: Calculate Average Ratings for Each Review Count Group"
   ]
  },
  {
   "cell_type": "code",
   "execution_count": 59,
   "metadata": {},
   "outputs": [],
   "source": [
    "# Group by the review count ranges and calculate the mean rating\n",
    "review_count_vs_rating = df_clean.groupby('rating_count_group')['rating'].mean().reset_index()"
   ]
  },
  {
   "cell_type": "code",
   "execution_count": 60,
   "metadata": {},
   "outputs": [],
   "source": [
    "# Display the result\n",
    "print(review_count_vs_rating)"
   ]
  },
  {
   "cell_type": "markdown",
   "metadata": {},
   "source": [
    "**Reasoning**: "
   ]
  },
  {
   "cell_type": "markdown",
   "metadata": {},
   "source": [
    "**Summary**:\n",
    "- The average rating generally increases with the review count, suggesting that products with more reviews tend to have slightly higher ratings. However, this increase plateaus after the 50000-100000 review group, with a slight decline in the 100000+ group."
   ]
  },
  {
   "cell_type": "markdown",
   "metadata": {},
   "source": [
    "**Analysis Decision 4**: Visualize the Relationship"
   ]
  },
  {
   "cell_type": "code",
   "execution_count": 61,
   "metadata": {
    "scrolled": false
   },
   "outputs": [],
   "source": [
    "# Plot the relationship between review count groups and average ratings\n",
    "plt.figure(figsize=(14, 8))\n",
    "plt.bar(review_count_vs_rating['rating_count_group'], review_count_vs_rating['rating'], color='skyblue')\n",
    "plt.xlabel('Review Count Groups')\n",
    "plt.ylabel('Average Rating')\n",
    "plt.title('Average Rating by Review Count Groups')\n",
    "plt.xticks(rotation=45)\n",
    "plt.show()"
   ]
  },
  {
   "cell_type": "markdown",
   "metadata": {},
   "source": [
    "The bar plot of average ratings by review count groups confirms this trend, with a gradual rise in average rating as review count increases, peaking at 50000-100000 reviews."
   ]
  },
  {
   "cell_type": "code",
   "execution_count": 62,
   "metadata": {
    "scrolled": false
   },
   "outputs": [],
   "source": [
    "plt.figure(figsize=(14,8))\n",
    "sns.boxplot(data=df_clean, x='rating_count_group', y='rating')\n",
    "plt.title('Box Plot of Ratings Across Review Count Bins')\n",
    "plt.xlabel('Number of Reviews (Binned)')\n",
    "plt.ylabel('Rating')\n",
    "plt.show()"
   ]
  },
  {
   "cell_type": "markdown",
   "metadata": {},
   "source": [
    "**Summary**: \n",
    "- Products with fewer reviews have more variability in their ratings (the spread is wider then higher review counts).\n",
    "- Products with moderate to higher reivews are more consistent and positive in their ratings, clustering around 4.0.\n",
    "- Products have 100.000+ reviews slide downward.\n",
    "- All data set reamin mostly positive (above 3.5)"
   ]
  },
  {
   "cell_type": "markdown",
   "metadata": {},
   "source": [
    "**Analysis Decision 5**: Correlation Analysis"
   ]
  },
  {
   "cell_type": "code",
   "execution_count": 63,
   "metadata": {},
   "outputs": [],
   "source": [
    "correlation = df_clean['rating_count'].corr(df_clean['rating'])\n",
    "print(f\"Correlation between Number of Reviews and rating: {correlation}\")"
   ]
  },
  {
   "cell_type": "code",
   "execution_count": 64,
   "metadata": {
    "scrolled": false
   },
   "outputs": [],
   "source": [
    "sns.scatterplot(x='rating',y='rating_count', data= df_clean, color = \"green\")\n",
    "plt.title(\"Relationship Between Number of Reviews and Ratings\")\n",
    "plt.xlabel('Rating')\n",
    "plt.ylabel(\"Number of Reviews\")\n",
    "plt.show()"
   ]
  },
  {
   "cell_type": "markdown",
   "metadata": {},
   "source": [
    "- The correlation value of 0.102 suggests that there is a slight positive relationship between the number of reviews and its rating, but this is very weak.\n",
    "- products with more reviews tend to have slightly higher ratings but the effect is minimal."
   ]
  },
  {
   "cell_type": "code",
   "execution_count": 65,
   "metadata": {
    "scrolled": true
   },
   "outputs": [],
   "source": [
    "# Group by rating categories and calculate the correlation\n",
    "grouped_by_rating = df_clean.groupby('mean_of_ratings').apply(\n",
    "    lambda x: x['rating_count'].corr(x['rating'])\n",
    ")\n",
    "\n",
    "print(grouped_by_rating)"
   ]
  },
  {
   "cell_type": "markdown",
   "metadata": {},
   "source": [
    "- Low-rated product has a moderate positive correlation (0.604), suggesting that among low-rated products, those with more reviews may have slightly higher ratings.\n",
    "- Average-rated product has weak positive correlation (0.211).\n",
    "- Good-rated product has very weak positive correlation (0.136).\n",
    "- Excellent-rated product has weak negative correlation (-0.065), indicating that for top-rated products, an increase in review count does not necessarily correlate with higher ratings."
   ]
  },
  {
   "cell_type": "code",
   "execution_count": 66,
   "metadata": {},
   "outputs": [],
   "source": [
    "review_count_vs_rating = df_clean.groupby('mean_of_ratings')['rating_count'].mean()\n",
    "print(review_count_vs_rating)"
   ]
  },
  {
   "cell_type": "markdown",
   "metadata": {},
   "source": [
    "- Average review count of low-rated products is only 199, indicating that lower-rated products are generally reviewed less.\n",
    "- Average review count of excellent-rated products is significantly higher at 22,619, indicating that highly-rated products tend to have more reviews, potentially reflecting greater popularity or satisfaction."
   ]
  },
  {
   "cell_type": "markdown",
   "metadata": {},
   "source": [
    "**Analysis Decision 6**: Build an SVM model"
   ]
  },
  {
   "cell_type": "markdown",
   "metadata": {},
   "source": [
    "**Reasoning** : \n",
    "- The dataset mostly has Excellent Ratings (4.0 - 4.5) and Exellent Ratings (4.5 - 5.0) so we cannot use Classification model.\n",
    "- The correlation between Numbers of Review and Rating is 0.102, indicating a very weak linear relationship. This suggests that the relationship might be non-linear."
   ]
  },
  {
   "cell_type": "code",
   "execution_count": 67,
   "metadata": {},
   "outputs": [],
   "source": [
    "# Log-transform the number of reviews to reduce skewness \n",
    "df_clean['log_number_of_reviews'] = np.log1p(df_clean['rating_count'])"
   ]
  },
  {
   "cell_type": "code",
   "execution_count": 68,
   "metadata": {},
   "outputs": [],
   "source": [
    "# Features and target\n",
    "X = df_clean[['log_number_of_reviews']]  # Number of reviews\n",
    "y = df_clean['rating']"
   ]
  },
  {
   "cell_type": "code",
   "execution_count": 69,
   "metadata": {},
   "outputs": [],
   "source": [
    "# Train-test split\n",
    "X_train, X_test, y_train, y_test = train_test_split(X, y, test_size=0.2, random_state=42)"
   ]
  },
  {
   "cell_type": "code",
   "execution_count": 70,
   "metadata": {},
   "outputs": [],
   "source": [
    "# Standardize the feature\n",
    "scaler = StandardScaler()\n",
    "X_train_scaled = scaler.fit_transform(X_train)\n",
    "X_test_scaled = scaler.transform(X_test)"
   ]
  },
  {
   "cell_type": "code",
   "execution_count": 71,
   "metadata": {},
   "outputs": [],
   "source": [
    "# Initialize and train the SVR model\n",
    "svr_model = SVR(kernel='rbf', C=1.0, epsilon=0.2)  # Adjust C and epsilon for better performance\n",
    "svr_model.fit(X_train_scaled, y_train)"
   ]
  },
  {
   "cell_type": "code",
   "execution_count": 72,
   "metadata": {},
   "outputs": [],
   "source": [
    "# Make predictions\n",
    "y_pred = svr_model.predict(X_test_scaled)"
   ]
  },
  {
   "cell_type": "code",
   "execution_count": 73,
   "metadata": {},
   "outputs": [],
   "source": [
    "# Evaluate model performance\n",
    "mse = mean_squared_error(y_test, y_pred)\n",
    "mae = mean_absolute_error(y_test, y_pred)\n",
    "r2 = r2_score(y_test, y_pred)"
   ]
  },
  {
   "cell_type": "code",
   "execution_count": 74,
   "metadata": {},
   "outputs": [],
   "source": [
    "print(f\"Mean Squared Error (MSE): {mse}\")\n",
    "print(f\"Mean Absolute Error (MAE): {mae}\")\n",
    "print(f\"R-squared (R²): {r2}\")"
   ]
  },
  {
   "cell_type": "markdown",
   "metadata": {},
   "source": [
    "**Mean Squared Error**:\n",
    "- The MSE represents the average squared difference between the predicted and actual ratings.\n",
    "- The MSE is quite small (0.067), suggesting a accurated predict"
   ]
  },
  {
   "cell_type": "markdown",
   "metadata": {},
   "source": [
    "**Mean Absolute Error**:\n",
    "- The MAE shows the average absolute error between predicted and actual ratings.\n",
    "- On average, the model's predictions are off by approximately 0.19 points"
   ]
  },
  {
   "cell_type": "markdown",
   "metadata": {},
   "source": [
    "**R-squared (R²)**:\n",
    "- The R-squared value indicates that the model explains about 5.18% of the variance in ratings based on the predictors.\n",
    "- While positive, this is still a very small proportion, suggesting there is room for improvement."
   ]
  },
  {
   "cell_type": "markdown",
   "metadata": {},
   "source": [
    "**Summary**:\n",
    "- Very Weak Relationship: The low R-squared indicates that the number of reviews alone does not strongly predict ratings. This weak relationship aligns with the low correlation coefficient (0.102).\n",
    "- This suggests that the number of reviews is not a major determinant of ratings. Additional features are likely needed to improve the model."
   ]
  },
  {
   "cell_type": "markdown",
   "metadata": {},
   "source": [
    "<a id='question3'></a>\n",
    "### Research Question 3:  Do higher-priced products receive better ratings than lower-priced ones?"
   ]
  },
  {
   "cell_type": "markdown",
   "metadata": {},
   "source": [
    "**Analysis Decision 1**: Create review count ranges."
   ]
  },
  {
   "cell_type": "code",
   "execution_count": 75,
   "metadata": {},
   "outputs": [],
   "source": [
    "plt.figure(figsize=(14, 8))\n",
    "sns.histplot(df_clean['discounted_price'], bins=30, kde=True)\n",
    "plt.title('Distribution of Rating')\n",
    "plt.xlabel('Discounted Price')\n",
    "plt.ylabel('Frequency')\n",
    "plt.show()"
   ]
  },
  {
   "cell_type": "markdown",
   "metadata": {},
   "source": [
    "**Analysis Decision 2**: Create review count ranges."
   ]
  },
  {
   "cell_type": "code",
   "execution_count": 76,
   "metadata": {},
   "outputs": [],
   "source": [
    "# Group by price category and calculate the mean rating\n",
    "price_rating_comparison = df_clean.groupby('price_category')['rating'].mean()\n",
    "print(price_rating_comparison)"
   ]
  },
  {
   "cell_type": "markdown",
   "metadata": {},
   "source": [
    "- Higher-priced products (4.11) have a slightly higher average rating than lower-priced products(4.08).\n",
    "- The difference is small (0.03), suggesting that price does not strongly influence rating."
   ]
  },
  {
   "cell_type": "code",
   "execution_count": 77,
   "metadata": {},
   "outputs": [],
   "source": [
    "df_clean.groupby('price_category')['rating'].describe()"
   ]
  },
  {
   "cell_type": "markdown",
   "metadata": {},
   "source": [
    "- Both prices have a similar spread of ratings\n",
    "- Higher-Priced products showing slightly less variation (lower standard deviation) than Lower-Priced products.\n",
    "- This suggests that higher-priced products tend to have more consistent ratings, though the difference is minor."
   ]
  },
  {
   "cell_type": "code",
   "execution_count": 78,
   "metadata": {
    "scrolled": false
   },
   "outputs": [],
   "source": [
    "# Create a boxplot for ratings by price category\n",
    "plt.figure(figsize=(14, 8))\n",
    "sns.boxplot(x='price_category', y='rating', data=df_clean)\n",
    "plt.title('Product Ratings by Price Category')\n",
    "plt.xlabel('Price Category')\n",
    "plt.ylabel('Product Rating')\n",
    "plt.show()"
   ]
  },
  {
   "cell_type": "markdown",
   "metadata": {},
   "source": [
    "- Higher-priced products tend to receive consistently good ratings with fewer very low ratings compared to lower-priced products, which exhibit more variability in ratings and have more instances of low ratings.\n",
    "- Median Rating remains the same in both price categories. It shows that customers generally rate products well regardless of price."
   ]
  },
  {
   "cell_type": "code",
   "execution_count": 79,
   "metadata": {},
   "outputs": [],
   "source": [
    "# Group by rating categories and calculate the correlation\n",
    "grouped_by_rating = df_clean.groupby('price_category').apply(\n",
    "    lambda x: x['actual_price'].corr(x['rating'])\n",
    ")\n",
    "\n",
    "print(grouped_by_rating)"
   ]
  },
  {
   "cell_type": "markdown",
   "metadata": {},
   "source": [
    "- Correlation between higher-priced products rating is 0.161, indicating a weak positive relationship between price and rating in this category.\n",
    "- Correlation between lower-priced products rating is 0.048, showing an even weaker positive relationship.\n",
    "- This suggests that within each group (Higher-Priced and Lower-Priced), products with higher prices tend to receive slightly better ratings, but the relationship is not strong."
   ]
  },
  {
   "cell_type": "markdown",
   "metadata": {},
   "source": [
    "**Analysis Decision 3**: Hypothesis Testing."
   ]
  },
  {
   "cell_type": "markdown",
   "metadata": {},
   "source": [
    "- Null Hypothesis ($H_0$): There is no significant difference in ratings between lower-priced and higher-priced products.\n",
    "- Alternative Hypothesis ($H_1$): Higher-priced products receive significantly different ratings."
   ]
  },
  {
   "cell_type": "code",
   "execution_count": 80,
   "metadata": {},
   "outputs": [],
   "source": [
    "# Create lower-priced and higher-priced groups\n",
    "lower_priced = df_clean[df_clean['price_category'] == 'Lower-Priced']\n",
    "higher_priced = df_clean[df_clean['price_category'] == 'Higher-Priced']"
   ]
  },
  {
   "cell_type": "code",
   "execution_count": 81,
   "metadata": {},
   "outputs": [],
   "source": [
    "# Perform t-test\n",
    "t_stat, p_value = ttest_ind(lower_priced['rating'], higher_priced['rating'])\n",
    "\n",
    "print(f\"T-Statistic: {t_stat}\")\n",
    "print(f\"P-Value: {p_value}\")"
   ]
  },
  {
   "cell_type": "markdown",
   "metadata": {},
   "source": [
    "- t_statistic is negative (-2.098), it shows that the mean rating of lower-priced products is lower than the mean rating of higher-priced products.\n",
    "- p-value is less than 0.05, we reject the null hypothesis, there is statistically significant difference in ratings between lower-priced and higher-price products."
   ]
  },
  {
   "cell_type": "markdown",
   "metadata": {},
   "source": [
    "**Summary**:\n",
    "- Higher-priced products tend to receive better ratings than lower-priced products, based on this analysis.\n",
    "- The difference is statistically significant at the 5% level, meaning there’s less than a 5% probability that this result is due to random chance."
   ]
  },
  {
   "cell_type": "markdown",
   "metadata": {},
   "source": [
    "**Analysis Decision 3**: Model the Relationship."
   ]
  },
  {
   "cell_type": "code",
   "execution_count": 82,
   "metadata": {},
   "outputs": [],
   "source": [
    "from sklearn.linear_model import LinearRegression\n",
    "\n",
    "X = df_clean[['actual_price']]\n",
    "y = df_clean['rating']\n",
    "\n",
    "model = LinearRegression()\n",
    "model.fit(X, y)\n",
    "\n",
    "print(f\"Regression Coefficient (Price): {model.coef_[0]}\")\n",
    "print(f\"Intercept: {model.intercept_}\")"
   ]
  },
  {
   "cell_type": "markdown",
   "metadata": {},
   "source": [
    "The price coefficient is very small (0.000005), so the effect of price on ratings is negligible."
   ]
  },
  {
   "cell_type": "code",
   "execution_count": 83,
   "metadata": {},
   "outputs": [],
   "source": [
    "r2 = r2_score(y_test, y_pred)"
   ]
  },
  {
   "cell_type": "code",
   "execution_count": 84,
   "metadata": {},
   "outputs": [],
   "source": [
    "print(f\"R-squared (R²): {r2}\")"
   ]
  },
  {
   "cell_type": "markdown",
   "metadata": {},
   "source": [
    "R-squared is very low, it shows that price alone is not a strong predictor of ratings."
   ]
  },
  {
   "cell_type": "markdown",
   "metadata": {},
   "source": [
    "<a id='question4'></a>\n",
    "### Research Question 4:  Do Products with Positive Sentiment in Reviews Have Higher Ratings ?<a href=\"#top\"></a>"
   ]
  },
  {
   "cell_type": "markdown",
   "metadata": {},
   "source": [
    "**Analysis Decision 1**: Group by Sentiment and Calculate the Average Rating"
   ]
  },
  {
   "cell_type": "code",
   "execution_count": 85,
   "metadata": {},
   "outputs": [],
   "source": [
    "# Group by sentiment and calculate the average rating\n",
    "sentiment_rating = df_clean.groupby('vader_sentiment')['rating'].mean().reset_index()\n",
    "print(sentiment_rating)"
   ]
  },
  {
   "cell_type": "markdown",
   "metadata": {},
   "source": [
    "- Products with positive sentiment in reviews have a higher average rating compared to those with neutral or negative sentiment. \n",
    "- The difference between negative and positive sentiment ratings is about 0.23 points, which indicates a noticeable increase in rating for positively perceived products."
   ]
  },
  {
   "cell_type": "code",
   "execution_count": 86,
   "metadata": {
    "scrolled": false
   },
   "outputs": [],
   "source": [
    "# Sentiment distribution\n",
    "sentiment_counts = df_clean['vader_sentiment'].value_counts()\n",
    "plt.figure(figsize=(14, 8))\n",
    "sns.barplot(x=sentiment_counts.index, y=sentiment_counts.values, palette='viridis')\n",
    "plt.title('Distribution of Review Sentiments')\n",
    "plt.xlabel('Sentiment')\n",
    "plt.ylabel('Count')\n",
    "plt.show()\n",
    "\n",
    "# Summary\n",
    "# - Most reviews express positive sentiment, aligning with the generally high ratings.\n",
    "# - Negative sentiment reviews are relatively low, reflecting lower instances of poor product experiences."
   ]
  },
  {
   "cell_type": "markdown",
   "metadata": {},
   "source": [
    "### Summary ###\n",
    "- Most reviews express positive sentiment, aligning with the generally high ratings.\n",
    "- Negative sentiment reviews are relatively low, reflecting lower instances of poor product experiences."
   ]
  },
  {
   "cell_type": "code",
   "execution_count": 87,
   "metadata": {},
   "outputs": [],
   "source": [
    "# Sentiment distribution by price category\n",
    "plt.figure(figsize=(14, 8))\n",
    "sns.countplot(x='price_category', hue='vader_sentiment', data=df_clean, palette='coolwarm')\n",
    "plt.title('Sentiment Distribution by Price Category')\n",
    "plt.xlabel('Price Category')\n",
    "plt.ylabel('Count')\n",
    "plt.show()"
   ]
  },
  {
   "cell_type": "code",
   "execution_count": 88,
   "metadata": {},
   "outputs": [],
   "source": [
    "# Compare average discount and rating across categories\n",
    "category_comparison = df_clean.groupby('main_category').agg({'discount_percentage': 'mean', 'rating': 'mean'}).reset_index()\n",
    "# Sort by discount_percentage in descending order\n",
    "category_comparison = category_comparison.sort_values(by='discount_percentage')\n",
    "plt.figure(figsize=(14, 8))\n",
    "sns.barplot(x='main_category', y='discount_percentage', data=category_comparison, color='lightblue', label='Average Discount %')\n",
    "sns.barplot(x='main_category', y='rating', data=category_comparison, alpha=0.5, color='darkblue', label='Average Rating')\n",
    "plt.xticks(rotation=45)\n",
    "plt.title('Average Discount Percentage and Rating by Category')\n",
    "plt.xlabel('Category')\n",
    "plt.legend()\n",
    "plt.show()"
   ]
  },
  {
   "cell_type": "code",
   "execution_count": 89,
   "metadata": {},
   "outputs": [],
   "source": [
    "# Bar plot for average rating by sentiment\n",
    "plt.figure(figsize=(14, 8))\n",
    "sns.barplot(x='vader_sentiment', y='rating', data=df_clean, estimator=np.mean)\n",
    "plt.title('Average Rating by Sentiment')\n",
    "plt.xlabel('Sentiment')\n",
    "plt.ylabel('Average Rating')\n",
    "plt.show()"
   ]
  },
  {
   "cell_type": "markdown",
   "metadata": {},
   "source": [
    "As the bar graph shows:\n",
    "- Products receive more positive reviews will also receive higher ratings.\n",
    "- Both neutral and negative sentiment products have fairly close average ratings, though slightly lower than positive ones.\n",
    "- This shows that neutral viewers aren't significantly driving up ratings, and negative feedback doesn't drastically reduce their rating either."
   ]
  },
  {
   "cell_type": "code",
   "execution_count": 90,
   "metadata": {},
   "outputs": [],
   "source": [
    "df_clean.groupby('vader_sentiment')['rating'].describe()"
   ]
  },
  {
   "cell_type": "markdown",
   "metadata": {},
   "source": [
    "- Positive sentiment reviews are associated with higher average ratings and slightly lower variability, suggesting that positive sentiment aligns with more consistent high ratings.\n",
    "- The standard deviation of Neutral and negative are quite big (0.4 and 0.6 compared with 0.3), it shows that customers who have neutral and negative reviews tend to have wider range in rating."
   ]
  },
  {
   "cell_type": "code",
   "execution_count": 91,
   "metadata": {},
   "outputs": [],
   "source": [
    "# Box plot to show the distribution of ratings by sentiment\n",
    "plt.figure(figsize=(14, 8))\n",
    "sns.boxplot(x='vader_sentiment', y='rating', data=df_clean)\n",
    "plt.title('Distribution of Ratings by Sentiment')\n",
    "plt.xlabel('Sentiment')\n",
    "plt.ylabel('Rating')\n",
    "plt.show()"
   ]
  },
  {
   "cell_type": "markdown",
   "metadata": {},
   "source": [
    "- Products with positive sentiment tend to have higher ratings, but there are still some lower-rated products with positive sentiment reviews.\n",
    "- Products with negative sentiment have a wider distribution of ratings, including some very low ratings, though the median is still relatively high.\n",
    "- The neutral sentiment group has a consistent range of ratings, without extreme highs or lows."
   ]
  },
  {
   "cell_type": "code",
   "execution_count": 92,
   "metadata": {},
   "outputs": [],
   "source": [
    "correlation = df_clean['vader_sentiment_score'].corr(df_clean['rating'])\n",
    "print(f\"Correlation between sentiment score and rating: {correlation}\")"
   ]
  },
  {
   "cell_type": "markdown",
   "metadata": {},
   "source": [
    "**Reasoning**:"
   ]
  },
  {
   "cell_type": "markdown",
   "metadata": {},
   "source": [
    "**Summary**: \n",
    "- Since the correlation is positive, it means that as the sentiment score increases (i.e., reviews become more positive), the product rating tends to increase as well. However, the correlation is relatively weak.\n",
    "- A correlation of 0.238 suggests that while there is a relationship between sentiment and rating, it is not very strong. This means other factors may also be influencing the product ratings apart from sentiment. It's possible that even with positive sentiment, product quality, expectations, or other factors might moderate the final rating a customer leaves."
   ]
  },
  {
   "cell_type": "markdown",
   "metadata": {},
   "source": [
    "**Analysis decision **: Statistical Test: ANOVA"
   ]
  },
  {
   "cell_type": "code",
   "execution_count": 93,
   "metadata": {},
   "outputs": [],
   "source": [
    "positive = df_clean[df_clean['vader_sentiment'] == 'Positive']['rating']\n",
    "negative = df_clean[df_clean['vader_sentiment'] == 'Negative']['rating']\n",
    "neutral = df_clean[df_clean['vader_sentiment'] == 'Neutral']['rating']\n",
    "\n",
    "# Perform one-way ANOVA\n",
    "anova_result = stats.f_oneway(positive, negative, neutral)\n",
    "print(f\"ANOVA result: {anova_result}\")"
   ]
  },
  {
   "cell_type": "markdown",
   "metadata": {},
   "source": [
    "1. F-statistic (24.996):\n",
    "\n",
    "- The F-statistic measures the variance between the groups (Positive, Negative, Neutral sentiments) compared to the variance within the groups.\n",
    "- A higher F-statistic suggests that the variance between groups is significantly larger than the variance within groups, indicating that the differences in the groups are meaningful.\n",
    "2. p-value (2.12e-11):\n",
    "\n",
    "- The p-value is extremely small, much lower than the commonly used significance threshold of 0.05.\n",
    "- This very low p-value indicates that the differences in ratings across the sentiment categories (Positive, Negative, and Neutral) are statistically significant.\n",
    "- Therefore, we reject the null hypothesis, which states that there is no difference in ratings based on sentiment. There is a significant difference in product ratings based on the sentiment expressed in the reviews."
   ]
  },
  {
   "cell_type": "markdown",
   "metadata": {},
   "source": [
    "<a id='question5'></a>\n",
    "### Research Question 5: Which Categories of Products Receive the Highest or Lowest Ratings ?"
   ]
  },
  {
   "cell_type": "code",
   "execution_count": 94,
   "metadata": {},
   "outputs": [],
   "source": [
    "df_clean['main_category'].value_counts()"
   ]
  },
  {
   "cell_type": "markdown",
   "metadata": {},
   "source": [
    "As we can see, `MusicalInstruments`, `HomeImprovement`, `Toys&Games`, `Car&Motorbike`, `Health&PersonalCare`, `OfficeProducts` have only 1 or 2 product, so we cannot analysis based on small sample size."
   ]
  },
  {
   "cell_type": "code",
   "execution_count": 95,
   "metadata": {
    "scrolled": true
   },
   "outputs": [],
   "source": [
    "# Count the number of products in each category\n",
    "category_counts = df_clean.groupby('main_category').size().reset_index(name='product_count')\n",
    "\n",
    "# Filter to get only categories with 3 or more products\n",
    "valid_categories = category_counts[category_counts['product_count'] >= 100]['main_category']\n",
    "\n",
    "# Filter the original DataFrame to include only these valid categories\n",
    "filtered_df = df_clean[df_clean['main_category'].isin(valid_categories)]\n",
    "\n",
    "# Display the filtered DataFrame\n",
    "print(filtered_df['main_category'].value_counts())"
   ]
  },
  {
   "cell_type": "markdown",
   "metadata": {},
   "source": [
    "Group by category_1"
   ]
  },
  {
   "cell_type": "code",
   "execution_count": 96,
   "metadata": {},
   "outputs": [],
   "source": [
    "# Group by category_1 and calculate the mean rating\n",
    "category_rating = filtered_df.groupby('main_category')['rating'].mean().reset_index()\n",
    "\n",
    "# Sort by rating to see highest and lowest\n",
    "category_rating = category_rating.sort_values(by='rating', ascending=False)\n",
    "print(category_rating)"
   ]
  },
  {
   "cell_type": "markdown",
   "metadata": {},
   "source": [
    "- All categories have relatively high ratings (above 4.0 on average)\n",
    "- Computers & Accessories stands out with the highest ratings, indicating a slightly better customer perception in this category."
   ]
  },
  {
   "cell_type": "code",
   "execution_count": 97,
   "metadata": {},
   "outputs": [],
   "source": [
    "# Bar plot of average ratings by product category\n",
    "plt.figure(figsize=(14, 8))\n",
    "sns.barplot(x='rating', y='main_category', data=filtered_df, hue='main_category', palette='viridis', dodge=False, legend=False)\n",
    "plt.title('Average Rating by Product Category')\n",
    "plt.xlabel('Average Rating')\n",
    "plt.ylabel('Product Category')\n",
    "plt.show()"
   ]
  },
  {
   "cell_type": "markdown",
   "metadata": {},
   "source": [
    "- All categories have average ratings above 4.0, suggesting a good level of customer satisfaction across the board.\n",
    "- Computers & Accessories leads slightly in customer satisfaction, possibly reflecting better perceived quality or value in this category compared to Electronics and Home & Kitchen."
   ]
  },
  {
   "cell_type": "code",
   "execution_count": 98,
   "metadata": {
    "scrolled": true
   },
   "outputs": [],
   "source": [
    "# Group by rating categories and calculate the correlation\n",
    "grouped_by_rating_cat = filtered_df.groupby(['main_category','mean_of_ratings']).apply(\n",
    "    lambda x: x['discount_percentage'].corr(x['rating']) if len(x) > 1 else None\n",
    ")\n",
    "\n",
    "print(grouped_by_rating_cat)"
   ]
  },
  {
   "cell_type": "markdown",
   "metadata": {},
   "source": [
    "**Summary**: \n",
    "- Electronics with low ratings show the strongest negative correlation (-0.842989), it shows that higher discounts are more common for lower-rated electronics.\n",
    "- Home & Kitchen Low-rated products (0.594894) and Computers & Accessories good-rated products (0.164417) show positive correlations, suggesting that discounts may be associated with better ratings in certain contexts within these categories.\n",
    "- Across all categories, the correlation between discounts and ratings is minimal for \"Excellent\" rated products, implying that discounts don’t significantly impact ratings for highly-rated items"
   ]
  },
  {
   "cell_type": "markdown",
   "metadata": {},
   "source": [
    "# <a id='conclusions'></a>\n",
    "## Conclusions\n",
    "\n",
    "\n",
    "1. Is there a relationship between discount percentage and average product rating ?\n",
    "- The relationship is weak negative between discount percentage and average product rating.\n",
    "- Lower-rated products often have higher discount, while higher-rate products seem not have significantly impact.\n",
    "2. Do products with more reviews have higher or lower average ratings?\n",
    "- There is a weak positive relationship between the number of reviews and average product ratings. Products with more reviews tend to have slightly higher ratings, but the effect is small.\n",
    "- Products with more reviews tend to have tighter rating distributions, suggesting that increased visibility may lead to more consistent ratings, potentially due to a larger and more diverse customer base.\n",
    "- Higher review counts have a stronger positive impact on lower-rated products, potentially helping improve their ratings slightly. However, for \"Excellent\" rated products, the effect of additional reviews on rating is minimal or even slightly negative.\n",
    "3. Do higher-priced products receive better ratings than lower-priced ones?\n",
    "- Higher-priced products receive better ratings than lower-priced products, but the difference is minimal, indicating that price alone is not a major determinant of product rating.\n",
    "- Higher-priced products show slightly more consistent ratings (lower standard deviation), suggesting that customers may have more stable expectations for higher-priced items.\n",
    "- The weak positive correlation between price and rating within both groups implies that customers slightly favor higher-priced products, but this effect is minor and likely influenced by other factors such as product quality or brand reputation.\n",
    "4. Do Products with Positive Sentiment in Reviews Have Higher Ratings?\n",
    "- Products with positive sentiment in reviews tend to have higher ratings compared to those with neutral or negative sentiment, confirming that sentiment is a useful indicator of product rating.\n",
    "- The ANOVA test confirms that these differences are statistically significant, suggesting that the sentiment expressed in reviews is a meaningful predictor of product rating.\n",
    "- For businesses, encouraging positive customer sentiment in reviews can positively impact product ratings. This highlights the importance of customer satisfaction and quality in maintaining high ratings.\n",
    "5. Which Categories of Products Receive the Highest or Lowest Ratings?\n",
    "- Computers & Accessories has the highest average rating (4.16), suggesting that this category generally has a higher level of customer satisfaction.\n",
    "- Home & Kitchen has the lowest average rating among the analyzed categories, though the difference is minimal, indicating that all three categories generally receive favorable ratings.\n",
    "- In Electronics and Computers & Accessories, lower-rated products tend to have higher discounts, which may indicate a strategy to boost sales or attractiveness despite lower customer satisfaction.\n",
    "- Home & Kitchen shows a unique pattern where low-rated products actually benefit in ratings with higher discounts, as indicated by the positive correlation for Low ratings.\n",
    "\n",
    "<a id='limit'></a>\n",
    "## Limitation\n",
    "\n",
    "- This source might not represent a comprehensive and unbiased sample of all movies. It is possible that some genres of movies are not represented.\n",
    "- The correlation does not imply causation. It will need more experiments and statistical analyses. The findings in this analysis provide associations but should not be interpreted as causal relationships."
   ]
  },
  {
   "cell_type": "code",
   "execution_count": 99,
   "metadata": {},
   "outputs": [],
   "source": [
    "from subprocess import run\n",
    "result = run(['python', '-m', 'nbconvert', '--to', 'html', 'Investigate_a_Dataset.ipynb'])\n",
    "print(\"Conversion successful!\" if result.returncode == 0 else \"Conversion failed.\")"
   ]
  },
  {
   "cell_type": "markdown",
   "metadata": {},
   "source": [
    "<a href=\"#top\" style=\"position: fixed; bottom: 10px; right: 10px; background-color: #28a745; color: white; padding: 8px 12px; border-radius: 5px; text-decoration: none; font-family: Arial;\">Return to Top</a>"
   ]
  }
 ],
 "metadata": {
  "kernelspec": {
   "display_name": "Python 3 (ipykernel)",
   "language": "python",
   "name": "python3"
  },
  "language_info": {
   "codemirror_mode": {
    "name": "ipython",
    "version": 3
   },
   "file_extension": ".py",
   "mimetype": "text/x-python",
   "name": "python",
   "nbconvert_exporter": "python",
   "pygments_lexer": "ipython3",
   "version": "3.9.15"
  }
 },
 "nbformat": 4,
 "nbformat_minor": 2
}
